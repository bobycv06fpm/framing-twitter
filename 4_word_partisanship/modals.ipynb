{
 "cells": [
  {
   "cell_type": "code",
   "execution_count": 1,
   "metadata": {
    "collapsed": true
   },
   "outputs": [],
   "source": [
    "%matplotlib inline\n",
    "import matplotlib.pyplot as plt\n",
    "import pandas as pd\n",
    "import numpy as np\n",
    "import json\n",
    "import operator\n",
    "import seaborn as sns\n",
    "from scipy.stats import ttest_1samp, ttest_ind\n",
    "from collections import Counter, defaultdict\n",
    "import math\n",
    "import sys\n",
    "sys.path.append('..')\n",
    "from helpers.funcs import *"
   ]
  },
  {
   "cell_type": "code",
   "execution_count": 2,
   "metadata": {
    "collapsed": true
   },
   "outputs": [],
   "source": [
    "config = json.load(open('../config.json', 'r'))\n",
    "INPUT_DIR = config['INPUT_DIR']\n",
    "OUTPUT_DIR = config['OUTPUT_DIR']\n",
    "TWEET_DIR = config['TWEET_DIR']\n",
    "NUM_CLUSTERS = config['NUM_CLUSTERS']\n",
    "cluster_names = {v:k for k, v in config['CLUSTER_NAMES'].items()}"
   ]
  },
  {
   "cell_type": "code",
   "execution_count": 3,
   "metadata": {
    "collapsed": true
   },
   "outputs": [],
   "source": [
    "events = open(INPUT_DIR + 'event_names.txt', 'r').read().splitlines()\n",
    "shooter_race = json.load(open(INPUT_DIR + \"shooters_race.json\",\"r\"))"
   ]
  },
  {
   "cell_type": "code",
   "execution_count": 4,
   "metadata": {
    "collapsed": true
   },
   "outputs": [],
   "source": [
    "def split_party(part_tweets):\n",
    "    return part_tweets[part_tweets['dem_follows'] > part_tweets['rep_follows']], part_tweets[part_tweets['dem_follows'] < part_tweets['rep_follows']]"
   ]
  },
  {
   "cell_type": "code",
   "execution_count": 5,
   "metadata": {
    "collapsed": true
   },
   "outputs": [],
   "source": [
    "def get_odds(tweets,  search):\n",
    "    total = len(tweets)\n",
    "    contains = tweets['text'].str.contains(search, case=False).sum()\n",
    "    return (contains + 1) / ((total - contains) + 1)"
   ]
  },
  {
   "cell_type": "code",
   "execution_count": 13,
   "metadata": {},
   "outputs": [
    {
     "name": "stdout",
     "output_type": "stream",
     "text": [
      "chattanooga\n",
      "roseburg\n",
      "colorado_springs\n",
      "san_bernardino\n",
      "kalamazoo\n",
      "orlando\n",
      "dallas\n",
      "baton_rouge\n",
      "burlington\n",
      "fort_lauderdale\n",
      "fresno\n",
      "san_francisco\n",
      "vegas\n",
      "thornton\n",
      "sutherland_springs\n",
      "parkland\n",
      "nashville\n",
      "santa_fe\n",
      "annapolis\n",
      "pittsburgh\n",
      "thousand_oaks\n"
     ]
    }
   ],
   "source": [
    "modal_list = []\n",
    "log_odds_list = []\n",
    "race = []\n",
    "\n",
    "for event in events:\n",
    "    print(event)\n",
    "    data = pd.read_csv(TWEET_DIR +event+'/'+event+'.csv', sep='\\t', lineterminator='\\n', usecols=['text', 'rep_follows', 'dem_follows', 'remove', 'isRT'])\n",
    "    # data['text'].str.contains(r'http|\\.com|www', case=False)\n",
    "    data = filter_retweets(data)\n",
    "    # get partisan tweets\n",
    "    data = data[~data['dem_follows'].isnull() & ~data['rep_follows'].isnull() & (data['dem_follows'] != data['rep_follows'])]\n",
    "    dem, rep = split_party(data)\n",
    "    modal_list.append('MUST')\n",
    "    log_odds_list.append(np.log(get_odds(rep, r\"\\bmust[n'’]?\\w*\\b\") / get_odds(dem, r\"\\bmust[n'’]?\\w*\\b\")))\n",
    "    race.append(shooter_race[event])\n",
    "    modal_list.append('SHOULD')\n",
    "    log_odds_list.append(np.log(get_odds(rep, r\"\\bshould[n'’]?\\w*\\b\") / get_odds(dem, r\"\\bshould[n'’]?\\w*\\b\")))\n",
    "    race.append(shooter_race[event])\n",
    "    modal_list.append('NEED TO')\n",
    "    log_odds_list.append(np.log(get_odds(rep, r\"\\bneed to\\b|\\bneeds to\\b\") / get_odds(dem, r\"\\bneed to\\b|\\bneeds to\\b\")))\n",
    "    race.append(shooter_race[event])    \n",
    "    modal_list.append('HAVE TO')\n",
    "    log_odds_list.append(np.log(get_odds(rep, r\"\\bhas to\\b|\\bhave to\\b\") / get_odds(dem, r\"\\bhas to\\b|\\bhave to\\b\")))\n",
    "    race.append(shooter_race[event])\n",
    "    "
   ]
  },
  {
   "cell_type": "code",
   "execution_count": 14,
   "metadata": {
    "collapsed": true
   },
   "outputs": [],
   "source": [
    "df = pd.DataFrame.from_dict({'modal':modal_list, 'log_odds':log_odds_list, 'race':race})"
   ]
  },
  {
   "cell_type": "code",
   "execution_count": 15,
   "metadata": {},
   "outputs": [
    {
     "name": "stdout",
     "output_type": "stream",
     "text": [
      "HAVE TO\n",
      "Ttest_1sampResult(statistic=-6.608889419465189, pvalue=1.9483181505360368e-06)\n",
      "MUST\n",
      "Ttest_1sampResult(statistic=-4.203676418304983, pvalue=0.00043694623689948805)\n",
      "NEED TO\n",
      "Ttest_1sampResult(statistic=-3.033095955178946, pvalue=0.0065672893980417086)\n",
      "SHOULD\n",
      "Ttest_1sampResult(statistic=-3.0886248018459046, pvalue=0.005792319868196137)\n"
     ]
    }
   ],
   "source": [
    "for i, g in df.groupby('modal'):\n",
    "    print(i)\n",
    "    print(ttest_1samp(np.array(g['log_odds']), 0))"
   ]
  },
  {
   "cell_type": "code",
   "execution_count": 16,
   "metadata": {},
   "outputs": [
    {
     "name": "stdout",
     "output_type": "stream",
     "text": [
      "HAVE TO\n",
      "-0.4693199862542427\n",
      "-0.2934380446273865\n",
      "Ttest_indResult(statistic=-1.5585228589745972, pvalue=0.13561062140526003)\n",
      "MUST\n",
      "-0.25018281827620564\n",
      "-0.30580190879543034\n",
      "Ttest_indResult(statistic=0.413214577707164, pvalue=0.6840756124210534)\n",
      "NEED TO\n",
      "-0.1495078887393656\n",
      "-0.20879674203541237\n",
      "Ttest_indResult(statistic=0.49567984707856083, pvalue=0.625804914721529)\n",
      "SHOULD\n",
      "-0.3082658293749805\n",
      "-0.04833108713173584\n",
      "Ttest_indResult(statistic=-2.4238580426013834, pvalue=0.025505278013628254)\n"
     ]
    }
   ],
   "source": [
    "for i, g in df.groupby('modal'):\n",
    "    print(i)\n",
    "    print(np.mean(np.array(g[g['race']=='white'].log_odds)))\n",
    "    print(np.mean(np.array(g[g['race']=='POC'].log_odds)))\n",
    "    print(ttest_ind(np.array(g[g['race']=='white'].log_odds), np.array(g[g['race']=='POC'].log_odds)))"
   ]
  },
  {
   "cell_type": "code",
   "execution_count": 8,
   "metadata": {},
   "outputs": [
    {
     "data": {
      "text/html": [
       "<div>\n",
       "<style scoped>\n",
       "    .dataframe tbody tr th:only-of-type {\n",
       "        vertical-align: middle;\n",
       "    }\n",
       "\n",
       "    .dataframe tbody tr th {\n",
       "        vertical-align: top;\n",
       "    }\n",
       "\n",
       "    .dataframe thead th {\n",
       "        text-align: right;\n",
       "    }\n",
       "</style>\n",
       "<table border=\"1\" class=\"dataframe\">\n",
       "  <thead>\n",
       "    <tr style=\"text-align: right;\">\n",
       "      <th></th>\n",
       "      <th>log_odds</th>\n",
       "    </tr>\n",
       "    <tr>\n",
       "      <th>modal</th>\n",
       "      <th></th>\n",
       "    </tr>\n",
       "  </thead>\n",
       "  <tbody>\n",
       "    <tr>\n",
       "      <th>HAVE TO</th>\n",
       "      <td>-0.392316</td>\n",
       "    </tr>\n",
       "    <tr>\n",
       "      <th>MUST</th>\n",
       "      <td>-0.209859</td>\n",
       "    </tr>\n",
       "    <tr>\n",
       "      <th>SHOULD</th>\n",
       "      <td>-0.161042</td>\n",
       "    </tr>\n",
       "    <tr>\n",
       "      <th>NEED TO</th>\n",
       "      <td>-0.128364</td>\n",
       "    </tr>\n",
       "  </tbody>\n",
       "</table>\n",
       "</div>"
      ],
      "text/plain": [
       "         log_odds\n",
       "modal            \n",
       "HAVE TO -0.392316\n",
       "MUST    -0.209859\n",
       "SHOULD  -0.161042\n",
       "NEED TO -0.128364"
      ]
     },
     "execution_count": 8,
     "metadata": {},
     "output_type": "execute_result"
    }
   ],
   "source": [
    "df.groupby('modal').median().sort_values('log_odds')"
   ]
  },
  {
   "cell_type": "code",
   "execution_count": 9,
   "metadata": {},
   "outputs": [
    {
     "data": {
      "text/html": [
       "<div>\n",
       "<style scoped>\n",
       "    .dataframe tbody tr th:only-of-type {\n",
       "        vertical-align: middle;\n",
       "    }\n",
       "\n",
       "    .dataframe tbody tr th {\n",
       "        vertical-align: top;\n",
       "    }\n",
       "\n",
       "    .dataframe thead th {\n",
       "        text-align: right;\n",
       "    }\n",
       "</style>\n",
       "<table border=\"1\" class=\"dataframe\">\n",
       "  <thead>\n",
       "    <tr style=\"text-align: right;\">\n",
       "      <th></th>\n",
       "      <th>log_odds</th>\n",
       "    </tr>\n",
       "    <tr>\n",
       "      <th>modal</th>\n",
       "      <th></th>\n",
       "    </tr>\n",
       "  </thead>\n",
       "  <tbody>\n",
       "    <tr>\n",
       "      <th>HAVE TO</th>\n",
       "      <td>-0.385567</td>\n",
       "    </tr>\n",
       "    <tr>\n",
       "      <th>MUST</th>\n",
       "      <td>-0.276668</td>\n",
       "    </tr>\n",
       "    <tr>\n",
       "      <th>SHOULD</th>\n",
       "      <td>-0.184487</td>\n",
       "    </tr>\n",
       "    <tr>\n",
       "      <th>NEED TO</th>\n",
       "      <td>-0.177741</td>\n",
       "    </tr>\n",
       "  </tbody>\n",
       "</table>\n",
       "</div>"
      ],
      "text/plain": [
       "         log_odds\n",
       "modal            \n",
       "HAVE TO -0.385567\n",
       "MUST    -0.276668\n",
       "SHOULD  -0.184487\n",
       "NEED TO -0.177741"
      ]
     },
     "execution_count": 9,
     "metadata": {},
     "output_type": "execute_result"
    }
   ],
   "source": [
    "df.groupby('modal').mean().sort_values('log_odds')"
   ]
  },
  {
   "cell_type": "code",
   "execution_count": 10,
   "metadata": {},
   "outputs": [
    {
     "data": {
      "text/plain": [
       "[None, None]"
      ]
     },
     "execution_count": 10,
     "metadata": {},
     "output_type": "execute_result"
    },
    {
     "data": {
      "image/png": "[encoded data removed]",
      "text/plain": [
       "<Figure size 2000x1000 with 1 Axes>"
      ]
     },
     "metadata": {},
     "output_type": "display_data"
    }
   ],
   "source": [
    "f = plt.figure(dpi=400, figsize=(5,2.5))\n",
    "ax = sns.violinplot(data=df, x=\"log_odds\",y=\"modal\", hue='race', fliersize=1, linewidth=1, split=True, order=reversed(df.groupby('modal').median().sort_values('log_odds').index), orient=\"h\", palette=sns.color_palette(\"YlGnBu\", 2))\n",
    "ax.set_ylabel('')\n",
    "ax.spines['top'].set_linewidth(0.4)\n",
    "ax.spines['right'].set_linewidth(0.4)\n",
    "ax.spines['bottom'].set_linewidth(0.4)\n",
    "ax.spines['left'].set_linewidth(0.4)\n",
    "plt.axvline(x=0, color='grey')\n",
    "ax.set_xlabel('Log odds ratio\\n(Democrat < 0 < Republican)')\n",
    "legend = ax.legend(loc='upper left', title=\"Shooter's race\", fontsize=7)\n",
    "plt.setp(legend.get_title(),fontsize='x-small')"
   ]
  },
  {
   "cell_type": "markdown",
   "metadata": {
    "collapsed": true
   },
   "source": [
    "# distribution of modals across topics"
   ]
  },
  {
   "cell_type": "code",
   "execution_count": 16,
   "metadata": {
    "scrolled": true
   },
   "outputs": [
    {
     "name": "stdout",
     "output_type": "stream",
     "text": [
      "chattanooga\n",
      "MUST\n",
      "SHOULD\n",
      "NEED TO\n",
      "HAS TO\n",
      "roseburg\n",
      "MUST\n",
      "SHOULD\n",
      "NEED TO\n",
      "HAS TO\n",
      "colorado_springs\n",
      "MUST\n",
      "SHOULD\n",
      "NEED TO\n",
      "HAS TO\n",
      "san_bernardino\n",
      "MUST\n",
      "SHOULD\n",
      "NEED TO\n",
      "HAS TO\n",
      "kalamazoo\n",
      "MUST\n",
      "SHOULD\n",
      "NEED TO\n",
      "HAS TO\n",
      "orlando\n",
      "MUST\n",
      "SHOULD\n",
      "NEED TO\n",
      "HAS TO\n",
      "dallas\n",
      "MUST\n",
      "SHOULD\n",
      "NEED TO\n",
      "HAS TO\n",
      "baton_rouge\n",
      "MUST\n",
      "SHOULD\n",
      "NEED TO\n",
      "HAS TO\n",
      "burlington\n",
      "MUST\n",
      "SHOULD\n",
      "NEED TO\n",
      "HAS TO\n",
      "fort_lauderdale\n",
      "MUST\n",
      "SHOULD\n",
      "NEED TO\n",
      "HAS TO\n",
      "fresno\n",
      "MUST\n",
      "SHOULD\n",
      "NEED TO\n",
      "HAS TO\n",
      "san_francisco\n",
      "MUST\n",
      "SHOULD\n",
      "NEED TO\n",
      "HAS TO\n",
      "vegas\n",
      "MUST\n",
      "SHOULD\n",
      "NEED TO\n",
      "HAS TO\n",
      "thornton\n",
      "MUST\n",
      "SHOULD\n",
      "NEED TO\n",
      "HAS TO\n",
      "sutherland_springs\n",
      "MUST\n",
      "SHOULD\n",
      "NEED TO\n",
      "HAS TO\n",
      "parkland\n",
      "MUST\n",
      "SHOULD\n",
      "NEED TO\n",
      "HAS TO\n",
      "nashville\n",
      "MUST\n",
      "SHOULD\n",
      "NEED TO\n",
      "HAS TO\n",
      "santa_fe\n",
      "MUST\n",
      "SHOULD\n",
      "NEED TO\n",
      "HAS TO\n",
      "annapolis\n",
      "MUST\n",
      "SHOULD\n",
      "NEED TO\n",
      "HAS TO\n",
      "pittsburgh\n",
      "MUST\n",
      "SHOULD\n",
      "NEED TO\n",
      "HAS TO\n",
      "thousand_oaks\n",
      "MUST\n",
      "SHOULD\n",
      "NEED TO\n",
      "HAS TO\n"
     ]
    }
   ],
   "source": [
    "modal_list = []\n",
    "topic_list = []\n",
    "value_list = []\n",
    "event_list = []\n",
    "\n",
    "def print_distr(event, name, s, total_props):\n",
    "    print(name)\n",
    "    b = np.bincount(s['topic'])\n",
    "    vals = (b / np.sum(b)) / total_props\n",
    "    #print(((b / np.sum(b)) / total_props))\n",
    "    for i in range(NUM_CLUSTERS):\n",
    "        topic_list.append(cluster_names[i])\n",
    "        value_list.append(vals[i])\n",
    "        modal_list.append(name)\n",
    "        event_list.append(event)\n",
    "        \n",
    "\n",
    "for event in events:\n",
    "    print(event)\n",
    "    data = pd.read_csv(TWEET_DIR + event + '/' + event + '.csv', sep='\\t', lineterminator='\\n',\n",
    "                       usecols=['user_id', 'text'])\n",
    "    data = get_cluster_assignments(event, data, 'relative')\n",
    "    total_props = np.bincount(data['topic']) / np.sum(np.bincount(data['topic']))\n",
    "\n",
    "    s = data[data['text'].str.contains(r\"\\bmust[n'’]?\\w*\\b\", case=False)]\n",
    "    try:\n",
    "        print_distr(event, 'MUST', s, total_props)\n",
    "    except:\n",
    "        pass\n",
    "    \n",
    "    s = data[data['text'].str.contains(r\"\\bshould[n'’]?\\w*\\b\", case=False)]\n",
    "    try:\n",
    "        print_distr(event, 'SHOULD', s, total_props)\n",
    "    except:\n",
    "        pass\n",
    "    \n",
    "    s = data[data['text'].str.contains(r\"\\bneed to\\b|\\bneeds to\\b\", case=False)]\n",
    "    try:\n",
    "        print_distr(event, 'NEED TO', s, total_props)\n",
    "    except:\n",
    "        pass\n",
    "    s = data[data['text'].str.contains(r\"\\bhas to\\b|\\bhave to\\b\", case=False)]\n",
    "    try:\n",
    "        print_distr(event, 'HAS TO', s, total_props)\n",
    "    except:\n",
    "        pass\n",
    "    \n",
    "    #s = data[data['text'].str.contains(r\"\\bcan[n'’]?\\w*\\b\", case=False)]\n",
    "    #try:\n",
    "    #    print_distr(event, 'CAN', s, total_props)\n",
    "    #except:\n",
    "    #    pass"
   ]
  },
  {
   "cell_type": "code",
   "execution_count": 18,
   "metadata": {
    "collapsed": true
   },
   "outputs": [],
   "source": [
    "df = pd.DataFrame.from_dict({'modal':modal_list, 'proportion':value_list, 'topic':topic_list, 'event':event_list})"
   ]
  },
  {
   "cell_type": "code",
   "execution_count": 19,
   "metadata": {
    "collapsed": true
   },
   "outputs": [],
   "source": [
    "df.to_csv(OUTPUT_DIR + 'modal_distributions.csv')"
   ]
  },
  {
   "cell_type": "code",
   "execution_count": 20,
   "metadata": {},
   "outputs": [
    {
     "data": {
      "text/html": [
       "<div>\n",
       "<style scoped>\n",
       "    .dataframe tbody tr th:only-of-type {\n",
       "        vertical-align: middle;\n",
       "    }\n",
       "\n",
       "    .dataframe tbody tr th {\n",
       "        vertical-align: top;\n",
       "    }\n",
       "\n",
       "    .dataframe thead th {\n",
       "        text-align: right;\n",
       "    }\n",
       "</style>\n",
       "<table border=\"1\" class=\"dataframe\">\n",
       "  <thead>\n",
       "    <tr style=\"text-align: right;\">\n",
       "      <th></th>\n",
       "      <th>modal</th>\n",
       "      <th>proportion</th>\n",
       "      <th>topic</th>\n",
       "      <th>event</th>\n",
       "    </tr>\n",
       "  </thead>\n",
       "  <tbody>\n",
       "    <tr>\n",
       "      <th>0</th>\n",
       "      <td>MUST</td>\n",
       "      <td>1.279851</td>\n",
       "      <td>shooter's identity\\n&amp; ideology</td>\n",
       "      <td>chattanooga</td>\n",
       "    </tr>\n",
       "    <tr>\n",
       "      <th>1</th>\n",
       "      <td>MUST</td>\n",
       "      <td>0.538147</td>\n",
       "      <td>news</td>\n",
       "      <td>chattanooga</td>\n",
       "    </tr>\n",
       "    <tr>\n",
       "      <th>2</th>\n",
       "      <td>MUST</td>\n",
       "      <td>0.000000</td>\n",
       "      <td>victims &amp; location</td>\n",
       "      <td>chattanooga</td>\n",
       "    </tr>\n",
       "    <tr>\n",
       "      <th>3</th>\n",
       "      <td>MUST</td>\n",
       "      <td>2.323887</td>\n",
       "      <td>laws &amp; policy</td>\n",
       "      <td>chattanooga</td>\n",
       "    </tr>\n",
       "    <tr>\n",
       "      <th>4</th>\n",
       "      <td>MUST</td>\n",
       "      <td>0.968246</td>\n",
       "      <td>investigation</td>\n",
       "      <td>chattanooga</td>\n",
       "    </tr>\n",
       "    <tr>\n",
       "      <th>5</th>\n",
       "      <td>MUST</td>\n",
       "      <td>0.756667</td>\n",
       "      <td>solidarity</td>\n",
       "      <td>chattanooga</td>\n",
       "    </tr>\n",
       "    <tr>\n",
       "      <th>6</th>\n",
       "      <td>MUST</td>\n",
       "      <td>0.559113</td>\n",
       "      <td>remembrance</td>\n",
       "      <td>chattanooga</td>\n",
       "    </tr>\n",
       "    <tr>\n",
       "      <th>7</th>\n",
       "      <td>MUST</td>\n",
       "      <td>0.664835</td>\n",
       "      <td>other</td>\n",
       "      <td>chattanooga</td>\n",
       "    </tr>\n",
       "    <tr>\n",
       "      <th>8</th>\n",
       "      <td>SHOULD</td>\n",
       "      <td>0.705059</td>\n",
       "      <td>shooter's identity\\n&amp; ideology</td>\n",
       "      <td>chattanooga</td>\n",
       "    </tr>\n",
       "    <tr>\n",
       "      <th>9</th>\n",
       "      <td>SHOULD</td>\n",
       "      <td>0.142320</td>\n",
       "      <td>news</td>\n",
       "      <td>chattanooga</td>\n",
       "    </tr>\n",
       "    <tr>\n",
       "      <th>10</th>\n",
       "      <td>SHOULD</td>\n",
       "      <td>0.294805</td>\n",
       "      <td>victims &amp; location</td>\n",
       "      <td>chattanooga</td>\n",
       "    </tr>\n",
       "    <tr>\n",
       "      <th>11</th>\n",
       "      <td>SHOULD</td>\n",
       "      <td>3.401195</td>\n",
       "      <td>laws &amp; policy</td>\n",
       "      <td>chattanooga</td>\n",
       "    </tr>\n",
       "    <tr>\n",
       "      <th>12</th>\n",
       "      <td>SHOULD</td>\n",
       "      <td>0.402388</td>\n",
       "      <td>investigation</td>\n",
       "      <td>chattanooga</td>\n",
       "    </tr>\n",
       "    <tr>\n",
       "      <th>13</th>\n",
       "      <td>SHOULD</td>\n",
       "      <td>0.415086</td>\n",
       "      <td>solidarity</td>\n",
       "      <td>chattanooga</td>\n",
       "    </tr>\n",
       "    <tr>\n",
       "      <th>14</th>\n",
       "      <td>SHOULD</td>\n",
       "      <td>0.999143</td>\n",
       "      <td>remembrance</td>\n",
       "      <td>chattanooga</td>\n",
       "    </tr>\n",
       "    <tr>\n",
       "      <th>15</th>\n",
       "      <td>SHOULD</td>\n",
       "      <td>1.202697</td>\n",
       "      <td>other</td>\n",
       "      <td>chattanooga</td>\n",
       "    </tr>\n",
       "    <tr>\n",
       "      <th>16</th>\n",
       "      <td>NEED TO</td>\n",
       "      <td>0.739478</td>\n",
       "      <td>shooter's identity\\n&amp; ideology</td>\n",
       "      <td>chattanooga</td>\n",
       "    </tr>\n",
       "    <tr>\n",
       "      <th>17</th>\n",
       "      <td>NEED TO</td>\n",
       "      <td>0.194474</td>\n",
       "      <td>news</td>\n",
       "      <td>chattanooga</td>\n",
       "    </tr>\n",
       "    <tr>\n",
       "      <th>18</th>\n",
       "      <td>NEED TO</td>\n",
       "      <td>0.000000</td>\n",
       "      <td>victims &amp; location</td>\n",
       "      <td>chattanooga</td>\n",
       "    </tr>\n",
       "    <tr>\n",
       "      <th>19</th>\n",
       "      <td>NEED TO</td>\n",
       "      <td>3.715207</td>\n",
       "      <td>laws &amp; policy</td>\n",
       "      <td>chattanooga</td>\n",
       "    </tr>\n",
       "    <tr>\n",
       "      <th>20</th>\n",
       "      <td>NEED TO</td>\n",
       "      <td>0.360837</td>\n",
       "      <td>investigation</td>\n",
       "      <td>chattanooga</td>\n",
       "    </tr>\n",
       "    <tr>\n",
       "      <th>21</th>\n",
       "      <td>NEED TO</td>\n",
       "      <td>0.481259</td>\n",
       "      <td>solidarity</td>\n",
       "      <td>chattanooga</td>\n",
       "    </tr>\n",
       "    <tr>\n",
       "      <th>22</th>\n",
       "      <td>NEED TO</td>\n",
       "      <td>0.500076</td>\n",
       "      <td>remembrance</td>\n",
       "      <td>chattanooga</td>\n",
       "    </tr>\n",
       "    <tr>\n",
       "      <th>23</th>\n",
       "      <td>NEED TO</td>\n",
       "      <td>1.165952</td>\n",
       "      <td>other</td>\n",
       "      <td>chattanooga</td>\n",
       "    </tr>\n",
       "    <tr>\n",
       "      <th>24</th>\n",
       "      <td>HAS TO</td>\n",
       "      <td>0.840395</td>\n",
       "      <td>shooter's identity\\n&amp; ideology</td>\n",
       "      <td>chattanooga</td>\n",
       "    </tr>\n",
       "    <tr>\n",
       "      <th>25</th>\n",
       "      <td>HAS TO</td>\n",
       "      <td>0.065778</td>\n",
       "      <td>news</td>\n",
       "      <td>chattanooga</td>\n",
       "    </tr>\n",
       "    <tr>\n",
       "      <th>26</th>\n",
       "      <td>HAS TO</td>\n",
       "      <td>0.953782</td>\n",
       "      <td>victims &amp; location</td>\n",
       "      <td>chattanooga</td>\n",
       "    </tr>\n",
       "    <tr>\n",
       "      <th>27</th>\n",
       "      <td>HAS TO</td>\n",
       "      <td>2.513228</td>\n",
       "      <td>laws &amp; policy</td>\n",
       "      <td>chattanooga</td>\n",
       "    </tr>\n",
       "    <tr>\n",
       "      <th>28</th>\n",
       "      <td>HAS TO</td>\n",
       "      <td>0.162730</td>\n",
       "      <td>investigation</td>\n",
       "      <td>chattanooga</td>\n",
       "    </tr>\n",
       "    <tr>\n",
       "      <th>29</th>\n",
       "      <td>HAS TO</td>\n",
       "      <td>0.935978</td>\n",
       "      <td>solidarity</td>\n",
       "      <td>chattanooga</td>\n",
       "    </tr>\n",
       "    <tr>\n",
       "      <th>...</th>\n",
       "      <td>...</td>\n",
       "      <td>...</td>\n",
       "      <td>...</td>\n",
       "      <td>...</td>\n",
       "    </tr>\n",
       "    <tr>\n",
       "      <th>642</th>\n",
       "      <td>MUST</td>\n",
       "      <td>0.537338</td>\n",
       "      <td>victims &amp; location</td>\n",
       "      <td>thousand_oaks</td>\n",
       "    </tr>\n",
       "    <tr>\n",
       "      <th>643</th>\n",
       "      <td>MUST</td>\n",
       "      <td>3.074417</td>\n",
       "      <td>laws &amp; policy</td>\n",
       "      <td>thousand_oaks</td>\n",
       "    </tr>\n",
       "    <tr>\n",
       "      <th>644</th>\n",
       "      <td>MUST</td>\n",
       "      <td>0.000000</td>\n",
       "      <td>investigation</td>\n",
       "      <td>thousand_oaks</td>\n",
       "    </tr>\n",
       "    <tr>\n",
       "      <th>645</th>\n",
       "      <td>MUST</td>\n",
       "      <td>1.868826</td>\n",
       "      <td>solidarity</td>\n",
       "      <td>thousand_oaks</td>\n",
       "    </tr>\n",
       "    <tr>\n",
       "      <th>646</th>\n",
       "      <td>MUST</td>\n",
       "      <td>0.487062</td>\n",
       "      <td>remembrance</td>\n",
       "      <td>thousand_oaks</td>\n",
       "    </tr>\n",
       "    <tr>\n",
       "      <th>647</th>\n",
       "      <td>MUST</td>\n",
       "      <td>0.658940</td>\n",
       "      <td>other</td>\n",
       "      <td>thousand_oaks</td>\n",
       "    </tr>\n",
       "    <tr>\n",
       "      <th>648</th>\n",
       "      <td>SHOULD</td>\n",
       "      <td>0.396694</td>\n",
       "      <td>shooter's identity\\n&amp; ideology</td>\n",
       "      <td>thousand_oaks</td>\n",
       "    </tr>\n",
       "    <tr>\n",
       "      <th>649</th>\n",
       "      <td>SHOULD</td>\n",
       "      <td>0.164797</td>\n",
       "      <td>news</td>\n",
       "      <td>thousand_oaks</td>\n",
       "    </tr>\n",
       "    <tr>\n",
       "      <th>650</th>\n",
       "      <td>SHOULD</td>\n",
       "      <td>0.243546</td>\n",
       "      <td>victims &amp; location</td>\n",
       "      <td>thousand_oaks</td>\n",
       "    </tr>\n",
       "    <tr>\n",
       "      <th>651</th>\n",
       "      <td>SHOULD</td>\n",
       "      <td>3.894071</td>\n",
       "      <td>laws &amp; policy</td>\n",
       "      <td>thousand_oaks</td>\n",
       "    </tr>\n",
       "    <tr>\n",
       "      <th>652</th>\n",
       "      <td>SHOULD</td>\n",
       "      <td>1.936171</td>\n",
       "      <td>investigation</td>\n",
       "      <td>thousand_oaks</td>\n",
       "    </tr>\n",
       "    <tr>\n",
       "      <th>653</th>\n",
       "      <td>SHOULD</td>\n",
       "      <td>1.066640</td>\n",
       "      <td>solidarity</td>\n",
       "      <td>thousand_oaks</td>\n",
       "    </tr>\n",
       "    <tr>\n",
       "      <th>654</th>\n",
       "      <td>SHOULD</td>\n",
       "      <td>0.392460</td>\n",
       "      <td>remembrance</td>\n",
       "      <td>thousand_oaks</td>\n",
       "    </tr>\n",
       "    <tr>\n",
       "      <th>655</th>\n",
       "      <td>SHOULD</td>\n",
       "      <td>2.098292</td>\n",
       "      <td>other</td>\n",
       "      <td>thousand_oaks</td>\n",
       "    </tr>\n",
       "    <tr>\n",
       "      <th>656</th>\n",
       "      <td>NEED TO</td>\n",
       "      <td>0.159914</td>\n",
       "      <td>shooter's identity\\n&amp; ideology</td>\n",
       "      <td>thousand_oaks</td>\n",
       "    </tr>\n",
       "    <tr>\n",
       "      <th>657</th>\n",
       "      <td>NEED TO</td>\n",
       "      <td>0.066432</td>\n",
       "      <td>news</td>\n",
       "      <td>thousand_oaks</td>\n",
       "    </tr>\n",
       "    <tr>\n",
       "      <th>658</th>\n",
       "      <td>NEED TO</td>\n",
       "      <td>0.071997</td>\n",
       "      <td>victims &amp; location</td>\n",
       "      <td>thousand_oaks</td>\n",
       "    </tr>\n",
       "    <tr>\n",
       "      <th>659</th>\n",
       "      <td>NEED TO</td>\n",
       "      <td>3.431925</td>\n",
       "      <td>laws &amp; policy</td>\n",
       "      <td>thousand_oaks</td>\n",
       "    </tr>\n",
       "    <tr>\n",
       "      <th>660</th>\n",
       "      <td>NEED TO</td>\n",
       "      <td>0.156100</td>\n",
       "      <td>investigation</td>\n",
       "      <td>thousand_oaks</td>\n",
       "    </tr>\n",
       "    <tr>\n",
       "      <th>661</th>\n",
       "      <td>NEED TO</td>\n",
       "      <td>2.898563</td>\n",
       "      <td>solidarity</td>\n",
       "      <td>thousand_oaks</td>\n",
       "    </tr>\n",
       "    <tr>\n",
       "      <th>662</th>\n",
       "      <td>NEED TO</td>\n",
       "      <td>0.059327</td>\n",
       "      <td>remembrance</td>\n",
       "      <td>thousand_oaks</td>\n",
       "    </tr>\n",
       "    <tr>\n",
       "      <th>663</th>\n",
       "      <td>NEED TO</td>\n",
       "      <td>1.759622</td>\n",
       "      <td>other</td>\n",
       "      <td>thousand_oaks</td>\n",
       "    </tr>\n",
       "    <tr>\n",
       "      <th>664</th>\n",
       "      <td>HAS TO</td>\n",
       "      <td>0.397001</td>\n",
       "      <td>shooter's identity\\n&amp; ideology</td>\n",
       "      <td>thousand_oaks</td>\n",
       "    </tr>\n",
       "    <tr>\n",
       "      <th>665</th>\n",
       "      <td>HAS TO</td>\n",
       "      <td>0.329849</td>\n",
       "      <td>news</td>\n",
       "      <td>thousand_oaks</td>\n",
       "    </tr>\n",
       "    <tr>\n",
       "      <th>666</th>\n",
       "      <td>HAS TO</td>\n",
       "      <td>0.190925</td>\n",
       "      <td>victims &amp; location</td>\n",
       "      <td>thousand_oaks</td>\n",
       "    </tr>\n",
       "    <tr>\n",
       "      <th>667</th>\n",
       "      <td>HAS TO</td>\n",
       "      <td>2.636262</td>\n",
       "      <td>laws &amp; policy</td>\n",
       "      <td>thousand_oaks</td>\n",
       "    </tr>\n",
       "    <tr>\n",
       "      <th>668</th>\n",
       "      <td>HAS TO</td>\n",
       "      <td>0.193767</td>\n",
       "      <td>investigation</td>\n",
       "      <td>thousand_oaks</td>\n",
       "    </tr>\n",
       "    <tr>\n",
       "      <th>669</th>\n",
       "      <td>HAS TO</td>\n",
       "      <td>2.298189</td>\n",
       "      <td>solidarity</td>\n",
       "      <td>thousand_oaks</td>\n",
       "    </tr>\n",
       "    <tr>\n",
       "      <th>670</th>\n",
       "      <td>HAS TO</td>\n",
       "      <td>0.073643</td>\n",
       "      <td>remembrance</td>\n",
       "      <td>thousand_oaks</td>\n",
       "    </tr>\n",
       "    <tr>\n",
       "      <th>671</th>\n",
       "      <td>HAS TO</td>\n",
       "      <td>2.667045</td>\n",
       "      <td>other</td>\n",
       "      <td>thousand_oaks</td>\n",
       "    </tr>\n",
       "  </tbody>\n",
       "</table>\n",
       "<p>672 rows × 4 columns</p>\n",
       "</div>"
      ],
      "text/plain": [
       "       modal  proportion                           topic          event\n",
       "0       MUST    1.279851  shooter's identity\\n& ideology    chattanooga\n",
       "1       MUST    0.538147                            news    chattanooga\n",
       "2       MUST    0.000000              victims & location    chattanooga\n",
       "3       MUST    2.323887                   laws & policy    chattanooga\n",
       "4       MUST    0.968246                   investigation    chattanooga\n",
       "5       MUST    0.756667                      solidarity    chattanooga\n",
       "6       MUST    0.559113                     remembrance    chattanooga\n",
       "7       MUST    0.664835                           other    chattanooga\n",
       "8     SHOULD    0.705059  shooter's identity\\n& ideology    chattanooga\n",
       "9     SHOULD    0.142320                            news    chattanooga\n",
       "10    SHOULD    0.294805              victims & location    chattanooga\n",
       "11    SHOULD    3.401195                   laws & policy    chattanooga\n",
       "12    SHOULD    0.402388                   investigation    chattanooga\n",
       "13    SHOULD    0.415086                      solidarity    chattanooga\n",
       "14    SHOULD    0.999143                     remembrance    chattanooga\n",
       "15    SHOULD    1.202697                           other    chattanooga\n",
       "16   NEED TO    0.739478  shooter's identity\\n& ideology    chattanooga\n",
       "17   NEED TO    0.194474                            news    chattanooga\n",
       "18   NEED TO    0.000000              victims & location    chattanooga\n",
       "19   NEED TO    3.715207                   laws & policy    chattanooga\n",
       "20   NEED TO    0.360837                   investigation    chattanooga\n",
       "21   NEED TO    0.481259                      solidarity    chattanooga\n",
       "22   NEED TO    0.500076                     remembrance    chattanooga\n",
       "23   NEED TO    1.165952                           other    chattanooga\n",
       "24    HAS TO    0.840395  shooter's identity\\n& ideology    chattanooga\n",
       "25    HAS TO    0.065778                            news    chattanooga\n",
       "26    HAS TO    0.953782              victims & location    chattanooga\n",
       "27    HAS TO    2.513228                   laws & policy    chattanooga\n",
       "28    HAS TO    0.162730                   investigation    chattanooga\n",
       "29    HAS TO    0.935978                      solidarity    chattanooga\n",
       "..       ...         ...                             ...            ...\n",
       "642     MUST    0.537338              victims & location  thousand_oaks\n",
       "643     MUST    3.074417                   laws & policy  thousand_oaks\n",
       "644     MUST    0.000000                   investigation  thousand_oaks\n",
       "645     MUST    1.868826                      solidarity  thousand_oaks\n",
       "646     MUST    0.487062                     remembrance  thousand_oaks\n",
       "647     MUST    0.658940                           other  thousand_oaks\n",
       "648   SHOULD    0.396694  shooter's identity\\n& ideology  thousand_oaks\n",
       "649   SHOULD    0.164797                            news  thousand_oaks\n",
       "650   SHOULD    0.243546              victims & location  thousand_oaks\n",
       "651   SHOULD    3.894071                   laws & policy  thousand_oaks\n",
       "652   SHOULD    1.936171                   investigation  thousand_oaks\n",
       "653   SHOULD    1.066640                      solidarity  thousand_oaks\n",
       "654   SHOULD    0.392460                     remembrance  thousand_oaks\n",
       "655   SHOULD    2.098292                           other  thousand_oaks\n",
       "656  NEED TO    0.159914  shooter's identity\\n& ideology  thousand_oaks\n",
       "657  NEED TO    0.066432                            news  thousand_oaks\n",
       "658  NEED TO    0.071997              victims & location  thousand_oaks\n",
       "659  NEED TO    3.431925                   laws & policy  thousand_oaks\n",
       "660  NEED TO    0.156100                   investigation  thousand_oaks\n",
       "661  NEED TO    2.898563                      solidarity  thousand_oaks\n",
       "662  NEED TO    0.059327                     remembrance  thousand_oaks\n",
       "663  NEED TO    1.759622                           other  thousand_oaks\n",
       "664   HAS TO    0.397001  shooter's identity\\n& ideology  thousand_oaks\n",
       "665   HAS TO    0.329849                            news  thousand_oaks\n",
       "666   HAS TO    0.190925              victims & location  thousand_oaks\n",
       "667   HAS TO    2.636262                   laws & policy  thousand_oaks\n",
       "668   HAS TO    0.193767                   investigation  thousand_oaks\n",
       "669   HAS TO    2.298189                      solidarity  thousand_oaks\n",
       "670   HAS TO    0.073643                     remembrance  thousand_oaks\n",
       "671   HAS TO    2.667045                           other  thousand_oaks\n",
       "\n",
       "[672 rows x 4 columns]"
      ]
     },
     "execution_count": 20,
     "metadata": {},
     "output_type": "execute_result"
    }
   ],
   "source": [
    "df"
   ]
  },
  {
   "cell_type": "markdown",
   "metadata": {},
   "source": [
    "# modality & tense"
   ]
  },
  {
   "cell_type": "code",
   "execution_count": 23,
   "metadata": {
    "scrolled": true
   },
   "outputs": [
    {
     "name": "stdout",
     "output_type": "stream",
     "text": [
      "chattanooga\n"
     ]
    },
    {
     "name": "stderr",
     "output_type": "stream",
     "text": [
      "/anaconda2/envs/nlu/lib/python3.6/site-packages/ipykernel_launcher.py:3: UserWarning: This pattern has match groups. To actually get the groups, use str.extract.\n",
      "  This is separate from the ipykernel package so we can avoid doing imports until\n",
      "/anaconda2/envs/nlu/lib/python3.6/site-packages/ipykernel_launcher.py:3: UserWarning: This pattern has match groups. To actually get the groups, use str.extract.\n",
      "  This is separate from the ipykernel package so we can avoid doing imports until\n",
      "/anaconda2/envs/nlu/lib/python3.6/site-packages/ipykernel_launcher.py:22: UserWarning: This pattern has match groups. To actually get the groups, use str.extract.\n"
     ]
    },
    {
     "name": "stdout",
     "output_type": "stream",
     "text": [
      "roseburg\n"
     ]
    },
    {
     "name": "stderr",
     "output_type": "stream",
     "text": [
      "/anaconda2/envs/nlu/lib/python3.6/site-packages/ipykernel_launcher.py:3: UserWarning: This pattern has match groups. To actually get the groups, use str.extract.\n",
      "  This is separate from the ipykernel package so we can avoid doing imports until\n",
      "/anaconda2/envs/nlu/lib/python3.6/site-packages/ipykernel_launcher.py:3: UserWarning: This pattern has match groups. To actually get the groups, use str.extract.\n",
      "  This is separate from the ipykernel package so we can avoid doing imports until\n",
      "/anaconda2/envs/nlu/lib/python3.6/site-packages/ipykernel_launcher.py:22: UserWarning: This pattern has match groups. To actually get the groups, use str.extract.\n"
     ]
    },
    {
     "name": "stdout",
     "output_type": "stream",
     "text": [
      "colorado_springs\n"
     ]
    },
    {
     "name": "stderr",
     "output_type": "stream",
     "text": [
      "/anaconda2/envs/nlu/lib/python3.6/site-packages/ipykernel_launcher.py:3: UserWarning: This pattern has match groups. To actually get the groups, use str.extract.\n",
      "  This is separate from the ipykernel package so we can avoid doing imports until\n",
      "/anaconda2/envs/nlu/lib/python3.6/site-packages/ipykernel_launcher.py:3: UserWarning: This pattern has match groups. To actually get the groups, use str.extract.\n",
      "  This is separate from the ipykernel package so we can avoid doing imports until\n",
      "/anaconda2/envs/nlu/lib/python3.6/site-packages/ipykernel_launcher.py:22: UserWarning: This pattern has match groups. To actually get the groups, use str.extract.\n"
     ]
    },
    {
     "name": "stdout",
     "output_type": "stream",
     "text": [
      "san_bernardino\n"
     ]
    },
    {
     "name": "stderr",
     "output_type": "stream",
     "text": [
      "/anaconda2/envs/nlu/lib/python3.6/site-packages/ipykernel_launcher.py:3: UserWarning: This pattern has match groups. To actually get the groups, use str.extract.\n",
      "  This is separate from the ipykernel package so we can avoid doing imports until\n",
      "/anaconda2/envs/nlu/lib/python3.6/site-packages/ipykernel_launcher.py:3: UserWarning: This pattern has match groups. To actually get the groups, use str.extract.\n",
      "  This is separate from the ipykernel package so we can avoid doing imports until\n",
      "/anaconda2/envs/nlu/lib/python3.6/site-packages/ipykernel_launcher.py:22: UserWarning: This pattern has match groups. To actually get the groups, use str.extract.\n"
     ]
    },
    {
     "name": "stdout",
     "output_type": "stream",
     "text": [
      "kalamazoo\n",
      "orlando\n"
     ]
    },
    {
     "name": "stderr",
     "output_type": "stream",
     "text": [
      "/anaconda2/envs/nlu/lib/python3.6/site-packages/ipykernel_launcher.py:3: UserWarning: This pattern has match groups. To actually get the groups, use str.extract.\n",
      "  This is separate from the ipykernel package so we can avoid doing imports until\n",
      "/anaconda2/envs/nlu/lib/python3.6/site-packages/ipykernel_launcher.py:3: UserWarning: This pattern has match groups. To actually get the groups, use str.extract.\n",
      "  This is separate from the ipykernel package so we can avoid doing imports until\n",
      "/anaconda2/envs/nlu/lib/python3.6/site-packages/ipykernel_launcher.py:22: UserWarning: This pattern has match groups. To actually get the groups, use str.extract.\n",
      "/anaconda2/envs/nlu/lib/python3.6/site-packages/ipykernel_launcher.py:3: UserWarning: This pattern has match groups. To actually get the groups, use str.extract.\n",
      "  This is separate from the ipykernel package so we can avoid doing imports until\n",
      "/anaconda2/envs/nlu/lib/python3.6/site-packages/ipykernel_launcher.py:3: UserWarning: This pattern has match groups. To actually get the groups, use str.extract.\n",
      "  This is separate from the ipykernel package so we can avoid doing imports until\n",
      "/anaconda2/envs/nlu/lib/python3.6/site-packages/ipykernel_launcher.py:22: UserWarning: This pattern has match groups. To actually get the groups, use str.extract.\n"
     ]
    },
    {
     "name": "stdout",
     "output_type": "stream",
     "text": [
      "dallas\n"
     ]
    },
    {
     "name": "stderr",
     "output_type": "stream",
     "text": [
      "/anaconda2/envs/nlu/lib/python3.6/site-packages/ipykernel_launcher.py:3: UserWarning: This pattern has match groups. To actually get the groups, use str.extract.\n",
      "  This is separate from the ipykernel package so we can avoid doing imports until\n",
      "/anaconda2/envs/nlu/lib/python3.6/site-packages/ipykernel_launcher.py:3: UserWarning: This pattern has match groups. To actually get the groups, use str.extract.\n",
      "  This is separate from the ipykernel package so we can avoid doing imports until\n",
      "/anaconda2/envs/nlu/lib/python3.6/site-packages/ipykernel_launcher.py:22: UserWarning: This pattern has match groups. To actually get the groups, use str.extract.\n"
     ]
    },
    {
     "name": "stdout",
     "output_type": "stream",
     "text": [
      "baton_rouge\n"
     ]
    },
    {
     "name": "stderr",
     "output_type": "stream",
     "text": [
      "/anaconda2/envs/nlu/lib/python3.6/site-packages/ipykernel_launcher.py:3: UserWarning: This pattern has match groups. To actually get the groups, use str.extract.\n",
      "  This is separate from the ipykernel package so we can avoid doing imports until\n",
      "/anaconda2/envs/nlu/lib/python3.6/site-packages/ipykernel_launcher.py:3: UserWarning: This pattern has match groups. To actually get the groups, use str.extract.\n",
      "  This is separate from the ipykernel package so we can avoid doing imports until\n",
      "/anaconda2/envs/nlu/lib/python3.6/site-packages/ipykernel_launcher.py:22: UserWarning: This pattern has match groups. To actually get the groups, use str.extract.\n"
     ]
    },
    {
     "name": "stdout",
     "output_type": "stream",
     "text": [
      "burlington\n",
      "fort_lauderdale\n"
     ]
    },
    {
     "name": "stderr",
     "output_type": "stream",
     "text": [
      "/anaconda2/envs/nlu/lib/python3.6/site-packages/ipykernel_launcher.py:3: UserWarning: This pattern has match groups. To actually get the groups, use str.extract.\n",
      "  This is separate from the ipykernel package so we can avoid doing imports until\n",
      "/anaconda2/envs/nlu/lib/python3.6/site-packages/ipykernel_launcher.py:3: UserWarning: This pattern has match groups. To actually get the groups, use str.extract.\n",
      "  This is separate from the ipykernel package so we can avoid doing imports until\n",
      "/anaconda2/envs/nlu/lib/python3.6/site-packages/ipykernel_launcher.py:22: UserWarning: This pattern has match groups. To actually get the groups, use str.extract.\n",
      "/anaconda2/envs/nlu/lib/python3.6/site-packages/ipykernel_launcher.py:3: UserWarning: This pattern has match groups. To actually get the groups, use str.extract.\n",
      "  This is separate from the ipykernel package so we can avoid doing imports until\n",
      "/anaconda2/envs/nlu/lib/python3.6/site-packages/ipykernel_launcher.py:3: UserWarning: This pattern has match groups. To actually get the groups, use str.extract.\n",
      "  This is separate from the ipykernel package so we can avoid doing imports until\n",
      "/anaconda2/envs/nlu/lib/python3.6/site-packages/ipykernel_launcher.py:22: UserWarning: This pattern has match groups. To actually get the groups, use str.extract.\n"
     ]
    },
    {
     "name": "stdout",
     "output_type": "stream",
     "text": [
      "fresno\n",
      "san_francisco\n"
     ]
    },
    {
     "name": "stderr",
     "output_type": "stream",
     "text": [
      "/anaconda2/envs/nlu/lib/python3.6/site-packages/ipykernel_launcher.py:3: UserWarning: This pattern has match groups. To actually get the groups, use str.extract.\n",
      "  This is separate from the ipykernel package so we can avoid doing imports until\n",
      "/anaconda2/envs/nlu/lib/python3.6/site-packages/ipykernel_launcher.py:3: UserWarning: This pattern has match groups. To actually get the groups, use str.extract.\n",
      "  This is separate from the ipykernel package so we can avoid doing imports until\n",
      "/anaconda2/envs/nlu/lib/python3.6/site-packages/ipykernel_launcher.py:22: UserWarning: This pattern has match groups. To actually get the groups, use str.extract.\n",
      "/anaconda2/envs/nlu/lib/python3.6/site-packages/ipykernel_launcher.py:3: UserWarning: This pattern has match groups. To actually get the groups, use str.extract.\n",
      "  This is separate from the ipykernel package so we can avoid doing imports until\n",
      "/anaconda2/envs/nlu/lib/python3.6/site-packages/ipykernel_launcher.py:3: UserWarning: This pattern has match groups. To actually get the groups, use str.extract.\n",
      "  This is separate from the ipykernel package so we can avoid doing imports until\n",
      "/anaconda2/envs/nlu/lib/python3.6/site-packages/ipykernel_launcher.py:22: UserWarning: This pattern has match groups. To actually get the groups, use str.extract.\n"
     ]
    },
    {
     "name": "stdout",
     "output_type": "stream",
     "text": [
      "vegas\n"
     ]
    },
    {
     "name": "stderr",
     "output_type": "stream",
     "text": [
      "/anaconda2/envs/nlu/lib/python3.6/site-packages/ipykernel_launcher.py:3: UserWarning: This pattern has match groups. To actually get the groups, use str.extract.\n",
      "  This is separate from the ipykernel package so we can avoid doing imports until\n",
      "/anaconda2/envs/nlu/lib/python3.6/site-packages/ipykernel_launcher.py:3: UserWarning: This pattern has match groups. To actually get the groups, use str.extract.\n",
      "  This is separate from the ipykernel package so we can avoid doing imports until\n",
      "/anaconda2/envs/nlu/lib/python3.6/site-packages/ipykernel_launcher.py:22: UserWarning: This pattern has match groups. To actually get the groups, use str.extract.\n"
     ]
    },
    {
     "name": "stdout",
     "output_type": "stream",
     "text": [
      "thornton\n"
     ]
    },
    {
     "name": "stderr",
     "output_type": "stream",
     "text": [
      "/anaconda2/envs/nlu/lib/python3.6/site-packages/ipykernel_launcher.py:3: UserWarning: This pattern has match groups. To actually get the groups, use str.extract.\n",
      "  This is separate from the ipykernel package so we can avoid doing imports until\n",
      "/anaconda2/envs/nlu/lib/python3.6/site-packages/ipykernel_launcher.py:3: UserWarning: This pattern has match groups. To actually get the groups, use str.extract.\n",
      "  This is separate from the ipykernel package so we can avoid doing imports until\n",
      "/anaconda2/envs/nlu/lib/python3.6/site-packages/ipykernel_launcher.py:22: UserWarning: This pattern has match groups. To actually get the groups, use str.extract.\n"
     ]
    },
    {
     "name": "stdout",
     "output_type": "stream",
     "text": [
      "sutherland_springs\n"
     ]
    },
    {
     "name": "stderr",
     "output_type": "stream",
     "text": [
      "/anaconda2/envs/nlu/lib/python3.6/site-packages/ipykernel_launcher.py:3: UserWarning: This pattern has match groups. To actually get the groups, use str.extract.\n",
      "  This is separate from the ipykernel package so we can avoid doing imports until\n",
      "/anaconda2/envs/nlu/lib/python3.6/site-packages/ipykernel_launcher.py:3: UserWarning: This pattern has match groups. To actually get the groups, use str.extract.\n",
      "  This is separate from the ipykernel package so we can avoid doing imports until\n",
      "/anaconda2/envs/nlu/lib/python3.6/site-packages/ipykernel_launcher.py:22: UserWarning: This pattern has match groups. To actually get the groups, use str.extract.\n"
     ]
    },
    {
     "name": "stdout",
     "output_type": "stream",
     "text": [
      "parkland\n"
     ]
    },
    {
     "name": "stderr",
     "output_type": "stream",
     "text": [
      "/anaconda2/envs/nlu/lib/python3.6/site-packages/ipykernel_launcher.py:3: UserWarning: This pattern has match groups. To actually get the groups, use str.extract.\n",
      "  This is separate from the ipykernel package so we can avoid doing imports until\n",
      "/anaconda2/envs/nlu/lib/python3.6/site-packages/ipykernel_launcher.py:3: UserWarning: This pattern has match groups. To actually get the groups, use str.extract.\n",
      "  This is separate from the ipykernel package so we can avoid doing imports until\n",
      "/anaconda2/envs/nlu/lib/python3.6/site-packages/ipykernel_launcher.py:22: UserWarning: This pattern has match groups. To actually get the groups, use str.extract.\n"
     ]
    },
    {
     "name": "stdout",
     "output_type": "stream",
     "text": [
      "nashville\n"
     ]
    },
    {
     "name": "stderr",
     "output_type": "stream",
     "text": [
      "/anaconda2/envs/nlu/lib/python3.6/site-packages/ipykernel_launcher.py:3: UserWarning: This pattern has match groups. To actually get the groups, use str.extract.\n",
      "  This is separate from the ipykernel package so we can avoid doing imports until\n",
      "/anaconda2/envs/nlu/lib/python3.6/site-packages/ipykernel_launcher.py:3: UserWarning: This pattern has match groups. To actually get the groups, use str.extract.\n",
      "  This is separate from the ipykernel package so we can avoid doing imports until\n",
      "/anaconda2/envs/nlu/lib/python3.6/site-packages/ipykernel_launcher.py:22: UserWarning: This pattern has match groups. To actually get the groups, use str.extract.\n"
     ]
    },
    {
     "name": "stdout",
     "output_type": "stream",
     "text": [
      "santa_fe\n"
     ]
    },
    {
     "name": "stderr",
     "output_type": "stream",
     "text": [
      "/anaconda2/envs/nlu/lib/python3.6/site-packages/ipykernel_launcher.py:3: UserWarning: This pattern has match groups. To actually get the groups, use str.extract.\n",
      "  This is separate from the ipykernel package so we can avoid doing imports until\n",
      "/anaconda2/envs/nlu/lib/python3.6/site-packages/ipykernel_launcher.py:3: UserWarning: This pattern has match groups. To actually get the groups, use str.extract.\n",
      "  This is separate from the ipykernel package so we can avoid doing imports until\n",
      "/anaconda2/envs/nlu/lib/python3.6/site-packages/ipykernel_launcher.py:22: UserWarning: This pattern has match groups. To actually get the groups, use str.extract.\n"
     ]
    },
    {
     "name": "stdout",
     "output_type": "stream",
     "text": [
      "annapolis\n"
     ]
    },
    {
     "name": "stderr",
     "output_type": "stream",
     "text": [
      "/anaconda2/envs/nlu/lib/python3.6/site-packages/ipykernel_launcher.py:3: UserWarning: This pattern has match groups. To actually get the groups, use str.extract.\n",
      "  This is separate from the ipykernel package so we can avoid doing imports until\n",
      "/anaconda2/envs/nlu/lib/python3.6/site-packages/ipykernel_launcher.py:3: UserWarning: This pattern has match groups. To actually get the groups, use str.extract.\n",
      "  This is separate from the ipykernel package so we can avoid doing imports until\n",
      "/anaconda2/envs/nlu/lib/python3.6/site-packages/ipykernel_launcher.py:22: UserWarning: This pattern has match groups. To actually get the groups, use str.extract.\n"
     ]
    },
    {
     "name": "stdout",
     "output_type": "stream",
     "text": [
      "pittsburgh\n"
     ]
    },
    {
     "name": "stderr",
     "output_type": "stream",
     "text": [
      "/anaconda2/envs/nlu/lib/python3.6/site-packages/ipykernel_launcher.py:3: UserWarning: This pattern has match groups. To actually get the groups, use str.extract.\n",
      "  This is separate from the ipykernel package so we can avoid doing imports until\n",
      "/anaconda2/envs/nlu/lib/python3.6/site-packages/ipykernel_launcher.py:3: UserWarning: This pattern has match groups. To actually get the groups, use str.extract.\n",
      "  This is separate from the ipykernel package so we can avoid doing imports until\n",
      "/anaconda2/envs/nlu/lib/python3.6/site-packages/ipykernel_launcher.py:22: UserWarning: This pattern has match groups. To actually get the groups, use str.extract.\n"
     ]
    },
    {
     "name": "stdout",
     "output_type": "stream",
     "text": [
      "thousand_oaks\n"
     ]
    },
    {
     "name": "stderr",
     "output_type": "stream",
     "text": [
      "/anaconda2/envs/nlu/lib/python3.6/site-packages/ipykernel_launcher.py:3: UserWarning: This pattern has match groups. To actually get the groups, use str.extract.\n",
      "  This is separate from the ipykernel package so we can avoid doing imports until\n",
      "/anaconda2/envs/nlu/lib/python3.6/site-packages/ipykernel_launcher.py:3: UserWarning: This pattern has match groups. To actually get the groups, use str.extract.\n",
      "  This is separate from the ipykernel package so we can avoid doing imports until\n",
      "/anaconda2/envs/nlu/lib/python3.6/site-packages/ipykernel_launcher.py:22: UserWarning: This pattern has match groups. To actually get the groups, use str.extract.\n"
     ]
    }
   ],
   "source": [
    "shouldve_odds = []\n",
    "not_shouldve_odds = []\n",
    "prop_shouldve = []\n",
    "should_odds = []\n",
    "race = []\n",
    "\n",
    "\n",
    "for event in events:\n",
    "    print(event)\n",
    "    data = pd.read_csv(TWEET_DIR +event+'/'+event+'.csv', sep='\\t', lineterminator='\\n', usecols=['text', 'rep_follows', 'dem_follows', 'remove', 'isRT'])\n",
    "    # data['text'].str.contains(r'http|\\.com|www', case=False)\n",
    "    data = filter_retweets(data)\n",
    "    # get partisan tweets\n",
    "    data = data[~data['dem_follows'].isnull() & ~data['rep_follows'].isnull() & (data['dem_follows'] != data['rep_follows'])]\n",
    "    dem, rep = split_party(data)\n",
    "    search_shouldve = r\"\\bshould['’]ve\\b|\\bshould( not)? have\\b|\\bshouldn['’]t have\\b\"\n",
    "    search_not_shouldve = r\"\\bshouldn['’]t(?! have)\\b|\\bshould\\b[^'’](?!have)\"\n",
    "    search_all_should = r\"\\bshould[n'’]?\\w*\\b\"\n",
    "    shouldve_odds.append(np.log(get_odds(rep, search_shouldve) / get_odds(dem, search_shouldve)))\n",
    "    not_shouldve_odds.append(np.log(get_odds(rep, search_not_shouldve) / get_odds(dem, search_not_shouldve)))\n",
    "    should_odds.append(np.log(get_odds(rep, search_all_should) / get_odds(dem, search_all_should)))\n",
    "    prop = data['text'].str.contains(search, case=False).sum() / data['text'].str.contains(r\"\\bshould[n'’]?\\w*\\b\", case=False).sum()\n",
    "    prop_shouldve.append(prop)\n",
    "    race.append(shooter_race[event])"
   ]
  },
  {
   "cell_type": "code",
   "execution_count": 44,
   "metadata": {},
   "outputs": [
    {
     "data": {
      "text/plain": [
       "['chattanooga',\n",
       " 'roseburg',\n",
       " 'colorado_springs',\n",
       " 'san_bernardino',\n",
       " 'kalamazoo',\n",
       " 'orlando',\n",
       " 'dallas',\n",
       " 'baton_rouge',\n",
       " 'burlington',\n",
       " 'fort_lauderdale',\n",
       " 'fresno',\n",
       " 'san_francisco',\n",
       " 'vegas',\n",
       " 'thornton',\n",
       " 'sutherland_springs',\n",
       " 'parkland',\n",
       " 'nashville',\n",
       " 'santa_fe',\n",
       " 'annapolis',\n",
       " 'pittsburgh',\n",
       " 'thousand_oaks']"
      ]
     },
     "execution_count": 44,
     "metadata": {},
     "output_type": "execute_result"
    }
   ],
   "source": [
    "events"
   ]
  },
  {
   "cell_type": "code",
   "execution_count": 24,
   "metadata": {
    "collapsed": true
   },
   "outputs": [],
   "source": [
    "df = pd.DataFrame.from_dict({'shouldve_prop':prop_shouldve, 'should_odds':should_odds, 'shouldve_odds':shouldve_odds, 'not_shouldve_odds':not_shouldve_odds, 'race':race})"
   ]
  },
  {
   "cell_type": "code",
   "execution_count": 36,
   "metadata": {},
   "outputs": [
    {
     "data": {
      "text/plain": [
       "-0.21581923553114546"
      ]
     },
     "execution_count": 36,
     "metadata": {},
     "output_type": "execute_result"
    }
   ],
   "source": [
    "np.mean(shouldve_odds)"
   ]
  },
  {
   "cell_type": "code",
   "execution_count": 43,
   "metadata": {},
   "outputs": [
    {
     "data": {
      "text/plain": [
       "0.053080149967466204"
      ]
     },
     "execution_count": 43,
     "metadata": {},
     "output_type": "execute_result"
    }
   ],
   "source": [
    "np.std(prop_shouldve)"
   ]
  },
  {
   "cell_type": "code",
   "execution_count": 41,
   "metadata": {},
   "outputs": [
    {
     "data": {
      "text/plain": [
       "0.15439809215662934"
      ]
     },
     "execution_count": 41,
     "metadata": {},
     "output_type": "execute_result"
    }
   ],
   "source": [
    "np.mean(prop_shouldve)"
   ]
  },
  {
   "cell_type": "code",
   "execution_count": 37,
   "metadata": {},
   "outputs": [
    {
     "data": {
      "text/plain": [
       "Ttest_1sampResult(statistic=-2.0879975088054836, pvalue=0.049797499455887545)"
      ]
     },
     "execution_count": 37,
     "metadata": {},
     "output_type": "execute_result"
    }
   ],
   "source": [
    "ttest_1samp(shouldve_odds, 0)"
   ]
  },
  {
   "cell_type": "code",
   "execution_count": 25,
   "metadata": {},
   "outputs": [
    {
     "data": {
      "text/plain": [
       "Ttest_indResult(statistic=-0.2624556962984403, pvalue=0.7943171669915221)"
      ]
     },
     "execution_count": 25,
     "metadata": {},
     "output_type": "execute_result"
    }
   ],
   "source": [
    "ttest_ind(shouldve_odds, should_odds)"
   ]
  },
  {
   "cell_type": "code",
   "execution_count": 45,
   "metadata": {},
   "outputs": [
    {
     "data": {
      "text/plain": [
       "Ttest_indResult(statistic=-1.1163540525076479, pvalue=0.27819031929156857)"
      ]
     },
     "execution_count": 45,
     "metadata": {},
     "output_type": "execute_result"
    }
   ],
   "source": [
    "ttest_ind(shouldve_odds[:9], shouldve_odds[9:])"
   ]
  },
  {
   "cell_type": "code",
   "execution_count": 46,
   "metadata": {},
   "outputs": [
    {
     "data": {
      "text/plain": [
       "Ttest_indResult(statistic=1.7041292408654112, pvalue=0.10465661193395043)"
      ]
     },
     "execution_count": 46,
     "metadata": {},
     "output_type": "execute_result"
    }
   ],
   "source": [
    "ttest_ind(should_odds[:9], should_odds[9:])"
   ]
  },
  {
   "cell_type": "code",
   "execution_count": 38,
   "metadata": {},
   "outputs": [
    {
     "name": "stdout",
     "output_type": "stream",
     "text": [
      "-0.2515169721204709\n",
      "-0.1765517252828875\n",
      "Ttest_indResult(statistic=-0.354215773268982, pvalue=0.7270779085117616)\n"
     ]
    }
   ],
   "source": [
    "print(np.mean(np.array(df[df['race']=='white'].shouldve_odds)))\n",
    "print(np.mean(np.array(df[df['race']=='POC'].shouldve_odds)))\n",
    "print(ttest_ind(np.array(df[df['race']=='white'].shouldve_odds), np.array(df[df['race']=='POC'].shouldve_odds)))"
   ]
  },
  {
   "cell_type": "code",
   "execution_count": 39,
   "metadata": {},
   "outputs": [
    {
     "name": "stdout",
     "output_type": "stream",
     "text": [
      "-0.3082658293749805\n",
      "-0.04833108713173584\n",
      "Ttest_indResult(statistic=-2.4238580426013834, pvalue=0.025505278013628254)\n"
     ]
    }
   ],
   "source": [
    "print(np.mean(np.array(df[df['race']=='white'].should_odds)))\n",
    "print(np.mean(np.array(df[df['race']=='POC'].should_odds)))\n",
    "print(ttest_ind(np.array(df[df['race']=='white'].should_odds), np.array(df[df['race']=='POC'].should_odds)))"
   ]
  },
  {
   "cell_type": "code",
   "execution_count": 31,
   "metadata": {},
   "outputs": [
    {
     "name": "stdout",
     "output_type": "stream",
     "text": [
      "-0.3134887927857241\n",
      "-0.020650296995832013\n",
      "Ttest_indResult(statistic=-2.7328967758121188, pvalue=0.013215648314387542)\n"
     ]
    }
   ],
   "source": [
    "print(np.mean(np.array(df[df['race']=='white'].not_shouldve_odds)))\n",
    "print(np.mean(np.array(df[df['race']=='POC'].not_shouldve_odds)))\n",
    "print(ttest_ind(np.array(df[df['race']=='white'].not_shouldve_odds), np.array(df[df['race']=='POC'].not_shouldve_odds)))"
   ]
  },
  {
   "cell_type": "code",
   "execution_count": 11,
   "metadata": {},
   "outputs": [
    {
     "data": {
      "text/plain": [
       "<matplotlib.axes._subplots.AxesSubplot at 0x118da22e8>"
      ]
     },
     "execution_count": 11,
     "metadata": {},
     "output_type": "execute_result"
    },
    {
     "data": {
      "image/png": "[encoded data removed]",
      "text/plain": [
       "<Figure size 432x288 with 1 Axes>"
      ]
     },
     "metadata": {},
     "output_type": "display_data"
    }
   ],
   "source": [
    "df.boxplot(column=['shouldve_odds', 'not_shouldve_odds'])"
   ]
  },
  {
   "cell_type": "code",
   "execution_count": 27,
   "metadata": {},
   "outputs": [
    {
     "name": "stdout",
     "output_type": "stream",
     "text": [
      "Ttest_1sampResult(statistic=-2.0879975088054836, pvalue=0.049797499455887545)\n",
      "POC Ttest_1sampResult(statistic=-0.9294853187442579, pvalue=0.3768942932853042)\n",
      "white Ttest_1sampResult(statistic=-2.3975649783673476, pvalue=0.0374712176170982)\n"
     ]
    }
   ],
   "source": [
    "print(ttest_1samp(df['shouldve_odds'], 0))\n",
    "for i, g in df.groupby('race'):\n",
    "    print(i, ttest_1samp(g['shouldve_odds'], 0))"
   ]
  },
  {
   "cell_type": "markdown",
   "metadata": {
    "collapsed": true
   },
   "source": [
    "# subjects & complements of modals"
   ]
  },
  {
   "cell_type": "code",
   "execution_count": 16,
   "metadata": {
    "collapsed": true
   },
   "outputs": [],
   "source": [
    "translator = str.maketrans('', '', string.punctuation)"
   ]
  },
  {
   "cell_type": "code",
   "execution_count": 33,
   "metadata": {
    "collapsed": true
   },
   "outputs": [],
   "source": [
    "def get_valid(l):\n",
    "    prepend = []\n",
    "    for t in l:\n",
    "        tr = t.translate(translator)\n",
    "        if t in ['have', 've', 'not', 't', '', ' ', 'to']:\n",
    "            continue\n",
    "        elif t in ['be', 'the', 'a']:\n",
    "            prepend.append(t)\n",
    "        elif len(prepend) > 0:\n",
    "            return ' '.join(prepend) + ' ' + t.lower().translate(translator)\n",
    "        else:\n",
    "            return t.lower().translate(translator) \n",
    "    return ''"
   ]
  },
  {
   "cell_type": "code",
   "execution_count": 34,
   "metadata": {
    "collapsed": true
   },
   "outputs": [],
   "source": [
    "def log_odds(counts1, counts2, prior):\n",
    "    # counts1 will be positive and counts2 will be negative\n",
    "    sigmasquared = defaultdict(float)\n",
    "    sigma = defaultdict(float)\n",
    "    delta = defaultdict(float)\n",
    "\n",
    "    n1 = sum(list(counts1.values()))\n",
    "    n2 = sum(list(counts2.values()))\n",
    "    nprior = sum(list(prior.values()))\n",
    "    for word in prior.keys():\n",
    "        if prior[word] == 0:\n",
    "            delta[word] = 0\n",
    "            continue\n",
    "        l1 = float(counts1[word] + prior[word]) / (( n1 + nprior ) - (counts1[word] + prior[word]))\n",
    "        l2 = float(counts2[word] + prior[word]) / (( n2 + nprior ) - (counts2[word] + prior[word]))\n",
    "        sigmasquared[word] = 1/(float(counts1[word]) + float(prior[word])) + 1/(float(counts2[word]) + float(prior[word]))\n",
    "        sigma[word] = math.sqrt(sigmasquared[word])\n",
    "        delta[word] = (math.log(l1) - math.log(l2)) / sigma[word]\n",
    "        #delta[word] = (math.log(l1) - math.log(l2))\n",
    "    return delta"
   ]
  },
  {
   "cell_type": "code",
   "execution_count": 35,
   "metadata": {
    "collapsed": true
   },
   "outputs": [],
   "source": [
    "def get_contexts(tweets, m):\n",
    "    context_words = []\n",
    "    before = []\n",
    "    after = []\n",
    "    trigrams = []\n",
    "    twoword = False\n",
    "    if len(m.split()) > 1:\n",
    "        modal_first = m.split()[0]\n",
    "        twoword = True\n",
    "    else:\n",
    "        modal_first = m\n",
    "    tweets['text'] = tweets['text'].astype(str).apply(clean_text, args=(True, None, False))\n",
    "    for words in tweets['text']:\n",
    "        trigram = []\n",
    "        for i, w in enumerate(words):\n",
    "            if twoword and w == modal_first and i < len(words)-1 and words[i+1] == 'to':\n",
    "                context_words.extend(words[max(0, i-1):i+6])\n",
    "                trigram = [m]\n",
    "                break\n",
    "            elif w.startswith(modal_first + 'n') or (len(words) > i+1 and words[i+1] == 'not'):\n",
    "                context_words.extend(words[max(0, i-1):i+6])\n",
    "                trigram = [m + ' not']\n",
    "                break\n",
    "            elif w.startswith(modal_first) and (w.endswith('ve') or (len(words) > i+1 and words[i+1] in ['have', 've'])):\n",
    "                context_words.extend(words[max(0, i-1):i+6])\n",
    "                trigram = [m + ' have']\n",
    "                break\n",
    "            elif not twoword and w.startswith(m):\n",
    "                context_words.extend(words[max(0, i-1):i+5])\n",
    "                trigram = [m]\n",
    "                break\n",
    "        bef = get_valid(reversed(words[:i]))\n",
    "        aft = ''\n",
    "        if i < len(words) -1:\n",
    "            aft = get_valid(words[i+1:])\n",
    "        trigram = [bef] + trigram + [aft]\n",
    "        trigram = ' '.join(trigram)\n",
    "        if bef != '':\n",
    "            before.append(bef)\n",
    "        if aft != '':\n",
    "            if 'not ' in trigram:\n",
    "                aft = 'not ' + aft\n",
    "            after.append(aft)\n",
    "        trigrams.append(trigram)\n",
    "    return Counter(context_words), Counter(before), Counter(after), Counter(trigrams)"
   ]
  },
  {
   "cell_type": "code",
   "execution_count": 36,
   "metadata": {},
   "outputs": [
    {
     "name": "stderr",
     "output_type": "stream",
     "text": [
      "/anaconda2/envs/nlu/lib/python3.6/site-packages/ipykernel_launcher.py:12: SettingWithCopyWarning: \n",
      "A value is trying to be set on a copy of a slice from a DataFrame.\n",
      "Try using .loc[row_indexer,col_indexer] = value instead\n",
      "\n",
      "See the caveats in the documentation: http://pandas.pydata.org/pandas-docs/stable/indexing.html#indexing-view-versus-copy\n",
      "  if sys.path[0] == '':\n"
     ]
    }
   ],
   "source": [
    "ic_modals = ['must', 'should']\n",
    "c_modals = ['need to', 'needs to', 'have to', 'has to']\n",
    "modals = ic_modals + c_modals\n",
    "rep_modal_context = {m:[] for m in modals}\n",
    "dem_modal_context = {m:[] for m in modals}\n",
    "rep_modal_bef = {m:[] for m in modals}\n",
    "dem_modal_bef = {m:[] for m in modals}\n",
    "rep_modal_aft = {m:[] for m in modals}\n",
    "dem_modal_aft = {m:[] for m in modals}\n",
    "rep_modal_tri = {m:[] for m in modals}\n",
    "dem_modal_tri = {m:[] for m in modals}\n",
    "\n",
    "def add_vals(contains):\n",
    "    dem, rep = split_party(contains)\n",
    "    ctx, bef, aft, tri = get_contexts(dem, m)\n",
    "    dem_modal_context[m].append(ctx)\n",
    "    dem_modal_bef[m].append(bef)\n",
    "    dem_modal_aft[m].append(aft)\n",
    "    dem_modal_tri[m].append(tri)\n",
    "    ctx, bef, aft, tri = get_contexts(rep, m)\n",
    "    rep_modal_context[m].append(ctx)\n",
    "    rep_modal_bef[m].append(bef)\n",
    "    rep_modal_aft[m].append(aft)\n",
    "    rep_modal_tri[m].append(tri)\n",
    "    \n",
    "for event in events:\n",
    "    data = pd.read_csv(TWEET_DIR+event+'/'+event+'.csv', sep='\\t', lineterminator='\\n', usecols=['text', 'rep_follows', 'dem_follows', 'isRT', 'remove'])\n",
    "    data = filter_retweets(data)\n",
    "    #data =  data[~data['text'].str.contains(r'http|\\.com|www', case=False)]  # add to filter URLs\n",
    "    for m in ic_modals:\n",
    "        contains = data[data['text'].str.contains(r'\\b' + re.escape(m) + r\"[n'’]?\\w*\\b\", case=False)]\n",
    "        add_vals(contains)\n",
    "    for m in c_modals:\n",
    "        contains = data[data['text'].str.contains(r'\\b' + re.escape(m) + r\"\\b\", case=False)]\n",
    "        add_vals(contains)"
   ]
  },
  {
   "cell_type": "code",
   "execution_count": 39,
   "metadata": {
    "collapsed": true
   },
   "outputs": [],
   "source": [
    "def get_most_partisan(dem_vals, rep_vals):\n",
    "    most_rep = {m:[] for m in modals}\n",
    "    most_dem = {m:[] for m in modals}\n",
    "    for m in modals:\n",
    "        for i, (d, r) in enumerate(zip(dem_vals[m], rep_vals[m])):\n",
    "            if len(d) == 0 or len(r) == 0:\n",
    "                continue\n",
    "            odds = log_odds(d, r, d+r)\n",
    "            most_rep[m].extend([k for k, v in odds.items() if v < -0.2])\n",
    "            most_dem[m].extend([k for k, v in odds.items() if v > 0.2])\n",
    "    for m in most_rep:\n",
    "        most_rep[m] = Counter(most_rep[m]).most_common()\n",
    "    for m in most_dem:\n",
    "        most_dem[m] = Counter(most_dem[m]).most_common()\n",
    "    return most_rep, most_dem"
   ]
  },
  {
   "cell_type": "code",
   "execution_count": 40,
   "metadata": {},
   "outputs": [],
   "source": [
    "most_rep_ctx, most_dem_ctx = get_most_partisan(dem_modal_context, rep_modal_context)\n",
    "most_rep_bef, most_dem_bef = get_most_partisan(dem_modal_bef, rep_modal_bef)\n",
    "most_rep_aft, most_dem_aft = get_most_partisan(dem_modal_aft, rep_modal_aft)\n",
    "most_rep_tri, most_dem_tri= get_most_partisan(dem_modal_tri, rep_modal_tri)"
   ]
  },
  {
   "cell_type": "code",
   "execution_count": null,
   "metadata": {},
   "outputs": [],
   "source": [
    "def print_top(dem, rep):\n",
    "    for m,  v in dem.items():\n",
    "        print('\\\\begin{center}\\\\textbf{' + m.upper() + '}\\\\end{center}')\n",
    "        toprint_dem = ''\n",
    "        for k, count in v:\n",
    "            if count > 3:\n",
    "                toprint_dem += \"%s (%d), \" % (k, count)\n",
    "        print('\\\\noindent\\\\emph{Democrat}\\\\\\\\' + toprint_dem[:-2].replace('#','\\\\#') + '\\\\\\\\')\n",
    "        toprint_rep = ''\n",
    "        for k, count in rep[m]:\n",
    "            if count > 3:\n",
    "                toprint_rep += \"%s (%d), \" % (k, count)\n",
    "        print('\\\\noindent\\\\emph{Republican}\\\\\\\\' + toprint_rep[:-2].replace('#','\\\\#') + '\\\\\\\\')\n",
    "    "
   ]
  },
  {
   "cell_type": "code",
   "execution_count": 75,
   "metadata": {
    "scrolled": true
   },
   "outputs": [
    {
     "name": "stdout",
     "output_type": "stream",
     "text": [
      "\\begin{center}\\textbf{MUST}\\end{center}\n",
      "\\noindent\\emph{Democrat}\\\\we (16), congress (12), prayer (12), violenc (11), this (11), someth (10), i (10), mad (10), peopl (9), more (9), long (9), mani (9), can (9), action (9), insan (8), they (8), govern (8), all (8), it (8), and (8), gun (8), america (8), live (8), nra (8), time (7), he (7), who (7), whi (7), there (7), children (7), shoot (6), thing (6), chang (6), check (6), communiti (6), republican (6), is (6), epidem (6), famili (6), tragedi (6), blood (6), gunviol (6), now (6), issu (6), also (5), men (5), gop (5), state (5), but (5), law (5), kill (5), nation (5), politician (5), senat (5), guy (5), simpli (5), innoc (5), ppl (5), weapon (5), societi (5), even (5), carnag (5), rifl (5), heart (5), countri (5), shooter (4), american (4), media (4), that (4), world (4), govt (4), kid (4), yet (4), suspect (4), candid (4), sale (4), what (4), leader (4), somebodi (4), work (4), me (4), everyon (4), still (4), god (4), victim (4), hatr (4), love (4), one (4), trump (4), reform (4), fear (4), cultur (4), lawmak (4), gunsens (4), gunreform (4), which (4), let (4), should (4), these (4), money (4), couldn (4), lobbi (4), respons (4), usa (4), s (4), citizen (4), right (4), terror (4), stori (4), are (4), polici (4), news (4), regul (4), terrorist (4), bullshit (4), killer (4), longer (4), babi (4), level (4)\\\\\n",
      "\\noindent\\emph{Republican}\\\\shoot (13), shooter (13), you (11), he (11), it (9), obama (9), that (9), is (8), us (8), there (8), they (8), attack (7), famili (7), media (7), killer (6), i (6), she (6), democrat (6), liber (6), guy (6), u (6), fbi (6), trump (6), muslim (6), left (6), truth (6), this (5), mani (5), islam (5), victim (5), whi (5), terrorist (5), stori (5), citizen (5), kill (5), parent (5), peopl (5), polic (5), shit (5), on (5), cop (5), state (5), author (5), white (5), church (5), zone (5), dead (5), report (5), firearm (4), video (4), world (4), motiv (4), women (4), one (4), pleas (4), news (4), folk (4), ignor (4), isi (4), gun (4), american (4), everyon (4), potus (4), secur (4), narrat (4), shot (4), them (4), movement (4), cnn (4), hate (4), dem (4), someon (4), gov (4), enforc (4), s (4), at (4)\\\\\n",
      "\\begin{center}\\textbf{SHOULD}\\end{center}\n",
      "\\noindent\\emph{Democrat}\\\\we (15), peopl (15), one (13), this (13), i (12), who (12), or (12), trump (12), gun (11), that (11), congress (10), violenc (10), victim (10), it (10), everyon (9), shoot (9), whi (9), countri (9), you (9), he (9), america (9), and (9), weapon (9), nra (9), american (8), famili (8), communiti (8), shooter (8), anyon (8), nut (8), nobodi (8), terrorist (8), man (8), probabl (8), now (8), life (8), civilian (8), prayer (8), child (8), u (7), massacr (7), govern (7), is (7), can (7), men (7), gop (7), women (7), citizen (7), day (7), kid (7), someon (6), control (6), but (6), author (6), realli (6), in (6), someth (6), ill (6), so (6), owner (6), els (6), kill (6), on (6), us (6), rifl (6), amend (6), thing (6), person (6), hashtag (6), never (6), more (6), of (6), offici (6), your (6), terror (5), focus (5), attack (5), killer (5), as (5), mayb (5), site (5), realdonaldtrump (5), she (5), somebodi (5), suspect (5), war (5), republican (5), politician (5), rep (5), everybodi (5), world (5), alon (5), citi (5), potus (5), ownership (5), murder (5), all (5), tragedi (5), ppl (5), live (5), 15 (5), their (5), long (5), noth (5), hook (5), etc (5), sale (5), goer (5), hey (5), survivor (5), chang (5), which (5), public (5), nor (5), presid (5), offic (4), report (4), what (4), media (4), carri (4), parti (4), health (4), woman (4), think (4), news (4), msnbc (4), lover (4), religion (4), convers (4), situat (4), action (4), list (4), ilk (4), regul (4), respons (4), 2 (4), white (4), maker (4), 1 (4), home (4), earth (4), just (4), do (4), advoc (4), moment (4), dude (4), shot (4), both (4), power (4), debat (4), die (4), nrabloodmoney (4), worri (4), ll (4), our (4), neither (4), ass (4), org (4), talk (4), process (4), attent (4), teacher (4), societi (4), everyth (4), support (4), ban (4), heart (4), up (4), when (4), coulda (4), rate (4), articl (4), polit (4), still (4), s (4), headlin (4)\\\\\n",
      "\\noindent\\emph{Republican}\\\\they (16), there (14), shooter (12), someon (11), polic (10), potus (9), u (9), all (9), media (9), obama (8), she (8), cop (8), and (8), citizen (8), fbi (8), democrat (8), guy (8), he (7), never (7), gunman (7), flag (7), s (7), also (7), think (7), murder (7), christian (7), cnn (7), enforc (7), member (7), you (7), american (7), about (7), liber (7), left (7), shoot (7), it (6), did (6), his (6), zone (6), on (6), headlin (6), presid (6), leader (6), how (6), right (6), today (6), msm (6), what (6), focus (6), legal (6), this (5), ppl (5), tragedi (5), respons (5), area (5), that (5), name (5), islam (5), nation (5), women (5), question (5), probabl (5), texa (5), hous (5), white (5), pres (5), crazi (5), i (5), everyon (5), safeti (5), still (5), societi (5), owner (5), shot (5), realdonaldtrump (5), him (5), us (5), killer (5), state (5), journalist (5), mayb (5), leftist (5), whi (5), law (5), usa (5), staff (5), blame (5), dept (5), pleas (5), gun (5), servic (4), permit (4), thing (4), is (4), terrorist (4), parent (4), chief (4), so (4), person (4), real (4), perhap (4), other (4), but (4), offic (4), support (4), smith (4), massacr (4), america (4), are (4), famili (4), idiot (4), place (4), twitter (4), action (4), attack (4), outlet (4), confer (4), fed (4), way (4), friend (4), author (4), terror (4), then (4), reason (4), facebook (4), concern (4), investig (4), dem (4), lynch (4), though (4), post (4), titl (4), sure (4), news (4), guard (4), say (4), opinion (4), gov (4), issu (4), govern (4), for (4), nobodi (4)\\\\\n",
      "\\begin{center}\\textbf{NEED TO}\\end{center}\n",
      "\\noindent\\emph{Democrat}\\\\we (13), don (10), shoot (10), all (10), more (10), doesn (9), i (9), also (9), law (8), this (8), no (8), violenc (8), live (7), didn (7), american (7), thing (7), realli (7), he (7), and (7), gun (7), countri (7), peopl (7), weapon (7), just (7), outlet (6), america (6), feel (6), s (6), that (6), felt (6), offici (6), guy (6), might (6), leader (6), u (6), shooter (5), they (5), republican (5), politician (5), lawmak (5), usa (5), dont (5), legisl (5), congress (5), about (5), civilian (5), adult (5), fact (5), act (4), you (4), but (4), even (4), do (4), women (4), attack (4), senat (4), on (4), communiti (4), right (4), longer (4), voter (4), shouldn (4), who (4), event (4), rifl (4), your (4), anyon (4), offic (4), let (4), doe (4), nra (4), urgent (4), these (4), in (4), side (4), what (4), victim (4), it (4), children (4), gop (4)\\\\\n",
      "\\noindent\\emph{Republican}\\\\they (11), you (11), peopl (9), citizen (8), will (8), realli (7), liber (7), no (7), american (7), polic (7), all (6), i (6), feel (6), kill (6), and (6), shoot (6), attack (6), owner (6), we (5), serious (5), cop (5), world (5), gun (5), christian (5), control (5), media (5), don (5), side (5), author (5), conserv (5), folk (5), s (4), muslim (4), sign (4), everyon (4), famili (4), it (4), state (4), just (4), u (4), do (4), other (4), onli (4), dont (4), ppl (4), is (4), there (4), may (4), issu (4), even (4), realdonaldtrump (4), word (4), head (4), shit (4), protest (4), shooter (4), would (4), but (4), communiti (4), question (4), law (4)\\\\\n",
      "\\begin{center}\\textbf{NEEDS TO}\\end{center}\n",
      "\\noindent\\emph{Democrat}\\\\need (12), now (12), stop (10), end (9), gun (8), be need (8), happen (8), i (8), done (7), are (7), is (6), this (6), in (6), fuck (6), as (6), about (6), right (6), law (6), control (6), gunsens (6), and (5), think (5), chang (5), act (5), who (5), that (5), guncontrolnow (5), prayer (5), continu (5), prevent (5), polic (5), go (5), live (5), there (4), dead (4), shit (4), issu (4), famili (4), guncontrol (4), gunviol (4), more (4), public (4), their (4), countri (4), for (4), no (4), your (4), day (4), be should (4), gunreformnow (4), away (4), person (4), week (4), deserv (4), all (4), an (4), trump (4), say (4), victim (4), said (4)\\\\\n",
      "\\noindent\\emph{Republican}\\\\shoot (9), their (8), shooter (8), stop (7), he (7), peopl (7), it (7), in (7), of (6), 2a (6), need (5), be need (5), we (5), and (5), them (5), from (5), held (5), fire (5), white (5), 1 (5), did (4), these (4), look (4), for (4), arm (4), all (4), solv (4), chang (4), do (4), job (4), control (4), attack (4), is (4), right (4), on (4), like (4), go (4), s (4), his (4), was (4), or (4), protect (4), media (4), offic (4), close (4), were (4), off (4), they (4)\\\\\n",
      "\\begin{center}\\textbf{HAVE TO}\\end{center}\n",
      "\\noindent\\emph{Democrat}\\\\don (13), peopl (13), we (12), this (11), mani (10), more (9), shouldn (9), i (9), doesn (8), american (8), children (8), just (7), all (7), will (7), should (7), never (6), still (6), u (6), wouldn (6), there (6), who (6), live (6), thing (6), countri (6), even (6), you (6), shoot (6), longer (5), famili (5), might (5), they (5), it (5), believ (5), may (5), us (5), go (5), america (5), gonna (5), prayer (5), would (4), he (4), realli (4), person (4), men (4), didn (4), shooter (4), state (4), ll (4), actual (4), kid (4), law (4), tragedi (4), me (4), liter (4), for (4), want (4), citizen (4), do (4), could (4), nation (4), innoc (4), didnt (4), babi (4), today (4), congress (4)\\\\\n",
      "\\noindent\\emph{Republican}\\\\you (12), polic (10), would (10), go (9), i (9), they (9), that (9), and (9), will (8), shoot (8), d (7), didn (6), should (6), never (6), it (6), now (6), control (6), may (6), nra (6), shooter (5), ll (5), u (5), won (5), muslim (5), these (5), he (5), wouldn (5), trump (5), kill (5), us (4), who (4), just (4), still (4), attack (4), ever (4), even (4), did (4), gun (4), law (4), gonna (4), do (4), doe (4), but (4), guy (4), somebodi (4), enforc (4), democrat (4), alway (4), don (4), might (4), we (4)\\\\\n",
      "\\begin{center}\\textbf{HAS TO}\\end{center}\n",
      "\\noindent\\emph{Democrat}\\\\this (14), someth (9), he (9), who (9), violenc (9), america (8), it (8), shit (8), that (7), just (7), one (7), countri (7), kill (7), shoot (6), gun (6), someon (6), more (6), guncontrol (5), shooter (5), mad (5), els (5), congress (5), there (4), blood (4), trump (4), gop (4), and (4), cycl (4), prayer (4), when (4), never (4), insan (4), ever (4), you (4), she (4)\\\\\n",
      "\\noindent\\emph{Republican}\\\\it (10), there (10), that (7), this (6), he (6), obama (6), and (6), what (6), shoot (6), trump (5), someon (5), terror (4), violenc (4), she (4), countri (4), onli (4), secur (4), left (4), murder (4), shit (4), just (4), mad (4), potus (4), someth (4)\\\\\n"
     ]
    }
   ],
   "source": [
    "print_top(most_dem_bef, most_rep_bef)"
   ]
  },
  {
   "cell_type": "code",
   "execution_count": 76,
   "metadata": {
    "scrolled": true
   },
   "outputs": [
    {
     "name": "stdout",
     "output_type": "stream",
     "text": [
      "\\begin{center}\\textbf{MUST}\\end{center}\n",
      "\\noindent\\emph{Democrat}\\\\do (20), end (14), stop (12), be white (12), die (12), address (12), act (12), not enough (11), stand (10), all (10), we (10), find (10), come (9), be done (9), ask (9), get (9), chang (9), pass (9), say (8), rememb (8), be taken (8), happen (8), now (8), this (7), face (7), prevent (7), includ (7), be proud (7), vote (7), be veri (7), keep (7), be stop (7), go (7), read (7), see (7), gun (7), be so (7), continu (7), miss (7), also (6), not just (6), be hard (6), be chang (6), been (6), demand (6), live (6), be realli (6), take (6), not get (6), hold (6), fight (6), lead (6), call (6), be lost (6), final (6), follow (6), push (6), suffer (6), work (6), be feel (6), not forget (6), rise (6), honor (6), not becom (6), perish (5), answer (5), fuck (5), ensur (5), feel (5), think (5), fix (5), deal (5), i (5), realli (5), be some (5), mean (5), build (5), be someth (5), examin (5), up (5), make (5), understand (5), be mental (5), ban (5), begin (5), confront (5), not help (5), not time (5), be care (5), admit (5), heard (5), enact (5), not toler (5), be against (4), not let (4), post (4), talk (4), shot (4), be condemn (4), not terror (4), condemn (4), you (4), b (4), be high (4), love (4), speak (4), be shot (4), not an (4), not see (4), be ask (4), apolog (4), not stop (4), but (4), fear (4), be pass (4), be brown (4), join (4), overcom (4), learn (4), pray (4), attack (4), be address (4), be worri (4), oppos (4), realiz (4), help (4), not accept (4), occur (4), endgunviol (4), there (4), combat (4), mourn (4), be like (4), regul (4), after (4), hate (4), reject (4), be better (4), their (4), not allow (4), defeat (4), courag (4), support (4), not take (4), be upset (4), be do (4), acknowledg (4), listen (4), treat (4), allow (4), be differ (4), break (4), guncontrol (4), be safe (4), not okay (4), hv (4), disarmh (4), look (4), it (4), move (4), elect (4), choos (4), be part (4), commit (4), organ (4), be pleas (4), evolv (4), be close (4)\\\\\n",
      "\\noindent\\emph{Republican}\\\\been (10), ban (10), watch (10), know (9), see (8), be in (7), protect (7), be held (7), be gun (7), of (6), be an (6), had (6), receiv (6), an (6), die (6), be stop (6), be kill (6), miss (6), be prosecut (6), stop (6), be one (6), never (6), be elimin (6), be arrest (6), arm (5), not allow (5), be blame (5), remain (5), be allow (5), be remov (5), give (5), not onli (5), not been (5), make (5), b (5), realiz (5), be more (5), resign (5), be vigil (5), read (5), serious (5), peopl (5), investig (5), be happi (5), understand (5), be dealt (5), be punish (5), seen (5), not fit (5), be so (5), say (5), disavow (5), return (5), be proud (5), first (5), take (4), start (4), unit (4), not all (4), renounc (4), be becaus (4), follow (4), mean (4), add (4), rememb (4), denounc (4), be go (4), be whi (4), be brought (4), go (4), be laugh (4), feel (4), need (4), love (4), be tough (4), be that (4), control (4), kill (4), think (4), not be white (4), be defeat (4), get (4), be get (4), face (4), look (4), be true (4), want (4), be erad (4), becom (4), be muslim (4), defend (4), reform (4), be train (4), same (4), be answer (4), not about (4), not so (4), gotten (4), be found (4), be outlaw (4), be clear (4), keep (4), turn (4), alway (4), prepar (4), new (4), stand (4), challeng (4), put (4), consid (4), be some (4), be done (4), come (4)\\\\\n",
      "\\begin{center}\\textbf{SHOULD}\\end{center}\n",
      "\\noindent\\emph{Democrat}\\\\had (12), not be surpris (12), start (11), not access (11), not we (11), be forc (11), live (11), still (11), not be normal (11), not fear (10), not happen (10), do (9), not exist (9), call (9), be report (9), be asham (9), not be happen (9), be more (9), send (9), probabl (9), say (9), all (9), not be abl (9), talk (9), come (8), more (8), never (8), not gun (8), leav (8), be allow (8), bring (8), not be allow (8), stand (8), not them (8), stay (8), die (8), not take (8), fear (8), build (8), stop (7), be outrag (7), gun (7), give (7), make (7), look (7), get (7), need (7), not becom (7), you (7), also (7), apolog (7), and (7), attend (7), just (7), not be afraid (7), tell (7), we (7), be as (7), be charg (7), not make (7), be safe (7), right (7), not had (7), own (7), not go (7), i (7), not matter (7), it (7), not even (7), not shoot (7), hold (7), end (7), be focus (7), be requir (7), go (7), not be norm (7), ever (7), onli (7), be enough (7), not onli (7), not live (7), be abl (7), be in (7), realli (7), not need (7), expect (7), too (7), be celebr (7), deal (7), know (7), happen (6), learn (6), militari (6), been (6), visit (6), be get (6), be gun (6), ask (6), pay (6), be illeg (6), politic (6), be place (6), be call (6), run (6), be worri (6), peopl (6), be afraid (6), read (6), not be so (6), keep (6), not chang (6), sue (6), access (6), post (6), be arm (6), not so (6), but (6), be use (6), wait (6), known (6), not be that (6), definit (6), be some (6), not do (6), be kill (6), at (6), not just (6), lead (6), pray (6), be on (6), not be sold (6), face (6), now (6), not die (6), note (6), fuck (6), see (6), be veri (6), not he (6), not normal (6), be pay (5), not enough (5), ban (5), consid (5), buy (5), be address (5), be treat (5), tri (5), worri (5), feel (5), not be common (5), be so (5), focus (5), be done (5), want (5), not rush (5), be tri (5), not assum (5), watch (5), join (5), carri (5), be think (5), let (5), be prais (5), not be in (5), find (5), mean (5), not legal (5), shoot (5), cover (5), they (5), not be partisan (5), be horrifi (5), caus (5), not be polit (5), hang (5), not b (5), arm (5), investig (5), be scare (5), check (5), not be new (5), tweet (5), not be on (5), not it (5), not that (5), not be blame (5), not feel (5), not say (5), not be this (5), not be kill (5), delet (5), be legal (5), not be more (5), rememb (5), donat (5), be easier (5), automat (5), no (5), not be legal (5), mourn (5), close (5), seen (5), not assault (5), not be ignor (5), endur (5), not be possibl (5), not be thing (5), care (5), possess (5), absolut (5), not be easier (5), be last (5), be remind (5), be sold (5), lock (5), not talk (5), be work (5), experi (5), mayb (5), not accept (5), not been (5), put (5), lose (5), discuss (5), shooter (5), not be an (5), be fix (5), this (5), fix (5), alway (5), be do (5), be tweet (5), be aliv (5), be issu (5), file (5), wear (4), be an (4), be releas (4), that (4), be ban (4), not toler (4), attack (4), muslim (4), be award (4), explain (4), not pass (4), same (4), pick (4), not distract (4), gone (4), said (4), be turn (4), be against (4), for (4), be recogn (4), interview (4), not care (4), open (4), not they (4), be angri (4), be wake (4), be with (4), not ask (4), deport (4), not surpris (4), save (4), set (4), not allow (4), not be worri (4), not safe (4), be account (4), your (4), be support (4), not sure (4), he (4), be thing (4), rais (4), be interest (4), not be up (4), presid (4), what (4), block (4), sit (4), be expect (4), not your (4), be refer (4), not someth (4), be normal (4), be privileg (4), not shot (4), not be attack (4), recogn (4), add (4), not be get (4), b (4), claim (4), be send (4), not be shot (4), not call (4), not be restrict (4), be label (4), not be controversi (4), be kept (4), citizen (4), not be target (4), chill (4), use (4), not ever (4), fli (4), shut (4), not apolog (4), terrifi (4), celebr (4), be free (4), be murder (4), not own (4), not politic (4), not be our (4), kept (4), not still (4), re (4), not taken (4), be follow (4), be make (4), be prevent (4), think (4), be sent (4), inspir (4), be shoot (4), not trump (4), not fight (4), rethink (4), not come (4), point (4), not send (4), cancel (4), some (4), be vote (4), not tri (4), not be arm (4), not way (4), be that (4), not see (4), be right (4), act (4), be repeal (4), provid (4), not keep (4), finish (4), not be anoth (4), not pay (4), gotten (4), be face (4), not be war (4), be i (4), sell (4), not either (4), be surpris (4), not solut (4), an (4), not kill (4), not should (4), be live (4), not how (4), not be onli (4), be all (4), be taken (4), includ (4), forget (4), would (4), not think (4), be applaud (4), inform (4), be crime (4), be good (4), be prepar (4), not time (4), not be desensit (4), not deserv (4), be proud (4), name (4), mention (4), not expect (4), be your (4), serv (4), not be go (4), help (4), thank (4)\\\\\n",
      "\\noindent\\emph{Republican}\\\\ban (12), be no (10), he (10), of (10), be on (10), never (9), read (9), go (9), know (9), shot (9), check (9), not you (9), get (9), be taken (9), been (9), look (9), blame (8), realiz (8), b (8), carri (8), be fire (8), be put (8), take (8), make (8), be prosecut (8), be punish (8), we (8), said (8), at (7), not been (7), not gun (7), respond (7), not own (7), not say (7), they (7), step (7), show (7), be chang (7), just (7), be done (7), stop (7), put (7), gun (7), consid (7), sue (7), be held (7), not blame (7), ask (7), be allow (6), be arm (6), i (6), not jump (6), not be gun (6), use (6), be in (6), be impeach (6), be remov (6), be focus (6), lead (6), be honor (6), set (6), his (6), face (6), be asham (6), give (6), chang (6), not it (6), be treat (6), see (6), be shot (6), outlaw (6), come (6), be arrest (6), resign (6), spend (6), be su (6), not b (6), us (6), move (6), alway (6), find (6), mention (6), be deport (6), focus (6), be classifi (6), be whi (6), immedi (6), be investig (6), be consid (6), be law (6), report (6), be dealt (6), investig (6), be happi (6), allow (5), all (5), not protect (5), had (5), wait (5), tell (5), also (5), law (5), keep (5), not he (5), watch (5), arm (5), not even (5), remain (5), but (5), be renam (5), be brought (5), known (5), protest (5), not we (5), shut (5), be for (5), not politic (5), be kill (5), be label (5), be shut (5), not do (5), not judg (5), think (5), remind (5), apolog (5), not be shock (5), be tri (5), be question (5), them (5), be pray (5), be talk (5), charg (5), acknowledg (5), be do (5), not be on (5), drop (5), be an (5), be call (5), not mean (5), call (5), be blame (5), believ (5), not all (5), demand (5), releas (5), be charg (5), be ask (5), be check (5), be immedi (5), 2 (5), be look (5), review (5), be new (5), be suspend (5), kill (5), be ban (5), turn (5), be thank (5), happen (5), not happen (4), prevent (4), be safe (4), be care (4), declar (4), alreadi (4), now (4), let (4), not let (4), trust (4), be littl (4), be day (4), ever (4), not of (4), be at (4), follow (4), be protest (4), taken (4), file (4), rememb (4), not kill (4), be discuss (4), be condemn (4), understand (4), gone (4), explain (4), be taught (4), react (4), be go (4), be protect (4), not about (4), be execut (4), be encourag (4), be defend (4), be made (4), question (4), not 1 (4), be easi (4), went (4), no (4), learn (4), more (4), be train (4), not show (4), not gotten (4), fight (4), person (4), secur (4), vote (4), pass (4), not on (4), throw (4), serv (4), figur (4), fire (4), not get (4), concentr (4), be interest (4), not be made (4), start (4), be use (4), be handl (4), done (4), not in (4), be note (4), given (4), not be toler (4), not believ (4), be indict (4), matter (4), not be ani (4), be under (4), not use (4), not there (4), there (4), their (4), be give (4), not one (4), not be politic (4), then (4), teach (4), work (4), shoot (4), be worri (4), hire (4), be good (4), be jail (4), not turn (4), be stand (4), left (4), direct (4), assum (4), presid (4), first (4), be mad (4), man (4), address (4), pray (4), be rememb (4), not care (4), wear (4), join (4), care (4), fall (4), pleas (4), act (4), be titl (4), do (4), prove (4), be more (4), seen (4), be shame (4), made (4), one (4), be concern (4)\\\\\n",
      "\\begin{center}\\textbf{NEED TO}\\end{center}\n",
      "\\noindent\\emph{Democrat}\\\\chang (13), do (13), take (11), act (11), stop (11), happen (10), talk (10), die (10), stand (9), fix (9), know (8), start (8), understand (8), wait (8), end (8), vote (8), solv (8), shoot (7), hear (7), bring (7), get (7), call (7), speak (7), be shot (7), pass (7), figur (7), make (7), listen (7), own (7), find (7), see (7), reform (6), re (6), focus (6), keep (6), wake (6), pray (6), demand (6), work (6), reevalu (6), help (6), ban (6), be ban (6), watch (6), acknowledg (6), an (6), treat (6), look (6), occur (6), not just (6), be chang (6), not need (6), live (6), sit (6), be lost (5), step (5), stay (5), fear (5), not safe (5), move (5), address (5), say (5), use (5), put (5), accept (5), report (5), worri (5), not enough (5), be better (5), come (5), point (5), recogn (5), rise (5), be taken (5), serious (5), lose (5), continu (5), be talk (5), carri (5), real (5), pack (5), honor (5), creat (5), hold (5), face (5), prevent (5), grow (4), send (4), priorit (4), attack (4), ask (4), reconsid (4), go (4), fuck (4), learn (4), respond (4), be regist (4), be safe (4), close (4), pick (4), not muslim (4), read (4), befor (4), unit (4), relax (4), not what (4), arm (4), be made (4), tighten (4), be outlaw (4), remind (4), be regul (4), be proactiv (4), limit (4), walk (4), rememb (4), more (4), not ok (4), not surpris (4), support (4), be address (4), not an (4), heal (4), resign (4), join (4), 1 (4), purchas (4), agre (4), charg (4), not work (4), cover (4), feel (4), build (4), be restrict (4), fight (4), experi (4), be said (4), reduc (4), be heard (4), be outrag (4), add (4), let (4), discuss (4), be kill (4), leav (4), suffer (4)\\\\\n",
      "\\noindent\\emph{Republican}\\\\know (12), ban (9), look (9), arm (8), be arm (8), come (8), get (8), kill (8), realiz (8), find (7), pull (7), go (7), pray (7), protect (7), be in (7), stop (6), investig (6), give (6), allow (6), see (6), work (6), be put (6), address (6), attack (6), own (6), think (6), be more (6), open (6), examin (6), not answer (6), not about (6), check (6), be dealt (6), not get (6), shoot (6), say (5), carri (5), let (5), do (5), leav (5), chang (5), be at (5), talk (5), not make (5), not gun (5), keep (5), shut (5), hear (5), disarm (5), educ (5), be on (5), blame (5), quit (5), bring (5), be remov (5), not stop (5), return (5), be prepar (5), show (5), just (5), push (5), promot (5), ask (5), be held (5), determin (4), not do (4), pay (4), control (4), figur (4), use (4), be stricter (4), research (4), walk (4), end (4), better (4), gun (4), meet (4), be enforc (4), lock (4), turn (4), be deport (4), googl (4), tone (4), unit (4), step (4), focus (4), wake (4), understand (4), be stop (4), watch (4), consid (4), back (4), be focus (4), be investig (4), be ask (4), be readi (4), train (4), not all (4), not problem (4), divert (4), roll (4), harden (4), start (4), learn (4), grow (4), respect (4), be train (4), be erad (4), prepar (4), be ban (4), hold (4), enforc (4), help (4), screen (4), worri (4)\\\\\n",
      "\\begin{center}\\textbf{NEEDS TO}\\end{center}\n",
      "\\noindent\\emph{Democrat}\\\\not enough (7), not even (6), not ok (6), not just (6), not as (4), not okay (4), not let (4), not go (4)\\\\\n",
      "\\noindent\\emph{Republican}\\\\not gun (5), not help (5), not use (5), not all (4), not about (4), not answer (4)\\\\\n",
      "\\begin{center}\\textbf{HAVE TO}\\end{center}\n",
      "\\noindent\\emph{Democrat}\\\\die (15), worri (12), talk (10), live (10), endur (10), chang (9), hear (8), kill (8), go (8), act (8), explain (8), happen (8), buri (8), make (8), be this (8), add (7), befor (7), be lost (7), address (7), shoot (6), gun (6), be care (6), say (6), get (6), call (6), occur (6), show (6), look (6), stop (6), be think (6), put (6), see (6), carri (6), not worri (6), sit (6), one (6), wait (6), take (6), fight (6), think (6), not fear (5), do (5), come (5), answer (5), keep (5), use (5), watch (5), cover (5), hope (5), fuck (5), buy (5), pray (5), be befor (5), had (5), lose (5), i (5), check (5), be murder (5), accept (5), tell (5), step (5), ask (5), work (5), pay (5), be shot (5), tweet (5), wake (5), hold (5), fear (5), suffer (5), no (5), lot (5), not happen (5), not face (5), but (5), be like (5), pick (5), pretend (5), face (4), be stupid (4), teach (4), report (4), start (4), not just (4), be scare (4), be muslim (4), rememb (4), creat (4), actual (4), support (4), consid (4), be afraid (4), question (4), even (4), quit (4), spend (4), grow (4), compar (4), run (4), stay (4), not ok (4), clarifi (4), not understand (4), wit (4), be slaughter (4), lost (4), it (4), more (4), decid (4), experi (4), confront (4), point (4), walk (4), anoth (4), discuss (4), return (4), attend (4), close (4), save (4), offer (4), be in (4), end (4), listen (4), find (4), disagre (4), not enough (4), feel (4), time (4), be for (4), not die (4), beg (4)\\\\\n",
      "\\noindent\\emph{Republican}\\\\do (12), wait (10), wonder (9), deal (8), take (8), protect (8), say (8), stop (8), go (8), start (7), find (7), ban (7), put (7), agre (7), get (7), know (7), shoot (7), look (6), listen (6), keep (6), admit (6), kill (6), work (6), defend (6), prepar (6), ask (5), not gun (5), fight (5), fear (5), give (5), live (5), be in (5), read (5), make (5), send (5), learn (5), report (5), not do (5), use (5), happen (4), be kill (4), forgiv (4), googl (4), attack (4), come (4), pay (4), point (4), arm (4), consid (4), wake (4), realiz (4), worri (4), bring (4), increas (4), pray (4), turn (4), hear (4), been (4), be about (4), be abl (4), assum (4), prevent (4), peopl (4), be on (4), be shoot (4), wear (4), be special (4), not sure (4), be mental (4), love (4), stand (4), rememb (4), be realli (4), gun (4), follow (4)\\\\\n",
      "\\begin{center}\\textbf{HAS TO}\\end{center}\n",
      "\\noindent\\emph{Democrat}\\\\stop (17), chang (10), happen (10), end (9), die (8), come (6), be done (6), say (5), offer (5), take (5), talk (5), go (5), give (4), not enough (4), work (4), fuck (4), be last (4), buri (4), look (4), be said (4), make (4), get (4), deal (4)\\\\\n",
      "\\noindent\\emph{Republican}\\\\say (11), do (10), be one (8), give (6), go (5), take (5), be more (5), start (4), not sure (4), be most (4), keep (4), defend (4), be someth (4), be said (4), ask (4), be fake (4), not go (4), come (4)\\\\\n"
     ]
    }
   ],
   "source": [
    "print_top(most_dem_aft, most_rep_aft)"
   ]
  },
  {
   "cell_type": "code",
   "execution_count": 77,
   "metadata": {
    "scrolled": true
   },
   "outputs": [
    {
     "name": "stdout",
     "output_type": "stream",
     "text": [
      "\\begin{center}\\textbf{MUST}\\end{center}\n",
      "\\noindent\\emph{Democrat}\\\\we must do (19), we must end (12), we must address (12), congress must act (10), this must stop (10), we must all (9), we must stop (9), someth must be done (9), mani must die (9), prayer must not enough (9), we must act (9), shooter must be white (8), we must stand (8), i must say (8), he must be white (8), violenc must end (8), long must we (8), more must die (8), this must end (8), we must find (8), mad must stop (8), violenc must stop (8), and must do (8), we must vote (8), insan must stop (7), it must stop (7), peopl must die (7), we must rememb (7), shoot must stop (7), we must keep (7), whi must we (7), we must fight (7), we must get (7), we must make (7), we must chang (7), we must continu (7), mad must end (7), time must this (6), we must prevent (6), someth must chang (6), we must demand (6), we must take (6), we must also (6), is must  (6), live must be lost (6), this must chang (6), kill must stop (6), we must pass (6), live must be taken (6), we must hold (6), we must honor (6), you must have miss (6), shooter must have been (5), they must know (5), thing must chang (5), this must not happen (5), we must not let (5), we must fix (5), whi must i (5), that must mean (5), you must be proud (5), it must end (5), shoot must end (5), congress must take (5), there must have been (5), we must push (5), i must ask (5), nra must be so (5), time must we (5), we must come (5), we must have gun (5), you must be so (5), action must be taken (5), we must deal (5), shoot must we (5), congress must pass (5),  must read (5), more must we (5), we must not becom (5), we must enact (5), i must have miss (5), we must not forget (5), you must take (5), we must ask (4), we must recogn (4), we must face (4), more must be done (4), kill must end (4), world must think (4), chang must happen (4), you must be veri (4), we must now (4), there must be someth (4), epidem must be stop (4), and must be stop (4), action must follow (4), control must happen (4), law must chang (4), it must feel (4), we must work (4), violenc must be stop (4), we must confront (4), we must endgunviol (4), we must combat (4), we must mourn (4), we must begin (4), we must  (4), we must have chang (4), is must read (4), we must not allow (4), we must defeat (4), chang must come (4), gunviol must end (4), we must listen (4), we must treat (4), we must creat (4), we must allow (4), children must die (4), you must watch (4), we must have guncontrol (4), all must take (4), s must read (4), we must disarmh (4), we must look (4), we must protect (4), we must elect (4), rifl must be ban (4), we must call (4), stori must see (4), law must be chang (4), carnag must end (4), they must take (4), now must not time (4)\\\\\n",
      "\\noindent\\emph{Republican}\\\\it must have been (8), we must ban (7),  must see (7), we must remain (6), we must not allow (5), we must stop (5), we must protect (5),  must watch (5), i must say (5), we must stand (5), we must arm (4), this must stop (4), mani must die (4), we must remov (4), you must know (4),  must have been (4), parent must be so (4), they must know (4), we must never (4), i must have miss (4), he must resign (4), we must love (4), whi must you (4), shoot must watch (4), attack must stop (4), is must for (4), we must be vigil (4), you must be happi (4), they must be stop (4), we must reform (4), it must be stop (4), this must be one (4), we must start (4), rhetor must stop (4), we must understand (4), shoot must stop (4), we must return (4)\\\\\n",
      "\\begin{center}\\textbf{SHOULD}\\end{center}\n",
      "\\noindent\\emph{Democrat}\\\\it should have been (12), we should just (11), we should all (10), who should not gun (10), this should not be normal (10), we should do (9), this should not happen (9), we should be focus (9), this should have never (9), what should we (8), who should not them (8),  should we (8), everyon should be abl (7), shoot should not happen (7), we should stop (7), we should start (7), this should not be happen (7), we should send (7), or should i (7), we should not be surpris (7), we should wait (7), you should not be abl (7), we should not live (7), we should not need (7), we should never (7), who should not had (7), this should never (6), you should never (6), we should politic (6), we should get (6), we should know (6),  should not we (6), everyon should have gun (6), we should stand (6), we should still (6),  should i (6), it should not matter (6), shoot should sue (6), we should  (6), i should not be surpris (6), shoot should not be norm (6), there should have been (6), one should die (6), one should have go (6), peopl should not be allow (6), it should not take (6), you should not be allow (6), one should live (6), civilian should not access (6), you should see (6), when should we (6), never should have had (6), you should take (6), we should chang (5), you should ask (5), gun should be illeg (5), shoot should never (5), how should we (5), one should have worri (5), we should be afraid (5), you should  (5), you should read (5), peopl should be allow (5), we should not politic (5), whi should we (5), we should not rush (5), we should let (5), he should get (5), they should also (5), he should not be allow (5), you should do (5), we should feel (5), whi should they (5), we should not allow (5), we should not be abl (5), so should we (5), we should focus (5), whi should it (5), one should be abl (5), i should have known (5), one should ever (5), you should be asham (5), congress should be forc (5), it should not be that (5), there should be some (5), we should not do (5), law should have been (5), this should not be new (5), we should definit (5), peopl should not access (5), it should not happen (5), fbi should investig (5), that should not be happen (5), peopl should be abl (5), one should feel (5), one should have fear (5), we should rememb (5), whi should peopl (5), we should be do (5), you should all (5), it should not even (5), you should too (5), he should not had (5), we should tri (5), you should be more (5), this should not how (5), hook should have been (5), this should not normal (5), civilian should own (5), shoot should get (5), we should discuss (5), that should have been (5), you should be tweet (5), someon should do (4), we should be outrag (4), we should ban (4), we should consid (4), media should be asham (4), peopl should be more (4), you should tri (4), shoot should not be common (4), you should be so (4), you should not use (4), we should close (4), who should get (4), we should not make (4), we should fear (4), we should probabl (4), one should fear (4), we should not fear (4), who should we (4), we should call (4), shooter should not had (4), you should find (4), you should have been (4), shooter should have been (4), shoot should we (4), can should do (4), we should have gun (4), you should be held (4), we should hold (4), on should of (4), gun should be ban (4), headlin should read (4), they should  (4), you should look (4), we should keep (4), this should not be norm (4), there should never (4), we should bring (4), you should tweet (4), they should know (4), there should be more (4), he should go (4), american should be abl (4), we should build (4), whi should anyon (4), i should not go (4), one should be kill (4), gun should be outlaw (4), peopl should not be kill (4), it should not be this (4), you should get (4), we should pray (4), peopl should feel (4), what should be safe (4), one should go (4), one should have live (4), we should not ban (4), we should go (4), you should delet (4), we should not be afraid (4), peopl should not be afraid (4), never should have been (4), he should be asham (4), but should not we (4), that should be illeg (4), we should expect (4), civilian should have access (4), you should want (4), person should be abl (4), thing should not happen (4), they should feel (4), civilian should have an (4), and should be treat (4), they should have had (4), one should lose (4), we should now (4), peopl should not fear (4), shoot should have never (4), everyon should have right (4), one should have an (4), we should not gun (4), one should be afraid (4), it should not surpris (4), this should not be our (4), you should be embarrass (4), you should leav (4), peopl should not gun (4), shoot should not be an (4), citizen should own (4), who should have never (4), we should be talk (4), we should not let (4), weapon should be legal (4), we should also (4), you should stop (4), he should never (4), everyon should read (4), you should rethink (4), weapon should be ban (4), it should not been (4), we should say (4), all should  (4), who should never (4), someon should ask (4), we should have done (4),  should they (4), civilian should ever (4), peopl should get (4), weapon should  (4), i should never (4), she should go (4), he should do (4), all should be asham (4), someon should shoot (4), that should get (4), we should name (4), one should have experi (4), peopl should have access (4), we should arm (4), it should be for (4), we should treat (4), we should care (4), nra should have pay (4), they should have been (4), we should realli (4), i should not say (4), that should not gun (4), one should have been (4), it should  (4), shooter should also (4), they should send (4),  should peopl (4), it should go (4), we should forget (4), what should i (4), shoot should not been (4), it should not about (4), someon should tell (4), you should put (4), we should not law (4), you should be abl (4), or should we (4), now should not time (4),  should not onli (4), that should not happen (4), he should  (4), we should be abl (4), that should be safe (4), shoot should not be normal (4), he should stop (4), nra should pay (4), we should not ani (4), somebodi should tell (4), shooter should go (4), you should probabl (4), victim should sue (4), what should have been (4)\\\\\n",
      "\\noindent\\emph{Republican}\\\\we should ban (10), we should make (9), you should be asham (8), there should be no (8), you should know (8), they should all (7), it should not gun (7), he should have been (7), shooter should get (7), they should  (6),  should we (6), we should keep (6), we should all (6), whi should he (6), headlin should read (6), they should just (6), you should see (6), you should go (6), they should be abl (5), we should not jump (5), they should use (5), shoot should we (5), everyon should know (5), we should be abl (5), there should never (5), he should have shot (5), you should probabl (5), i should not say (5), there should not be gun (5), and should be fire (5), shooter should have been (5), he should be in (5), polic should have gun (5), and should be prosecut (5), i should have been (5), you should do (5), you should ask (5), famili should sue (5), they should of (5), it should be note (5), what should be done (5), and should have been (5), he should be arrest (5), they should not be allow (5), govern should have gun (5), there should be law (5), whi should i (5), you should stop (5), we should see (5), it should be no (4), this should not happen (4),  should not we (4), they should ban (4), never should have happen (4), and should be treat (4), you should watch (4), this should never (4), gun should have been (4), we should take (4), this should have been (4), it should of (4), you should look (4), they should have had (4), they should give (4), they should be allow (4), there should have been (4), we should blame (4), they should kill (4), we should at (4), they should make (4), we should get (4), shoot should not we (4), citizen should be arm (4), shoot should never (4), obama should resign (4), they should have been (4), he should be impeach (4), shooter should never (4), someon should inform (4), we should outlaw (4), they should tri (4), we should think (4), we should pass (4), or should we (4), he should be fire (4), us should take (4), you should be fire (4), we should ask (4), you should have been (4), he should not been (4), fbi should have been (4), flag should be flown (4),  should you (4), we should have known (4), shoot should get (4), we should be ask (4), terror should be treat (4), parent should be held (4), he should have stop (4), state should take (4), we should add (4), he should be charg (4), he should take (4), democrat should not be allow (4), they should hang (4), you should be mad (4), we should work (4), democrat should not gun (4), we should have gun (4), what should they (4), there should be an (4), what should we (4), they should take (4), gun should be taken (4), we should put (4), one should ever (4), we should also (4), who should we (4), shooter should not had (4), never should have had (4), it should be illeg (4)\\\\\n",
      "\\begin{center}\\textbf{NEED TO}\\end{center}\n",
      "\\noindent\\emph{Democrat}\\\\we need to talk (13), we need to stop (12), peopl need to die (12), we need to act (11), we need to do (10), we need to stand (9), we need to take (9), we need to keep (9), more need to die (9), shoot need to happen (8), law need to chang (8), we need to chang (8), i need to know (8), we need to fix (8), we need to solv (8), we need to rememb (8), we need to get (7), we need to wake (7), don need to know (7), we need to call (7), we need to work (7), we need to vote (7), we need to make (7), we need to hear (6), you need to know (6), we need to pray (6), thing need to chang (6), we need to ban (6), you need to get (6), you need to stop (6), we need to start (6), we need to figur (6), all need to stop (6), we need to come (6), we need to put (6), we need to go (6), live need to be lost (5), we need to bring (5), violenc need to end (5), shoot need to take (5), we need to address (5), realli need to get (5), shoot need to stop (5), we need to an (5), politician need to stop (5), we need to be better (5), gun need to go (5), we need to learn (5), we need to say (5), peopl need to stop (5), we need to see (5), we need to pass (5), they need to carri (5), no need to worri (5), we need to help (5), we need to listen (5), live need to be taken (5), law need to be chang (5), we need to lose (5), we need to hold (5), we need to end (5), we need to be abl (5), we need to demand (5), we need to limit (5), don need to see (5), violenc need to stop (5), peopl need to be shot (5), we need to honor (5), we need to treat (5), children need to die (5), weapon need to be ban (5), we need to more (5), we need to understand (5), all need to take (5), you need to see (5), we need to  (5), we need to prevent (5), act need to stop (4), we need to focus (4), don need to keep (4), we need to priorit (4), we need to ask (4), all need to work (4), we need to move (4), don need to worri (4), we need to know (4), they need to go (4), peopl need to start (4), feel need to kill (4), we need to restrict (4), we need to watch (4), you need to take (4), we need to acknowledg (4), you need to read (4), you need to call (4), we need to befor (4), we need to unit (4), we need to look (4), and need to act (4), gun need to be ban (4), we need to arm (4), this need to happen (4), realli need to do (4), realli need to chang (4), you need to do (4), shoot need to end (4), all need to get (4), feel need to shoot (4), we need to live (4), we need to be proactiv (4), feel need to go (4), we need to not need (4), you need to make (4), i need to say (4), we need to support (4), they need to find (4), gun need to be regul (4), you need to own (4), we need to discuss (4), we need to real (4), i need to stop (4), we need to be talk (4), feel need to carri (4), also need to look (4), they need to pay (4), outlet need to stop (4), you need to act (4), u need to do (4), we need to find (4), we need to fight (4), all need to see (4), also need to take (4), congress need to do (4), don need to do (4), leader need to do (4), you need to vote (4), you need to hear (4), all need to do (4)\\\\\n",
      "\\noindent\\emph{Republican}\\\\we need to know (9), we need to get (9), you need to know (9), we need to ban (8), we need to protect (7), peopl need to realiz (7), peopl need to get (7), we need to allow (6), we need to arm (6), we need to pray (6), realli need to stop (6), you need to look (6), kill need to stop (6), we need to be more (6), we need to kill (6), shoot need to stop (6), you need to stop (6), we need to find (5), we need to pull (5), we need to let (5), we need to start (5), we need to look (5), we need to come (5), you need to get (5), we need to shut (5), realli need to look (5), we need to realiz (5), we need to focus (5), peopl need to stop (5), you need to go (5), democrat need to stop (5), peopl need to know (5), we need to carri (4), we need to do (4), you need to call (4), we need to keep (4), we need to address (4), no need to use (4), violenc need to stop (4), it need to not gun (4), you need to  (4), no need to attack (4), they need to keep (4), they need to kill (4), we need to lock (4), media need to stop (4), i need to get (4), we need to unit (4), we need to bring (4), you need to watch (4), you need to say (4), we need to close (4), they need to ban (4), you need to come (4), gun need to not problem (4), u need to know (4), head need to roll (4), you need to investig (4), we need to be focus (4), politician need to get (4), you need to not need (4), we need to stand (4), you need to address (4), we need to respect (4), peopl need to understand (4), we need to enforc (4), you need to make (4), we need to worri (4), gun need to be ban (4)\\\\\n",
      "\\begin{center}\\textbf{NEEDS TO}\\end{center}\n",
      "\\noindent\\emph{Democrat}\\\\need  (11), now  (11), stop  (10), done  (8), gun  (8), be need  (8), are  (8), happen  (8), end  (8), law  (7), control  (7), gunsens  (6), is  (5), in  (5), fuck  (5), think  (5), about  (5), famili  (5), chang  (5), as  (5), guncontrolnow  (5), live  (5), continu  (5), prevent  (5), polic  (5), go  (5), right  (5), and  (4), dead  (4), shit  (4), for  (4), guncontrol  (4), gunviol  (4), act  (4), that  (4), public  (4), their  (4), countri  (4), this needs to not ok (4), no  (4), your  (4), day  (4), gunreformnow  (4), away  (4), him  (4), more  (4), week  (4), all  (4), an  (4), prayer needs to not enough (4), say  (4)\\\\\n",
      "\\noindent\\emph{Republican}\\\\shooter  (8), shoot  (8), stop  (7), their  (7), of  (6), 2a  (6), he  (6), it  (6), in  (6), this  (6), need  (5), peopl  (5), be need  (5), from  (5), held  (5), fire  (5), white  (5), 1  (5), that  (4), look  (4), for  (4), arm  (4), you  (4), all  (4), solv  (4), do  (4), job  (4), it needs to not about (4), right  (4), us  (4), them  (4), go  (4), s  (4), his  (4), or  (4), protect  (4), media  (4), close  (4), off  (4), step  (4)\\\\\n",
      "\\begin{center}\\textbf{HAVE TO}\\end{center}\n",
      "\\noindent\\emph{Democrat}\\\\peopl have to die (15), this have to happen (9), mani have to die (9), more have to die (9), we have to do (8), we have to talk (8), don have to live (8), thing have to chang (8), we have to act (8), we have to worri (8), doesn have to be this (8), we have to go (7), american have to die (7), we have to end (7), i have to see (7), live have to be lost (7), we have to wait (6), we have to get (6), don have to do (6), shoot have to stop (6), don have to worri (6), will have to say (6), you have to say (6), we have to befor (6), we have to chang (6), we have to endur (6), children have to die (6), should have to fear (6), we have to pay (6), will have to do (5), we have to say (5), never have to worri (5), we have to hear (5), we have to stop (5), you have to go (5), i have to say (5), i have to do (5), they have to do (5), we have to lose (5), we have to tri (5), i have to tell (5), nra have to say (5), should have to go (5), we have to live (5), should have to live (5), we have to accept (5), law have to chang (5), i have to have no (5), you have to offer (5), this have to not happen (5), should have to endur (5), don have to make (5), we have to keep (5), we have to find (5), i have to worri (5), this have to keep (4), shoot have to happen (4), we have to teach (4), we have to fear (4), we have to kill (4), should have to worri (4), didn have to do (4), i have to kill (4), you have to be sick (4), ll have to wait (4), u have to say (4), i have to be afraid (4), obama have to do (4), shoot have to occur (4), peopl have to get (4), peopl have to be murder (4), we have to make (4), ever have to feel (4), will have to die (4), it have to happen (4), this have to go (4), we have to address (4), gun have to go (4), should have to face (4), there have to have been (4), we have to not live (4), i have to get (4), i have to check (4), tragedi have to happen (4), ever have to lose (4), peopl have to be slaughter (4), we have to listen (4), they have to deal (4), shouldn have to pay (4), you have to add (4), doesn have to happen (4), we have to suffer (4), should have to pay (4), we have to take (4), we have to watch (4), doe have to say (4), didn have to worri (4), i have to think (4), prayer have to not enough (4), you have to  (4), should have to deal (4), could have to have been (4), we have to demand (4), we have to look (4), we have to gun (4)\\\\\n",
      "\\noindent\\emph{Republican}\\\\i have to wonder (8), i have to say (8), that have to do (7), you have to say (7), you have to go (6), shoot have to do (6), we have to protect (6), nra have to do (6), will have to wait (5), we have to take (5), shoot have to happen (5), we have to do (5), i have to give (5), will have to live (5), i have to go (5), you have to talk (5), we have to pray (5), you have to do (5), you have to ask (5), this have to do (5), you have to chang (5), i have to agre (5), you have to be shoot (5), trump have to do (5), we have to find (4), i have to ask (4), just have to do (4), we have to ask (4), it have to not gun (4), these have to happen (4), should have to fear (4), you have to shoot (4), we have to wait (4), we have to keep (4), shoot have to stop (4), go have to work (4), we have to see (4), we have to deal (4), you have to kill (4), don have to kill (4), you have to know (4), you have to stop (4), we have to ban (4), you have to love (4), you have to wonder (4), go have to get (4), doe have to do (4), who have to deal (4), kill have to stop (4), we have to stand (4), we have to put (4), we have to rememb (4), you have to be realli (4)\\\\\n",
      "\\begin{center}\\textbf{HAS TO}\\end{center}\n",
      "\\noindent\\emph{Democrat}\\\\this has to stop (12), it has to stop (11), someth has to chang (8), violenc has to stop (8), someth has to be done (7), violenc has to end (7), it has to end (7), kill has to stop (7), what has to happen (6), shit has to stop (6), shoot has to do (5), who has to die (5), he has to say (5), someon has to do (5), this has to end (5), more has to happen (5), mad has to stop (5), els has to happen (5), trump has to say (4), stuff has to stop (4), countri has to stop (4), this has to chang (4), this has to fuck (4), countri has to chang (4), simpli has to stop (4), gun has to stop (4)\\\\\n",
      "\\noindent\\emph{Republican}\\\\it has to do (8), this has to end (6), there has to be more (6), violenc has to stop (5), this has to stop (5), obama has to say (5), he has to say (5), that has to do (5), mad has to stop (5), someth has to give (5), there has to be some (4), what has to say (4), this has to do (4), one has to ask (4), someth has to chang (4)\\\\\n"
     ]
    }
   ],
   "source": [
    "print_top(most_dem_tri, most_rep_tri)"
   ]
  },
  {
   "cell_type": "code",
   "execution_count": 41,
   "metadata": {
    "scrolled": true
   },
   "outputs": [
    {
     "name": "stdout",
     "output_type": "stream",
     "text": [
      "\\begin{center}\\textbf{MUST}\\end{center}\n",
      "\\noindent\\emph{Democrat}\\\\we must do (19), we must end (12), we must address (12), congress must act (10), this must stop (10), we must all (9), we must stop (9), something must be done (9), many must die (9), prayers must not enough (9), we must act (9), shooter must be white (8), we must stand (8), i must say (8), he must be white (8), violence must end (8), long must we (8), more must die (8), this must end (8), we must find (8), madness must stop (8), violence must stop (8), killing must stop (8), and must do (8), we must vote (8), insanity must stop (7), it must stop (7), people must die (7), we must remember (7), we must keep (7), why must we (7), we must fight (7), we must get (7), we must make (7), we must change (7), we must continue (7), madness must end (7), times must this (6), we must prevent (6), something must change (6), we must demand (6), we must take (6), we must also (6), a is must  (6), shootings must end (6), lives must be lost (6), this must change (6), we must pass (6), lives must be taken (6), we must hold (6), we must honor (6), you must have missed (6), shooter must have been (5), they must know (5), things must change (5), shootings must stop (5), we must not let (5), we must fix (5), why must i (5), that must mean (5), you must be proud (5), it must end (5), congress must take (5), there must have been (5), we must push (5), i must ask (5), nra must be so (5), times must we (5), we must come (5), we must have gun (5), killings must stop (5), you must be so (5), action must be taken (5), we must deal (5), shootings must we (5), congress must pass (5),  must read (5), more must we (5), we must not become (5), we must enact (5), i must have missed (5), we must not forget (5), you must take (5), we must ask (4), we must recognize (4), we must face (4), more must be done (4), killing must end (4), world must think (4), change must happen (4), we must now (4), there must be something (4), epidemic must be stopped (4), action must follow (4), control must happen (4), we must unite (4), it must feel (4), we must work (4), violence must be stopped (4), we must confront (4), we must endgunviolence (4), we must combat (4), we must mourn (4), we must begin (4), laws must change (4), we must  (4), we must have change (4), a is must read (4), we must not allow (4), we must defeat (4), gunviolence must end (4), we must listen (4), we must treat (4), we must create (4), we must allow (4), children must die (4), you must watch (4), we must have guncontrol (4), all must take (4), s must read (4), we must disarmhate (4), we must look (4), we must protect (4), we must elect (4), rifles must be banned (4), we must call (4), story must see (4), laws must be changed (4), carnage must end (4), they must take (4), now must not the time (4)\\\\\n",
      "\\noindent\\emph{Republican}\\\\it must have been (8), we must ban (7),  must see (7), we must remain (6), we must not allow (5), we must stop (5), we must protect (5),  must watch (5), i must say (5), we must stand (5), we must arm (4), this must stop (4), many must die (4), we must remove (4), you must know (4),  must have been (4), parents must be so (4), they must know (4), we must never (4), i must have missed (4), he must resign (4), we must love (4), why must you (4), we must be vigilant (4), attacks must stop (4), you must be happy (4), they must be stopped (4), we must reform (4), it must be stopped (4), this must be one (4), we must start (4), rhetoric must stop (4), we must understand (4), shootings must stop (4), we must return (4)\\\\\n",
      "\\begin{center}\\textbf{SHOULD}\\end{center}\n",
      "\\noindent\\emph{Democrat}\\\\it should have been (12), we should just (11), we should all (10), we should do (9), who should not guns (9), this should not be normal (9), this should have never (9), what should we (8), this should not happened (8), this should not happen (8), who should not them (8),  should we (8), everyone should be able (7), we should stop (7), we should start (7), this should not be happening (7), we should send (7), or should i (7), we should not be surprised (7), we should wait (7), you should not be able (7), we should not live (7), we should not need (7), we should never (7), who should not had (7), this should never (6), you should never (6), we should politicize (6), we should get (6), we should know (6),  should not we (6), everyone should have guns (6), we should stand (6), we should still (6),  should i (6), it should not matter (6), we should  (6), i should not be surprised (6), there should have been (6), one should die (6), one should have go (6), people should not be allowed (6), it should not take (6), who should not a gun (6), you should not be allowed (6), one should live (6), civilians should not access (6), you should see (6), when should we (6), never should have had (6), you should take (6), we should change (5), you should ask (5), guns should be illegal (5), how should we (5), one should have worry (5), we should be afraid (5), you should  (5), you should read (5), people should be allowed (5), we should not politicize (5), why should we (5), we should not rush (5), we should let (5), he should get (5), they should also (5), he should not be allowed (5), you should do (5), we should feel (5), shooting should sue (5), why should they (5), we should not allow (5), we should not be able (5), so should we (5), we should focus (5), why should it (5), one should be able (5), i should have known (5), shootings should not be the norm (5), one should ever (5), you should be ashamed (5), congress should be forced (5), it should not be that (5), we should be focused (5), there should be some (5), we should not do (5), this should not be the new (5), we should definitely (5), people should not access (5), fbi should investigate (5), that should not be happening (5), people should be able (5), one should feel (5), one should have fear (5), that should not happened (5), we should remember (5), civilians should have access (5), we should be doing (5), you should all (5), it should not even (5), you should too (5), he should not had (5), we should try (5), shooting should not happened (5), you should be more (5), this should not how (5), hook should have been (5), we should discuss (5), that should have been (5), you should be tweeting (5), someone should do (4), we should be outraged (4), we should ban (4), we should consider (4), media should be ashamed (4), people should be more (4), you should try (4), shootings should never (4), you should be so (4), we should close (4), who should get (4), we should not make (4), we should fear (4), we should probably (4), one should fear (4), we should not fear (4), who should we (4), we should call (4), shooter should not had (4), you should find (4), you should have been (4), shooter should have been (4), can should do (4), we should have gun (4), you should be held (4), we should hold (4), the on should of (4), guns should be banned (4), they should  (4), you should look (4), we should be focusing (4), we should keep (4), there should never (4), we should bring (4), you should tweet (4), laws should have been (4), they should know (4), there should be more (4), he should go (4), we should build (4), it should not happen (4), why should anyone (4), guns should be outlawed (4), people should not be killed (4), it should not be this (4), you should get (4), we should pray (4), people should feel (4), what should be a safe (4), one should go (4), one should have live (4), we should not ban (4), we should go (4), you should delete (4), we should not be afraid (4), people should not be afraid (4), never should have been (4), he should be ashamed (4), but should not we (4), everyone should have a gun (4), that should be illegal (4), we should expect (4), you should want (4), person should be able (4), they should feel (4), why should people (4), civilian should have an (4), and should be treated (4), they should have had (4), one should lose (4), we should now (4), people should not fear (4), everyone should have the right (4), one should have an (4), one should be afraid (4), this should not be our (4), shooting should not happen (4), you should be embarrassed (4), you should leave (4), people should not guns (4), shootings should not be an (4), who should have never (4), we should be talking (4), we should not let (4), we should also (4), you should stop (4), he should never (4), everyone should read (4), you should rethink (4), weapons should be banned (4), it should not been (4), we should say (4), all should  (4), who should never (4), someone should ask (4), we should have done (4),  should they (4), civilian should ever (4), people should get (4), weapons should  (4), i should never (4), she should go (4), he should do (4), this should not normal (4), all should be ashamed (4), someone should shoot (4), that should get (4), we should name (4), one should have experience (4), people should have access (4), we should arm (4), it should be for (4), we should treat (4), we should care (4), nra should have pay (4), shooting should have never (4), they should have been (4), we should really (4), i should not saying (4), one should have been (4), it should  (4), they should send (4), it should go (4), we should talk (4), we should forget (4), we should not talk (4), what should i (4), shooting should not been (4), guns should be allowed (4), it should not about (4), someone should tell (4), you should put (4), we should not laws (4), you should be able (4), or should we (4), now should not the time (4),  should not only (4), he should  (4), we should be able (4), that should be safe (4), he should stop (4), nra should pay (4), we should not any (4), somebody should tell (4), shooter should go (4), you should probably (4), victims should sue (4), what should have been (4)\\\\\n",
      "\\noindent\\emph{Republican}\\\\we should ban (10), there should be no (9), we should make (9), you should be ashamed (8), you should know (8), they should all (7), he should have been (7), they should  (6),  should we (6), we should keep (6), we should all (6), why should he (6), they should just (6), you should see (6), you should go (6), they should be able (5), we should not jump (5), they should use (5), they should ban (5), everyone should know (5), we should be able (5), there should never (5), he should have shot (5), you should probably (5), and should be fired (5), shooter should have been (5), he should be in (5), headline should read (5), police should have guns (5), and should be prosecuted (5), i should have been (5), you should do (5), you should ask (5), they should of (5), it should be noted (5), what should be done (5), and should have been (5), he should be arrested (5), they should not be allowed (5), government should have guns (5), why should i (5), you should stop (5), we should see (5), shooter should get (5), it should be no (4), this should not happen (4),  should not we (4), never should have happened (4), and should be treated (4), you should watch (4), i should not saying (4), this should never (4), we should take (4), this should have been (4), it should of (4), you should look (4), they should have had (4), they should give (4), they should be allowed (4), there should have been (4), we should blame (4), we should at (4), they should make (4), we should get (4), shooting should not we (4), shooting should never (4), obama should resign (4), they should have been (4), he should be impeached (4), someone should inform (4), we should outlaw (4), we should think (4), we should pass (4), or should we (4), families should sue (4), he should be fired (4), us should take (4), you should be fired (4), we should ask (4), you should have been (4), he should not been (4), fbi should have been (4),  should you (4), we should have known (4), we should be asking (4), we should have guns (4), parents should be held (4), he should have stopped (4), we should add (4), he should be charged (4), he should take (4), democrats should not be allowed (4), they should hang (4), you should be mad (4), we should work (4), there should be a law (4), democrats should not guns (4), what should they (4), there should be an (4), what should we (4), they should take (4), guns should be taken (4), we should put (4), one should ever (4), we should also (4), who should we (4), shooter should not had (4), never should have had (4), it should be illegal (4)\\\\\n",
      "\\begin{center}\\textbf{NEED TO}\\end{center}\n",
      "\\noindent\\emph{Democrat}\\\\we need to talk (13), we need to stop (12), people need to die (12), we need to act (11), we need to do (10), we need to stand (9), we need to take (9), more need to die (9), shootings need to happen (8), laws need to change (8), we need to change (8), i need to know (8), we need to fix (8), we need to keep (8), we need to solve (8), we need to remember (8), we need to get (7), we need to wake (7), don need to know (7), we need to call (7), we need to work (7), we need to vote (7), we need to make (7), we need to hear (6), you need to know (6), we need to pray (6), things need to change (6), we need to ban (6), you need to get (6), you need to stop (6), we need to start (6), we need to figure (6), all need to stop (6), we need to come (6), we need to put (6), lives need to be lost (5), we need to bring (5), we need to address (5), really need to get (5), the feel need to kill (5), shootings need to stop (5), we need to an (5), politicians need to stop (5), we need to be better (5), guns need to go (5), we need to learn (5), we need to say (5), people need to stop (5), we need to see (5), we need to pass (5), they need to carry (5), no need to worry (5), we need to help (5), we need to arm (5), we need to listen (5), lives need to be taken (5), laws need to be changed (5), we need to lose (5), we need to hold (5), we need to end (5), we need to be able (5), we need to demand (5), we need to limit (5), don need to see (5), violence need to stop (5), people need to be shot (5), we need to honor (5), we need to treat (5), children need to die (5), weapons need to be banned (5), we need to more (5), we need to go (5), we need to understand (5), all need to take (5), you need to see (5), we need to  (5), we need to prevent (5), acts need to stop (4), we need to focus (4), don need to keep (4), we need to prioritize (4), violence need to end (4), we need to ask (4), all need to work (4), we need to move (4), don need to worry (4), we need to know (4), they need to go (4), people need to start (4), we need to restrict (4), we need to watch (4), you need to take (4), we need to acknowledge (4), you need to read (4), you need to call (4), we need to before (4), we need to unite (4), shootings need to end (4), we need to look (4), guns need to be banned (4), this need to happen (4), people need to be killed (4), really need to do (4), really need to change (4), you need to do (4), all need to get (4), the feel need to shoot (4), we need to live (4), we need to be proactive (4), the feel need to go (4), we need to not need (4), you need to make (4), i need to say (4), we need to support (4), they need to find (4), guns need to be regulated (4), you need to own (4), we need to discuss (4), i need to stop (4), we need to be talking (4), also need to look (4), they need to pay (4), outlets need to stop (4), you need to act (4), u need to do (4), we need to find (4), we need to fight (4), all need to see (4), also need to take (4), don need to do (4), leaders need to do (4), you need to vote (4), you need to hear (4), all need to do (4)\\\\\n",
      "\\noindent\\emph{Republican}\\\\we need to know (9), we need to get (9), you need to know (9), we need to ban (8), killings need to stop (7), we need to protect (7), people need to realize (7), we need to allow (6), we need to arm (6), we need to pray (6), really need to stop (6), you need to look (6), we need to be more (6), we need to kill (6), people need to get (6), shootings need to stop (6), you need to stop (6), we need to find (5), we need to pull (5), we need to let (5), we need to start (5), we need to look (5), we need to come (5), you need to get (5), we need to shut (5), really need to look (5), we need to realize (5), we need to focus (5), people need to stop (5), you need to go (5), democrats need to stop (5), people need to know (5), we need to carry (4), we need to do (4), you need to call (4), we need to keep (4), we need to address (4), no need to use (4), you need to  (4), no need to attack (4), they need to keep (4), they need to kill (4), we need to lock (4), i need to get (4), we need to unite (4), we need to bring (4), you need to watch (4), you need to say (4), they need to ban (4), you need to come (4), guns need to not the problem (4), u need to know (4), heads need to roll (4), you need to investigate (4), politicians need to get (4), you need to not need (4), we need to stand (4), you need to address (4), people need to understand (4), we need to enforce (4), you need to make (4), we need to worry (4), guns need to be banned (4)\\\\\n",
      "\\begin{center}\\textbf{NEEDS TO}\\end{center}\n",
      "\\noindent\\emph{Democrat}\\\\this needs to stop (10), violence needs to stop (10), it needs to stop (9), shit needs to stop (8), something needs to be done (8), change needs to happen (7), really needs to stop (7), something needs to change (7), america needs to get (6), this needs to end (6), congress needs to do (6), violence needs to end (6), it needs to end (6), congress needs to act (6), gop needs to stop (6), america needs to do (5), that needs to be said (5), that needs to be addressed (5), violence needs to be stopped (5), shit needs to change (5), control needs to happen (5), there needs to be stricter (5), reform needs to happen (5), congress needs to take (5), more needs to be done (5), gunviolence needs to end (4), it needs to be banned (4), madness needs to stop (4), guncontrol needs to happen (4), seriously needs to be done (4), someone needs to do (4), congress needs to stop (4), madness needs to end (4), more needs to happen (4), what needs to happen (4), there needs to be more (4), country needs to get (4), it needs to be addressed (4), it needs to be said (4), there needs to be a serious (4), seriously needs to stop (4), it needs to be fixed (4), and needs to go (4), it needs to happen (4), this needs to be stopped (4), prayers needs to not enough (4), everyone needs to see (4), he needs to be arrested (4)\\\\\n",
      "\\noindent\\emph{Republican}\\\\he needs to tell (5), media needs to stop (5), he needs to be fired (5), he needs to go (5), something needs to change (4), obama needs to stop (4), it needs to not about (4), what needs to be said (4), she needs to go (4), there needs to be some (4), what needs to change (4), someone needs to ask (4), that needs to stop (4), everyone needs to take (4)\\\\\n",
      "\\begin{center}\\textbf{HAVE TO}\\end{center}\n",
      "\\noindent\\emph{Democrat}\\\\people have to die (15), this have to happen (9), many have to die (9), more have to die (9), we have to do (8), we have to talk (8), don have to live (8), things have to change (8), we have to act (8), we have to worry (8), doesn have to be this (8), we have to go (7), americans have to die (7), we have to end (7), i have to see (7), lives have to be lost (7), we have to wait (6), we have to get (6), don have to do (6), shootings have to stop (6), don have to worry (6), will have to say (6), you have to say (6), we have to before (6), we have to change (6), we have to endure (6), children have to die (6), should have to fear (6), we have to pay (6), will have to do (5), we have to say (5), never have to worry (5), we have to hear (5), we have to stop (5), you have to go (5), i have to say (5), i have to do (5), they have to do (5), we have to lose (5), we have to try (5), i have to tell (5), nra have to say (5), should have to go (5), we have to live (5), should have to live (5), we have to accept (5), laws have to change (5), i have to have no (5), you have to offer (5), should have to endure (5), don have to make (5), we have to keep (5), we have to find (5), i have to worry (5), this have to keep (4), shootings have to happen (4), we have to teach (4), we have to fear (4), we have to kill (4), should have to worry (4), didn have to do (4), i have to kill (4), you have to be sick (4), they have to say (4), ll have to wait (4), u have to say (4), i have to be afraid (4), obama have to do (4), shootings have to occur (4), people have to get (4), people have to be murdered (4), we have to make (4), ever have to feel (4), will have to die (4), it have to happen (4), this have to go (4), we have to address (4), guns have to go (4), should have to face (4), there have to have been (4), we have to not live (4), i have to get (4), i have to check (4), tragedies have to happen (4), this have to not happen (4), ever have to lose (4), people have to be slaughtered (4), we have to listen (4), they have to deal (4), shouldn have to pay (4), you have to add (4), doesn have to happen (4), we have to suffer (4), should have to pay (4), we have to take (4), we have to watch (4), didn have to worry (4), i have to think (4), prayers have to not enough (4), you have to  (4), should have to deal (4), could have to have been (4), we have to demand (4), we have to look (4), kids have to die (4)\\\\\n",
      "\\noindent\\emph{Republican}\\\\i have to wonder (8), i have to say (8), that have to do (7), you have to say (7), you have to go (6), shooting have to do (6), you have to ask (6), we have to protect (6), nra have to do (6), will have to wait (5), we have to take (5), we have to do (5), i have to give (5), will have to live (5), i have to go (5), you have to talk (5), we have to pray (5), you have to do (5), this have to do (5), you have to change (5), i have to agree (5), you have to be shoot (5), trump have to do (5), we have to find (4), i have to ask (4), just have to do (4), we have to ask (4), shootings have to happen (4), these have to happen (4), should have to fear (4), you have to shoot (4), we have to wait (4), we have to keep (4), shootings have to stop (4), going have to work (4), we have to see (4), we have to deal (4), you have to kill (4), don have to kill (4), you have to know (4), you have to stop (4), we have to ban (4), you have to love (4), you have to wonder (4), you have to give (4), going have to get (4), does have to do (4), who have to deal (4), killings have to stop (4), we have to stand (4), we have to put (4), we have to remember (4), you have to be really (4)\\\\\n",
      "\\begin{center}\\textbf{HAS TO}\\end{center}\n",
      "\\noindent\\emph{Democrat}\\\\this has to stop (12), it has to stop (11), something has to change (8), violence has to stop (8), something has to be done (7), violence has to end (7), it has to end (7), what has to happen (6), shit has to stop (6), shooting has to do (5), who has to die (5), he has to say (5), the what has to say (5), someone has to do (5), this has to end (5), more has to happen (5), killing has to stop (5), madness has to stop (5), else has to happen (5), trump has to say (4), stuff has to stop (4), country has to stop (4), this has to change (4), this has to fucking (4), country has to change (4), simply has to stop (4), killings has to stop (4), guns has to stop (4)\\\\\n",
      "\\noindent\\emph{Republican}\\\\it has to do (8), this has to end (6), there has to be more (6), violence has to stop (5), this has to stop (5), obama has to say (5), he has to say (5), what has to say (5), that has to do (5), madness has to stop (5), something has to give (5), there has to be some (4), this has to do (4), one has to ask (4), something has to change (4)\\\\\n"
     ]
    }
   ],
   "source": [
    "print_top(most_dem_tri, most_rep_tri)"
   ]
  },
  {
   "cell_type": "code",
   "execution_count": null,
   "metadata": {
    "collapsed": true
   },
   "outputs": [],
   "source": []
  }
 ],
 "metadata": {
  "kernelspec": {
   "display_name": "nlu",
   "language": "python",
   "name": "nlu"
  },
  "language_info": {
   "codemirror_mode": {
    "name": "ipython",
    "version": 3
   },
   "file_extension": ".py",
   "mimetype": "text/x-python",
   "name": "python",
   "nbconvert_exporter": "python",
   "pygments_lexer": "ipython3",
   "version": "3.6.4"
  }
 },
 "nbformat": 4,
 "nbformat_minor": 2
}
