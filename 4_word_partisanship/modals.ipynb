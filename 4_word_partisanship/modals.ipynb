{
 "cells": [
  {
   "cell_type": "code",
   "execution_count": 1,
   "metadata": {
    "collapsed": true
   },
   "outputs": [],
   "source": [
    "%matplotlib inline\n",
    "import matplotlib.pyplot as plt\n",
    "import pandas as pd\n",
    "import numpy as np\n",
    "import json\n",
    "import operator\n",
    "import seaborn as sns\n",
    "from scipy.stats import ttest_1samp, ttest_ind\n",
    "from collections import Counter, defaultdict\n",
    "import math\n",
    "import sys\n",
    "sys.path.append('..')\n",
    "from helpers.funcs import *\n",
    "import warnings; warnings.simplefilter('ignore')"
   ]
  },
  {
   "cell_type": "code",
   "execution_count": 2,
   "metadata": {
    "collapsed": true
   },
   "outputs": [],
   "source": [
    "config = json.load(open('../config.json', 'r'))\n",
    "INPUT_DIR = config['INPUT_DIR']\n",
    "OUTPUT_DIR = config['OUTPUT_DIR']\n",
    "TWEET_DIR = config['TWEET_DIR']\n",
    "NUM_CLUSTERS = config['NUM_CLUSTERS']\n",
    "cluster_names = {v:k for k, v in config['CLUSTER_NAMES'].items()}"
   ]
  },
  {
   "cell_type": "code",
   "execution_count": 3,
   "metadata": {
    "collapsed": true
   },
   "outputs": [],
   "source": [
    "events = open(INPUT_DIR + 'event_names.txt', 'r').read().splitlines()\n",
    "shooter_race = json.load(open(INPUT_DIR + \"shooters_race.json\",\"r\"))"
   ]
  },
  {
   "cell_type": "code",
   "execution_count": 4,
   "metadata": {
    "collapsed": true
   },
   "outputs": [],
   "source": [
    "def split_party(part_tweets):\n",
    "    return part_tweets[part_tweets['dem_follows'] > part_tweets['rep_follows']], part_tweets[part_tweets['dem_follows'] < part_tweets['rep_follows']]"
   ]
  },
  {
   "cell_type": "code",
   "execution_count": 5,
   "metadata": {
    "collapsed": true
   },
   "outputs": [],
   "source": [
    "def get_odds(tweets,  search):\n",
    "    total = len(tweets)\n",
    "    contains = tweets['text'].str.contains(search, regex=True, case=False).sum()\n",
    "    return (contains + 1) / ((total - contains) + 1)"
   ]
  },
  {
   "cell_type": "code",
   "execution_count": 6,
   "metadata": {
    "collapsed": true
   },
   "outputs": [],
   "source": [
    "regexes = {\n",
    "    'MUST': r\"(\\bmust(n['‘’`]?t?)?\\b)|(\\bmust['‘’`]?ve\\b)\",\n",
    "    'SHOULD': r\"(\\bshould(n['‘’`]?t?)?\\b)|(\\bshould['‘’`]?ve\\b)\",\n",
    "    'NEED TO': r\"(\\bneed to\\b)|(\\bneeds to\\b)\",\n",
    "    'HAVE TO': r\"(\\bhave to\\b)|(\\bhas to\\b)\",\n",
    "}"
   ]
  },
  {
   "cell_type": "code",
   "execution_count": 7,
   "metadata": {},
   "outputs": [
    {
     "name": "stdout",
     "output_type": "stream",
     "text": [
      "chattanooga\n",
      "roseburg\n",
      "colorado_springs\n",
      "san_bernardino\n",
      "kalamazoo\n",
      "orlando\n",
      "dallas\n",
      "baton_rouge\n",
      "burlington\n",
      "fort_lauderdale\n",
      "fresno\n",
      "san_francisco\n",
      "vegas\n",
      "thornton\n",
      "sutherland_springs\n",
      "parkland\n",
      "nashville\n",
      "santa_fe\n",
      "annapolis\n",
      "pittsburgh\n",
      "thousand_oaks\n"
     ]
    }
   ],
   "source": [
    "modal_list = []\n",
    "log_odds_list = []\n",
    "race = []\n",
    "\n",
    "for event in events:\n",
    "    print(event)\n",
    "    data = pd.read_csv(TWEET_DIR +event+'/'+event+'.csv', sep='\\t', lineterminator='\\n', usecols=['text', 'rep_follows', 'dem_follows', 'remove', 'isRT'])\n",
    "    # data['text'].str.contains(r'http|\\.com|www', case=False)\n",
    "    data = filter_retweets(data)\n",
    "    # get partisan tweets\n",
    "    data = data[~data['dem_follows'].isnull() & ~data['rep_follows'].isnull() & (data['dem_follows'] != data['rep_follows'])]\n",
    "    dem, rep = split_party(data)\n",
    "    for k, v in regexes.items():\n",
    "        modal_list.append(k)\n",
    "        log_odds_list.append(np.log(get_odds(rep, v) / get_odds(dem, v)))\n",
    "        race.append(shooter_race[event])"
   ]
  },
  {
   "cell_type": "code",
   "execution_count": 9,
   "metadata": {
    "collapsed": true
   },
   "outputs": [],
   "source": [
    "df = pd.DataFrame.from_dict({'modal':modal_list, 'log_odds':log_odds_list, 'race':race})"
   ]
  },
  {
   "cell_type": "code",
   "execution_count": 11,
   "metadata": {},
   "outputs": [
    {
     "name": "stdout",
     "output_type": "stream",
     "text": [
      "HAVE TO\n",
      "Ttest_1sampResult(statistic=-6.608889419465189, pvalue=1.9483181505360368e-06)\n",
      "MUST\n",
      "Ttest_1sampResult(statistic=-4.462483429560479, pvalue=0.0002387595820821402)\n",
      "NEED TO\n",
      "Ttest_1sampResult(statistic=-3.033095955178946, pvalue=0.0065672893980417086)\n",
      "SHOULD\n",
      "Ttest_1sampResult(statistic=-3.0857102839532162, pvalue=0.005830693830236227)\n"
     ]
    }
   ],
   "source": [
    "for i, g in df.groupby('modal'):\n",
    "    print(i)\n",
    "    print(ttest_1samp(np.array(g['log_odds']), 0))"
   ]
  },
  {
   "cell_type": "code",
   "execution_count": 12,
   "metadata": {},
   "outputs": [
    {
     "name": "stdout",
     "output_type": "stream",
     "text": [
      "HAVE TO\n",
      "Ttest_indResult(statistic=-0.7172876280818902, pvalue=0.4819227185015835)\n",
      "MUST\n",
      "Ttest_indResult(statistic=0.4785140142939136, pvalue=0.6377445818379925)\n",
      "NEED TO\n",
      "Ttest_indResult(statistic=-0.8677768687363027, pvalue=0.39634479253431565)\n",
      "SHOULD\n",
      "Ttest_indResult(statistic=1.6516513310829086, pvalue=0.11503690924059524)\n"
     ]
    }
   ],
   "source": [
    "for i, g in df.groupby('modal'):\n",
    "    print(i)\n",
    "    print(ttest_ind(np.array(g.log_odds[:9]), np.array(g.log_odds[9:])))"
   ]
  },
  {
   "cell_type": "code",
   "execution_count": 14,
   "metadata": {},
   "outputs": [
    {
     "name": "stdout",
     "output_type": "stream",
     "text": [
      "HAVE TO\n",
      "-0.4693199862542427\n",
      "-0.2934380446273865\n",
      "Ttest_indResult(statistic=-1.5585228589745972, pvalue=0.13561062140526003)\n",
      "MUST\n",
      "-0.279426861951316\n",
      "-0.32271796519546864\n",
      "Ttest_indResult(statistic=0.31423760779010695, pvalue=0.7567648797622604)\n",
      "NEED TO\n",
      "-0.1495078887393656\n",
      "-0.20879674203541237\n",
      "Ttest_indResult(statistic=0.49567984707856083, pvalue=0.625804914721529)\n",
      "SHOULD\n",
      "-0.30436008739638987\n",
      "-0.04267669615802142\n",
      "Ttest_indResult(statistic=-2.5279065325489634, pvalue=0.02049621218814681)\n"
     ]
    }
   ],
   "source": [
    "for i, g in df.groupby('modal'):\n",
    "    print(i)\n",
    "    print(np.mean(np.array(g[g['race']=='white'].log_odds)))\n",
    "    print(np.mean(np.array(g[g['race']=='POC'].log_odds)))\n",
    "    print(ttest_ind(np.array(g[g['race']=='white'].log_odds), np.array(g[g['race']=='POC'].log_odds)))"
   ]
  },
  {
   "cell_type": "code",
   "execution_count": 15,
   "metadata": {},
   "outputs": [
    {
     "data": {
      "text/html": [
       "<div>\n",
       "<style scoped>\n",
       "    .dataframe tbody tr th:only-of-type {\n",
       "        vertical-align: middle;\n",
       "    }\n",
       "\n",
       "    .dataframe tbody tr th {\n",
       "        vertical-align: top;\n",
       "    }\n",
       "\n",
       "    .dataframe thead th {\n",
       "        text-align: right;\n",
       "    }\n",
       "</style>\n",
       "<table border=\"1\" class=\"dataframe\">\n",
       "  <thead>\n",
       "    <tr style=\"text-align: right;\">\n",
       "      <th></th>\n",
       "      <th>log_odds</th>\n",
       "    </tr>\n",
       "    <tr>\n",
       "      <th>modal</th>\n",
       "      <th></th>\n",
       "    </tr>\n",
       "  </thead>\n",
       "  <tbody>\n",
       "    <tr>\n",
       "      <th>HAVE TO</th>\n",
       "      <td>-0.392316</td>\n",
       "    </tr>\n",
       "    <tr>\n",
       "      <th>MUST</th>\n",
       "      <td>-0.218644</td>\n",
       "    </tr>\n",
       "    <tr>\n",
       "      <th>SHOULD</th>\n",
       "      <td>-0.157624</td>\n",
       "    </tr>\n",
       "    <tr>\n",
       "      <th>NEED TO</th>\n",
       "      <td>-0.128364</td>\n",
       "    </tr>\n",
       "  </tbody>\n",
       "</table>\n",
       "</div>"
      ],
      "text/plain": [
       "         log_odds\n",
       "modal            \n",
       "HAVE TO -0.392316\n",
       "MUST    -0.218644\n",
       "SHOULD  -0.157624\n",
       "NEED TO -0.128364"
      ]
     },
     "execution_count": 15,
     "metadata": {},
     "output_type": "execute_result"
    }
   ],
   "source": [
    "df.groupby('modal').median().sort_values('log_odds')"
   ]
  },
  {
   "cell_type": "code",
   "execution_count": 16,
   "metadata": {},
   "outputs": [
    {
     "data": {
      "text/html": [
       "<div>\n",
       "<style scoped>\n",
       "    .dataframe tbody tr th:only-of-type {\n",
       "        vertical-align: middle;\n",
       "    }\n",
       "\n",
       "    .dataframe tbody tr th {\n",
       "        vertical-align: top;\n",
       "    }\n",
       "\n",
       "    .dataframe thead th {\n",
       "        text-align: right;\n",
       "    }\n",
       "</style>\n",
       "<table border=\"1\" class=\"dataframe\">\n",
       "  <thead>\n",
       "    <tr style=\"text-align: right;\">\n",
       "      <th></th>\n",
       "      <th>log_odds</th>\n",
       "    </tr>\n",
       "    <tr>\n",
       "      <th>modal</th>\n",
       "      <th></th>\n",
       "    </tr>\n",
       "  </thead>\n",
       "  <tbody>\n",
       "    <tr>\n",
       "      <th>HAVE TO</th>\n",
       "      <td>-0.385567</td>\n",
       "    </tr>\n",
       "    <tr>\n",
       "      <th>MUST</th>\n",
       "      <td>-0.300042</td>\n",
       "    </tr>\n",
       "    <tr>\n",
       "      <th>SHOULD</th>\n",
       "      <td>-0.179749</td>\n",
       "    </tr>\n",
       "    <tr>\n",
       "      <th>NEED TO</th>\n",
       "      <td>-0.177741</td>\n",
       "    </tr>\n",
       "  </tbody>\n",
       "</table>\n",
       "</div>"
      ],
      "text/plain": [
       "         log_odds\n",
       "modal            \n",
       "HAVE TO -0.385567\n",
       "MUST    -0.300042\n",
       "SHOULD  -0.179749\n",
       "NEED TO -0.177741"
      ]
     },
     "execution_count": 16,
     "metadata": {},
     "output_type": "execute_result"
    }
   ],
   "source": [
    "df.groupby('modal').mean().sort_values('log_odds')"
   ]
  },
  {
   "cell_type": "code",
   "execution_count": 16,
   "metadata": {},
   "outputs": [
    {
     "data": {
      "text/plain": [
       "[None, None]"
      ]
     },
     "execution_count": 16,
     "metadata": {},
     "output_type": "execute_result"
    },
    {
     "data": {
      "image/png": "[encoded data removed]",
      "text/plain": [
       "<Figure size 2000x1000 with 1 Axes>"
      ]
     },
     "metadata": {},
     "output_type": "display_data"
    }
   ],
   "source": [
    "f = plt.figure(dpi=400, figsize=(5,2.5))\n",
    "ax = sns.violinplot(data=df, x=\"log_odds\",y=\"modal\", hue='race', fliersize=1, linewidth=1, split=True, order=reversed(df.groupby('modal').median().sort_values('log_odds').index), orient=\"h\", palette=sns.color_palette(\"YlGnBu\", 2))\n",
    "ax.set_ylabel('')\n",
    "ax.spines['top'].set_linewidth(0.4)\n",
    "ax.spines['right'].set_linewidth(0.4)\n",
    "ax.spines['bottom'].set_linewidth(0.4)\n",
    "ax.spines['left'].set_linewidth(0.4)\n",
    "plt.axvline(x=0, color='grey')\n",
    "ax.set_xlabel('Log odds ratio\\n(Democrat < 0 < Republican)')\n",
    "legend = ax.legend(loc='upper left', title=\"Shooter's race\", fontsize=7)\n",
    "plt.setp(legend.get_title(),fontsize='x-small')"
   ]
  },
  {
   "cell_type": "markdown",
   "metadata": {
    "collapsed": true
   },
   "source": [
    "# distribution of modals across topics"
   ]
  },
  {
   "cell_type": "code",
   "execution_count": 17,
   "metadata": {
    "scrolled": true
   },
   "outputs": [
    {
     "name": "stdout",
     "output_type": "stream",
     "text": [
      "chattanooga\n",
      "MUST\n",
      "SHOULD\n",
      "NEED TO\n",
      "HAVE TO\n",
      "roseburg\n",
      "MUST\n",
      "SHOULD\n",
      "NEED TO\n",
      "HAVE TO\n",
      "colorado_springs\n",
      "MUST\n",
      "SHOULD\n",
      "NEED TO\n",
      "HAVE TO\n",
      "san_bernardino\n",
      "MUST\n",
      "SHOULD\n",
      "NEED TO\n",
      "HAVE TO\n",
      "kalamazoo\n",
      "MUST\n",
      "SHOULD\n",
      "NEED TO\n",
      "HAVE TO\n",
      "orlando\n",
      "MUST\n",
      "SHOULD\n",
      "NEED TO\n",
      "HAVE TO\n",
      "dallas\n",
      "MUST\n",
      "SHOULD\n",
      "NEED TO\n",
      "HAVE TO\n",
      "baton_rouge\n",
      "MUST\n",
      "SHOULD\n",
      "NEED TO\n",
      "HAVE TO\n",
      "burlington\n",
      "MUST\n",
      "SHOULD\n",
      "NEED TO\n",
      "HAVE TO\n",
      "fort_lauderdale\n",
      "MUST\n",
      "SHOULD\n",
      "NEED TO\n",
      "HAVE TO\n",
      "fresno\n",
      "MUST\n",
      "SHOULD\n",
      "NEED TO\n",
      "HAVE TO\n",
      "san_francisco\n",
      "MUST\n",
      "SHOULD\n",
      "NEED TO\n",
      "HAVE TO\n",
      "vegas\n",
      "MUST\n",
      "SHOULD\n",
      "NEED TO\n",
      "HAVE TO\n",
      "thornton\n",
      "MUST\n",
      "SHOULD\n",
      "NEED TO\n",
      "HAVE TO\n",
      "sutherland_springs\n",
      "MUST\n",
      "SHOULD\n",
      "NEED TO\n",
      "HAVE TO\n",
      "parkland\n",
      "MUST\n",
      "SHOULD\n",
      "NEED TO\n",
      "HAVE TO\n",
      "nashville\n",
      "MUST\n",
      "SHOULD\n",
      "NEED TO\n",
      "HAVE TO\n",
      "santa_fe\n",
      "MUST\n",
      "SHOULD\n",
      "NEED TO\n",
      "HAVE TO\n",
      "annapolis\n",
      "MUST\n",
      "SHOULD\n",
      "NEED TO\n",
      "HAVE TO\n",
      "pittsburgh\n",
      "MUST\n",
      "SHOULD\n",
      "NEED TO\n",
      "HAVE TO\n",
      "thousand_oaks\n",
      "MUST\n",
      "SHOULD\n",
      "NEED TO\n",
      "HAVE TO\n"
     ]
    }
   ],
   "source": [
    "modal_list = []\n",
    "topic_list = []\n",
    "value_list = []\n",
    "event_list = []\n",
    "\n",
    "def print_distr(event, name, s, total_props):\n",
    "    print(name)\n",
    "    b = np.bincount(s['topic'])\n",
    "    vals = (b / np.sum(b)) / total_props\n",
    "    #print(((b / np.sum(b)) / total_props))\n",
    "    for i in range(NUM_CLUSTERS):\n",
    "        topic_list.append(cluster_names[i])\n",
    "        value_list.append(vals[i])\n",
    "        modal_list.append(name)\n",
    "        event_list.append(event)\n",
    "        \n",
    "\n",
    "for event in events:\n",
    "    print(event)\n",
    "    data = pd.read_csv(TWEET_DIR + event + '/' + event + '.csv', sep='\\t', lineterminator='\\n',\n",
    "                       usecols=['user_id', 'text'])\n",
    "    data = get_cluster_assignments(event, data, 'relative')\n",
    "    total_props = np.bincount(data['topic']) / np.sum(np.bincount(data['topic']))\n",
    "    for k, v in regexes.items():\n",
    "        s = data[data['text'].str.contains(v, case=False)]\n",
    "        print_distr(event, k, s, total_props)"
   ]
  },
  {
   "cell_type": "code",
   "execution_count": 18,
   "metadata": {
    "collapsed": true
   },
   "outputs": [],
   "source": [
    "df = pd.DataFrame.from_dict({'modal':modal_list, 'proportion':value_list, 'topic':topic_list, 'event':event_list})"
   ]
  },
  {
   "cell_type": "code",
   "execution_count": 19,
   "metadata": {
    "collapsed": true
   },
   "outputs": [],
   "source": [
    "df.to_csv(OUTPUT_DIR + 'modal_distributions.csv')"
   ]
  },
  {
   "cell_type": "markdown",
   "metadata": {},
   "source": [
    "# modality & tense"
   ]
  },
  {
   "cell_type": "code",
   "execution_count": 21,
   "metadata": {
    "scrolled": true
   },
   "outputs": [
    {
     "name": "stdout",
     "output_type": "stream",
     "text": [
      "chattanooga\n",
      "roseburg\n",
      "colorado_springs\n",
      "san_bernardino\n",
      "kalamazoo\n",
      "orlando\n",
      "dallas\n",
      "baton_rouge\n",
      "burlington\n",
      "fort_lauderdale\n",
      "fresno\n",
      "san_francisco\n",
      "vegas\n",
      "thornton\n",
      "sutherland_springs\n",
      "parkland\n",
      "nashville\n",
      "santa_fe\n",
      "annapolis\n",
      "pittsburgh\n",
      "thousand_oaks\n"
     ]
    }
   ],
   "source": [
    "shouldve_odds = []\n",
    "prop_shouldve = []\n",
    "should_odds = []\n",
    "race = []\n",
    "\n",
    "\n",
    "for event in events:\n",
    "    print(event)\n",
    "    data = pd.read_csv(TWEET_DIR +event+'/'+event+'.csv', sep='\\t', lineterminator='\\n', usecols=['text', 'rep_follows', 'dem_follows', 'remove', 'isRT'])\n",
    "    # data['text'].str.contains(r'http|\\.com|www', case=False)\n",
    "    data = filter_retweets(data)\n",
    "    # get partisan tweets\n",
    "    data = data[~data['dem_follows'].isnull() & ~data['rep_follows'].isnull() & (data['dem_follows'] != data['rep_follows'])]\n",
    "    dem, rep = split_party(data)\n",
    "    search_shouldve = r\"\\bshould['‘’`]ve\\b|\\bshould( not)? have\\b|\\bshouldn['‘’`]t have\\b\"\n",
    "    search_all_should = regexes['SHOULD']\n",
    "    shouldve_odds.append(np.log(get_odds(rep, search_shouldve) / get_odds(dem, search_shouldve)))\n",
    "    should_odds.append(np.log(get_odds(rep, search_all_should) / get_odds(dem, search_all_should)))\n",
    "    prop = data['text'].str.contains(search_shouldve, case=False).sum() / data['text'].str.contains(search_all_should, case=False).sum()\n",
    "    prop_shouldve.append(prop)\n",
    "    race.append(shooter_race[event])"
   ]
  },
  {
   "cell_type": "code",
   "execution_count": 22,
   "metadata": {},
   "outputs": [
    {
     "data": {
      "text/plain": [
       "['chattanooga',\n",
       " 'roseburg',\n",
       " 'colorado_springs',\n",
       " 'san_bernardino',\n",
       " 'kalamazoo',\n",
       " 'orlando',\n",
       " 'dallas',\n",
       " 'baton_rouge',\n",
       " 'burlington',\n",
       " 'fort_lauderdale',\n",
       " 'fresno',\n",
       " 'san_francisco',\n",
       " 'vegas',\n",
       " 'thornton',\n",
       " 'sutherland_springs',\n",
       " 'parkland',\n",
       " 'nashville',\n",
       " 'santa_fe',\n",
       " 'annapolis',\n",
       " 'pittsburgh',\n",
       " 'thousand_oaks']"
      ]
     },
     "execution_count": 22,
     "metadata": {},
     "output_type": "execute_result"
    }
   ],
   "source": [
    "events"
   ]
  },
  {
   "cell_type": "code",
   "execution_count": 23,
   "metadata": {
    "collapsed": true
   },
   "outputs": [],
   "source": [
    "df = pd.DataFrame.from_dict({'shouldve_prop':prop_shouldve, 'should_odds':should_odds, 'shouldve_odds':shouldve_odds, 'race':race})"
   ]
  },
  {
   "cell_type": "code",
   "execution_count": 24,
   "metadata": {},
   "outputs": [
    {
     "data": {
      "text/plain": [
       "-0.21587544233441927"
      ]
     },
     "execution_count": 24,
     "metadata": {},
     "output_type": "execute_result"
    }
   ],
   "source": [
    "np.mean(shouldve_odds)"
   ]
  },
  {
   "cell_type": "code",
   "execution_count": 25,
   "metadata": {},
   "outputs": [
    {
     "data": {
      "text/plain": [
       "0.052944556710957644"
      ]
     },
     "execution_count": 25,
     "metadata": {},
     "output_type": "execute_result"
    }
   ],
   "source": [
    "np.std(prop_shouldve)"
   ]
  },
  {
   "cell_type": "code",
   "execution_count": 26,
   "metadata": {},
   "outputs": [
    {
     "data": {
      "text/plain": [
       "0.1559612896053431"
      ]
     },
     "execution_count": 26,
     "metadata": {},
     "output_type": "execute_result"
    }
   ],
   "source": [
    "np.mean(prop_shouldve)"
   ]
  },
  {
   "cell_type": "code",
   "execution_count": 27,
   "metadata": {},
   "outputs": [
    {
     "data": {
      "text/plain": [
       "Ttest_1sampResult(statistic=-2.0883401574328095, pvalue=0.049763460044135156)"
      ]
     },
     "execution_count": 27,
     "metadata": {},
     "output_type": "execute_result"
    }
   ],
   "source": [
    "ttest_1samp(shouldve_odds, 0)"
   ]
  },
  {
   "cell_type": "code",
   "execution_count": 28,
   "metadata": {},
   "outputs": [
    {
     "data": {
      "text/plain": [
       "Ttest_indResult(statistic=-0.3044664887011898, pvalue=0.7623509719875924)"
      ]
     },
     "execution_count": 28,
     "metadata": {},
     "output_type": "execute_result"
    }
   ],
   "source": [
    "ttest_ind(shouldve_odds, should_odds)"
   ]
  },
  {
   "cell_type": "code",
   "execution_count": 29,
   "metadata": {},
   "outputs": [
    {
     "data": {
      "text/plain": [
       "Ttest_indResult(statistic=-1.115734667342028, pvalue=0.27844880005700556)"
      ]
     },
     "execution_count": 29,
     "metadata": {},
     "output_type": "execute_result"
    }
   ],
   "source": [
    "ttest_ind(shouldve_odds[:9], shouldve_odds[9:])"
   ]
  },
  {
   "cell_type": "code",
   "execution_count": 30,
   "metadata": {},
   "outputs": [
    {
     "name": "stdout",
     "output_type": "stream",
     "text": [
      "-0.25162427601763\n",
      "-0.1765517252828875\n",
      "Ttest_indResult(statistic=-0.35469175838123573, pvalue=0.7267269963091383)\n"
     ]
    }
   ],
   "source": [
    "print(np.mean(np.array(df[df['race']=='white'].shouldve_odds)))\n",
    "print(np.mean(np.array(df[df['race']=='POC'].shouldve_odds)))\n",
    "print(ttest_ind(np.array(df[df['race']=='white'].shouldve_odds), np.array(df[df['race']=='POC'].shouldve_odds)))"
   ]
  },
  {
   "cell_type": "code",
   "execution_count": 31,
   "metadata": {},
   "outputs": [
    {
     "name": "stdout",
     "output_type": "stream",
     "text": [
      "-0.30436008739638987\n",
      "-0.04267669615802142\n",
      "Ttest_indResult(statistic=-2.5279065325489634, pvalue=0.02049621218814681)\n"
     ]
    }
   ],
   "source": [
    "print(np.mean(np.array(df[df['race']=='white'].should_odds)))\n",
    "print(np.mean(np.array(df[df['race']=='POC'].should_odds)))\n",
    "print(ttest_ind(np.array(df[df['race']=='white'].should_odds), np.array(df[df['race']=='POC'].should_odds)))"
   ]
  },
  {
   "cell_type": "markdown",
   "metadata": {
    "collapsed": true
   },
   "source": [
    "# subjects & complements of modals"
   ]
  },
  {
   "cell_type": "code",
   "execution_count": 115,
   "metadata": {
    "collapsed": true
   },
   "outputs": [],
   "source": [
    "regexes_new = {\n",
    "    'must': r\"(\\bmust(n['‘’`]?t?)?\\b)|(\\bmust['‘’`]?ve\\b)\",\n",
    "    'should': r\"(\\bshould(n['‘’`]?t?)?\\b)|(\\bshould['‘’`]?ve\\b)\",\n",
    "    'need to': r\"\\bneed to\\b\",\n",
    "    'needs to': r\"\\bneeds to\\b\",\n",
    "    'have to': r\"\\bhave to\\b\",\n",
    "    'has to': r\"\\bhas to\\b\",\n",
    "}\n",
    "modal_replace = {\n",
    "    'must': {'past': (r\"must['‘’`]?ve\", 'must have'), 'neg': (r\"mustn['‘’`]?t\", \"must not\")},\n",
    "    'should': {'past': (r\"should['‘’`]?ve\", 'should have'), 'neg': (r\"shouldn['‘’`]?t\", \"should not\")},\n",
    "}"
   ]
  },
  {
   "cell_type": "code",
   "execution_count": 122,
   "metadata": {
    "collapsed": true
   },
   "outputs": [],
   "source": [
    "def get_valid(l, isbef):\n",
    "    append = []\n",
    "    for t in l:\n",
    "        if t in ['have', 've', 'not', 't', 'to', 'be', 'the', 'a', 'no', 'an']:\n",
    "            append.append(t)\n",
    "        elif len(append) > 0:\n",
    "            if isbef:\n",
    "                return t + ' ' + ' '.join(append)\n",
    "            else:\n",
    "                return ' '.join(append) + ' ' + t\n",
    "        else:\n",
    "            return t\n",
    "    return ''"
   ]
  },
  {
   "cell_type": "code",
   "execution_count": 123,
   "metadata": {
    "collapsed": true
   },
   "outputs": [],
   "source": [
    "def log_odds(counts1, counts2, prior):\n",
    "    # counts1 will be positive and counts2 will be negative\n",
    "    sigmasquared = defaultdict(float)\n",
    "    sigma = defaultdict(float)\n",
    "    delta = defaultdict(float)\n",
    "\n",
    "    n1 = sum(list(counts1.values()))\n",
    "    n2 = sum(list(counts2.values()))\n",
    "    nprior = sum(list(prior.values()))\n",
    "    for word in prior.keys():\n",
    "        if prior[word] == 0:\n",
    "            delta[word] = 0\n",
    "            continue\n",
    "        l1 = float(counts1[word] + prior[word]) / (( n1 + nprior ) - (counts1[word] + prior[word]))\n",
    "        l2 = float(counts2[word] + prior[word]) / (( n2 + nprior ) - (counts2[word] + prior[word]))\n",
    "        sigmasquared[word] = 1/(float(counts1[word]) + float(prior[word])) + 1/(float(counts2[word]) + float(prior[word]))\n",
    "        sigma[word] = math.sqrt(sigmasquared[word])\n",
    "        delta[word] = (math.log(l1) - math.log(l2)) / sigma[word]\n",
    "        #delta[word] = (math.log(l1) - math.log(l2))\n",
    "    return delta"
   ]
  },
  {
   "cell_type": "code",
   "execution_count": 131,
   "metadata": {
    "collapsed": true
   },
   "outputs": [],
   "source": [
    "def get_contexts(tweets, m):\n",
    "    before = []\n",
    "    after = []\n",
    "    trigrams = []\n",
    "    twoword = False\n",
    "    if len(m.split()) > 1:\n",
    "        modal_first = m.split()[0]\n",
    "        twoword = True\n",
    "    else:\n",
    "        modal_first = m\n",
    "    tweets['text'] = tweets['text'].str.lower()\n",
    "    if m in ['should', 'must']:\n",
    "        tweets['text'] = tweets['text'].str.replace(modal_replace[m]['past'][0], modal_replace[m]['past'][1], regex=True)\n",
    "        tweets['text'] = tweets['text'].str.replace(modal_replace[m]['neg'][0], modal_replace[m]['neg'][1], regex=True)\n",
    "    tweets['text'] = tweets['text'].astype(str).apply(clean_text, args=(True, None, False))\n",
    "    for words in tweets['text']:\n",
    "        \n",
    "        trigram = []\n",
    "        if twoword:\n",
    "            for i, w in enumerate(words[:-2]):\n",
    "                if w == modal_first and words[i+1] == 'to':\n",
    "                    trigram = [modal_first]\n",
    "                    break\n",
    "        else:\n",
    "            for i, w in enumerate(words):\n",
    "                if w == modal_first:\n",
    "                    trigram = [modal_first]\n",
    "                    break\n",
    "        if len(trigram) == 0:\n",
    "            continue\n",
    "        bef = get_valid(reversed(words[:i]), isbef=True)\n",
    "        aft = ''\n",
    "        if i < len(words) -1:\n",
    "            aft = get_valid(words[i+1:], isbef=False)\n",
    "        trigram = [bef] + trigram + [aft]\n",
    "        trigram = ' '.join(trigram)\n",
    "        if bef != '':\n",
    "            before.append(bef)\n",
    "        if aft != '':\n",
    "            after.append(aft)\n",
    "        trigrams.append(trigram)\n",
    "    return Counter(before), Counter(after), Counter(trigrams)"
   ]
  },
  {
   "cell_type": "code",
   "execution_count": 132,
   "metadata": {
    "scrolled": true
   },
   "outputs": [
    {
     "name": "stdout",
     "output_type": "stream",
     "text": [
      "chattanooga\n",
      "must\n",
      "54 123\n",
      "should\n",
      "106 372\n",
      "need to\n",
      "41 102\n",
      "needs to\n",
      "10 47\n",
      "have to\n",
      "39 72\n",
      "has to\n",
      "12 26\n",
      "roseburg\n",
      "must\n",
      "93 24\n",
      "should\n",
      "125 85\n",
      "need to\n",
      "55 26\n",
      "needs to\n",
      "44 16\n",
      "have to\n",
      "57 19\n",
      "has to\n",
      "25 13\n",
      "colorado_springs\n",
      "must\n",
      "223 92\n",
      "should\n",
      "744 254\n",
      "need to\n",
      "190 58\n",
      "needs to\n",
      "69 30\n",
      "have to\n",
      "162 60\n",
      "has to\n",
      "44 12\n",
      "san_bernardino\n",
      "must\n",
      "184 153\n",
      "should\n",
      "307 374\n",
      "need to\n",
      "171 148\n",
      "needs to\n",
      "81 51\n",
      "have to\n",
      "144 94\n",
      "has to\n",
      "58 44\n",
      "kalamazoo\n",
      "must\n",
      "34 16\n",
      "should\n",
      "105 42\n",
      "need to\n",
      "38 24\n",
      "needs to\n",
      "11 8\n",
      "have to\n",
      "50 11\n",
      "has to\n",
      "14 3\n",
      "orlando\n",
      "must\n",
      "3962 3731\n",
      "should\n",
      "8336 7013\n",
      "need to\n",
      "3637 2806\n",
      "needs to\n",
      "1844 1152\n",
      "have to\n",
      "2667 1262\n",
      "has to\n",
      "882 464\n",
      "dallas\n",
      "must\n",
      "701 661\n",
      "should\n",
      "1330 1663\n",
      "need to\n",
      "747 734\n",
      "needs to\n",
      "304 403\n",
      "have to\n",
      "497 429\n",
      "has to\n",
      "218 202\n",
      "baton_rouge\n",
      "must\n",
      "185 211\n",
      "should\n",
      "214 254\n",
      "need to\n",
      "158 227\n",
      "needs to\n",
      "63 140\n",
      "have to\n",
      "115 142\n",
      "has to\n",
      "96 119\n",
      "burlington\n",
      "must\n",
      "7 13\n",
      "should\n",
      "14 28\n",
      "need to\n",
      "12 10\n",
      "needs to\n",
      "9 6\n",
      "have to\n",
      "4 6\n",
      "has to\n",
      "1 3\n",
      "fort_lauderdale\n",
      "must\n",
      "19 10\n",
      "should\n",
      "26 22\n",
      "need to\n",
      "14 18\n",
      "needs to\n",
      "8 7\n",
      "have to\n",
      "10 7\n",
      "has to\n",
      "4 7\n",
      "fresno\n",
      "must\n",
      "14 38\n",
      "should\n",
      "15 69\n",
      "need to\n",
      "12 34\n",
      "needs to\n",
      "0 10\n",
      "have to\n",
      "6 27\n",
      "has to\n",
      "4 2\n",
      "san_francisco\n",
      "must\n",
      "26 13\n",
      "should\n",
      "46 18\n",
      "need to\n",
      "20 9\n",
      "needs to\n",
      "4 3\n",
      "have to\n",
      "13 6\n",
      "has to\n",
      "2 4\n",
      "vegas\n",
      "must\n",
      "2984 3052\n",
      "should\n",
      "6268 5601\n",
      "need to\n",
      "3080 2646\n",
      "needs to\n",
      "1373 1175\n",
      "have to\n",
      "2273 1486\n",
      "has to\n",
      "638 550\n",
      "thornton\n",
      "must\n",
      "37 16\n",
      "should\n",
      "142 40\n",
      "need to\n",
      "44 28\n",
      "needs to\n",
      "16 9\n",
      "have to\n",
      "42 15\n",
      "has to\n",
      "14 5\n",
      "sutherland_springs\n",
      "must\n",
      "636 539\n",
      "should\n",
      "1930 1695\n",
      "need to\n",
      "791 679\n",
      "needs to\n",
      "255 223\n",
      "have to\n",
      "654 416\n",
      "has to\n",
      "118 93\n",
      "parkland\n",
      "must\n",
      "1871 1024\n",
      "should\n",
      "6148 3864\n",
      "need to\n",
      "2400 1400\n",
      "needs to\n",
      "923 724\n",
      "have to\n",
      "2375 903\n",
      "has to\n",
      "468 260\n",
      "nashville\n",
      "must\n",
      "111 76\n",
      "should\n",
      "534 339\n",
      "need to\n",
      "143 95\n",
      "needs to\n",
      "79 42\n",
      "have to\n",
      "148 101\n",
      "has to\n",
      "34 20\n",
      "santa_fe\n",
      "must\n",
      "576 219\n",
      "should\n",
      "1151 546\n",
      "need to\n",
      "545 347\n",
      "needs to\n",
      "275 113\n",
      "have to\n",
      "627 219\n",
      "has to\n",
      "157 79\n",
      "annapolis\n",
      "must\n",
      "153 43\n",
      "should\n",
      "395 170\n",
      "need to\n",
      "95 74\n",
      "needs to\n",
      "52 24\n",
      "have to\n",
      "98 38\n",
      "has to\n",
      "47 16\n",
      "pittsburgh\n",
      "must\n",
      "220 136\n",
      "should\n",
      "253 94\n",
      "need to\n",
      "57 28\n",
      "needs to\n",
      "20 4\n",
      "have to\n",
      "40 20\n",
      "has to\n",
      "22 6\n",
      "thousand_oaks\n",
      "must\n",
      "352 102\n",
      "should\n",
      "550 263\n",
      "need to\n",
      "358 118\n",
      "needs to\n",
      "120 53\n",
      "have to\n",
      "302 95\n",
      "has to\n",
      "121 34\n"
     ]
    }
   ],
   "source": [
    "rep_modal_bef = {m:[] for m in regexes_new}\n",
    "dem_modal_bef = {m:[] for m in regexes_new}\n",
    "rep_modal_aft = {m:[] for m in regexes_new}\n",
    "dem_modal_aft = {m:[] for m in regexes_new}\n",
    "rep_modal_tri = {m:[] for m in regexes_new}\n",
    "dem_modal_tri = {m:[] for m in regexes_new}\n",
    "\n",
    "def add_vals(contains, m):\n",
    "    dem, rep = split_party(contains)\n",
    "    print(len(dem), len(rep))\n",
    "    # Dem\n",
    "    bef, aft, tri = get_contexts(dem, m)\n",
    "    dem_modal_bef[m].append(bef)\n",
    "    dem_modal_aft[m].append(aft)\n",
    "    dem_modal_tri[m].append(tri)\n",
    "    # Rep\n",
    "    bef, aft, tri = get_contexts(rep, m)\n",
    "    rep_modal_bef[m].append(bef)\n",
    "    rep_modal_aft[m].append(aft)\n",
    "    rep_modal_tri[m].append(tri)\n",
    "    \n",
    "for event in events:\n",
    "    print(event)\n",
    "    data = pd.read_csv(TWEET_DIR+event+'/'+event+'.csv', sep='\\t', lineterminator='\\n', usecols=['text', 'rep_follows', 'dem_follows', 'isRT', 'remove'])\n",
    "    data = filter_retweets(data)\n",
    "    #data =  data[~data['text'].str.contains(r'http|\\.com|www', case=False)]  # add to filter URLs\n",
    "    for k, v in regexes_new.items():\n",
    "        contains = data[data['text'].str.contains(v, case=False)]\n",
    "        print(k)\n",
    "        add_vals(contains, k)"
   ]
  },
  {
   "cell_type": "code",
   "execution_count": 145,
   "metadata": {},
   "outputs": [],
   "source": [
    "def get_most_partisan(dem_vals, rep_vals):\n",
    "    most_rep = {m:[] for m in regexes_new}\n",
    "    most_dem = {m:[] for m in regexes_new}\n",
    "    for m in regexes_new:\n",
    "        for i, (d, r) in enumerate(zip(dem_vals[m], rep_vals[m])):\n",
    "            if len(d) == 0 or len(r) == 0:\n",
    "                continue\n",
    "            odds = log_odds(d, r, d+r)\n",
    "            most_rep[m].extend([k for k, v in odds.items() if v <= -.5])\n",
    "            most_dem[m].extend([k for k, v in odds.items() if v >= .5])\n",
    "    for m in most_rep:\n",
    "        most_rep[m] = Counter(most_rep[m]).most_common()\n",
    "    for m in most_dem:\n",
    "        most_dem[m] = Counter(most_dem[m]).most_common()\n",
    "    return most_rep, most_dem"
   ]
  },
  {
   "cell_type": "code",
   "execution_count": 146,
   "metadata": {},
   "outputs": [],
   "source": [
    "most_rep_bef, most_dem_bef = get_most_partisan(dem_modal_bef, rep_modal_bef)\n",
    "most_rep_aft, most_dem_aft = get_most_partisan(dem_modal_aft, rep_modal_aft)\n",
    "most_rep_tri, most_dem_tri= get_most_partisan(dem_modal_tri, rep_modal_tri)"
   ]
  },
  {
   "cell_type": "code",
   "execution_count": 147,
   "metadata": {
    "collapsed": true
   },
   "outputs": [],
   "source": [
    "def print_top(dem, rep):\n",
    "    for m,  v in dem.items():\n",
    "        print('\\\\begin{center}\\\\textbf{' + m.upper() + '}\\\\end{center}')\n",
    "        toprint_dem = ''\n",
    "        for k, count in v:\n",
    "            if count > 2:\n",
    "                toprint_dem += \"%s (%d), \" % (k, count)\n",
    "        print('\\\\noindent\\\\emph{Democrat}\\\\\\\\' + toprint_dem[:-2].replace('#','\\\\#') + '\\\\\\\\')\n",
    "        toprint_rep = ''\n",
    "        for k, count in rep[m]:\n",
    "            if count > 3:\n",
    "                toprint_rep += \"%s (%d), \" % (k, count)\n",
    "        print('\\\\noindent\\\\emph{Republican}\\\\\\\\' + toprint_rep[:-2].replace('#','\\\\#') + '\\\\\\\\')\n",
    "    "
   ]
  },
  {
   "cell_type": "code",
   "execution_count": 148,
   "metadata": {
    "scrolled": true
   },
   "outputs": [
    {
     "name": "stdout",
     "output_type": "stream",
     "text": [
      "\\begin{center}\\textbf{MUST}\\end{center}\n",
      "\\noindent\\emph{Democrat}\\\\we must do (14), this must stop (8), we must end (7), something must be done (7), we must act (7), long must we (7), congress must act (7), we must stand (6), we must stop (6), he must be white (6), we must address (6), violence must end (6), violence must stop (6), lives must be lost (6), killing must stop (6), we must make (6), times must this (5), it must stop (5), we must all (5), people must die (5), many must die (5), we must keep (5), and must do (5), we must pass (5), we must continue (5), times must we (5), this must end (5), we must take (5), we must honor (5), shooter must be white (5), shooter must have been (4), insanity must stop (4), we must treat (4), we must remember (4), shootings must stop (4), is a must  (4), shootings must end (4), change must happen (4), congress must take (4), this must change (4), we must get (4), action must be taken (4), control must happen (4), we must push (4), we must find (4), we must have gun (4), we must change (4), we must work (4), we must combat (4), we must deal (4), lives must be taken (4), we must try (4), congress must pass (4), madness must end (4), we must hold (4), \\#gunviolence must end (4), we must enact (4), rifles must be banned (4), they must know (3), i must say (3), we must ask (3), we must always (3), \\#guncontrol must happen (3), we must reclaim (3), madness must stop (3), it must take (3), there must have been (3), action must follow (3), we must condemn (3), i must ask (3), we must \\#stopgunviolence (3), innocents must die (3), nra must be so (3), why must we (3), we must come (3), we must fight (3), things must change (3), tragedies must end (3), violence must be stopped (3), we must confront (3), violence must be addressed (3), we must stay (3), you must be so (3), laws must change (3), we must  (3), shootings must we (3), we must join (3), you must really (3), weapons must be banned (3), we must have change (3), love must prevail (3), shooting must have been (3), more must we (3), we must not become (3), we must create (3), we must allow (3), children must die (3), you must be proud (3), that must mean (3), we must fix (3), shooting must stop (3), we must look (3),  must feel (3), we must as (3), more must die (3), there must be something (3), you must do (3), and must be stopped (3), we must talk (3), we must not forget (3), we must vote (3)\\\\\n",
      "\\noindent\\emph{Republican}\\\\it must have been (6), they must be stopped (5),  must watch (5), i must say (5), we must ban (5), they must know (4), you must know (4), we must protect (4), we must remain (4), i must have missed (4), he must resign (4), why must you (4), you must protect (4), we must be vigilant (4), attacks must stop (4), you must be happy (4), we must reform (4), it must be stopped (4), this must be one (4), rhetoric must stop (4), we must understand (4), we must stand (4), we must return (4)\\\\\n",
      "\\begin{center}\\textbf{SHOULD}\\end{center}\n",
      "\\noindent\\emph{Democrat}\\\\this should not be normal (8), we should all (7), who should not have guns (6), who should not have them (6), this should not be happening (6), this should not happen (6), who should not have had (6), this should not have happened (5), we should just (5), you should be ashamed (5), congress should be forced (5), that should not be happening (5), people should be able (5), we should never (5), who should not have a gun (5), civilians should not have access (5), we should know (5), you should see (5), never should have had (5), everyone should be able (4), we should ban (4), we should start (4), you should  (4), we should probably (4),  should we (4), you should not be able (4), we should bring (4), one should die (4), there should be some (4), we should not do (4), we should wait (4), this should never (4), we should not need (4), it should not be this (4), one should be able (4), we should not be afraid (4), everyone should have a gun (4), civilians should have access (4), they should have had (4), we should now (4), people should not have access (4), one should be afraid (4), he should not have had (4), this should not be our (4), we should try (4), one should live (4), we should not allow (4), hook should have been (4), people should have access (4), everyone should have guns (4), everyone should own (4), it should not take (4), this should have never (4), guns should be allowed (4), there should be a ban (3), media should be ashamed (3), we should change (3), people should be more (3), you should ask (3), we should politicize (3), you should never (3), i should have known (3), shootings should not be the norm (3), we should do (3), we should be upset (3), we should be afraid (3), there should have been (3), there should never (3), it should not be that (3), we should be focused (3), one should have access (3), we should not care (3), you should also (3), you should tweet (3), something should be done (3),  should not they (3), it should have been (3), we should not be surprised (3), they should know (3), there should be more (3), why should it (3), you should call (3), congress should do (3), he should go (3), why should anyone (3), people should not be shot (3), guns should be outlawed (3), one should feel (3), weapons should be outlawed (3), rifles should be banned (3), guns should be illegal (3), people should not be killed (3), never should have happened (3), one should have to fear (3), people should feel (3), we should leave (3), what should be a safe (3), guns should be legal (3), people should be allowed (3), anyone should be able (3), media should stop (3), we should remember (3), but should not we (3), that should be illegal (3), they should feel (3), you should all (3), one should lose (3), you should too (3), civilian should have access (3), we should focus (3), we should  (3), person should not be able (3), you should donate (3),  should i (3), one should be getting (3), weapons should not be sold (3), everyone should have the right (3), guns should never (3), civilians should not have assault (3), people should not have to worry (3), you should not be allowed (3), shooting should not happen (3), we should stand (3), you should be embarrassed (3), we should build (3), you should leave (3), you should be more (3), we should not be able (3), what should you (3), you should not own (3), civilians should be able (3), guns should not be allowed (3), one should have to worry (3), we should have gun (3), he should never (3), everyone should read (3), we should not rush (3), it should not be allowed (3), we should say (3), all should  (3), this should not be a political (3), he should be able (3), we should be having (3), people should not be able (3), i should not feel (3), they should put (3), man should not have been (3), civilian should ever (3), it should not be lost (3), civilians should not own (3), weapons should be legal (3), i should never (3), people should have died (3), fbi should investigate (3), we should attack (3), when should we (3), parent should ever (3), we should name (3), shooting should of (3), u should get (3), civilians should own (3), we should arm (3), it should be for (3), teachers should have guns (3), nra should have to pay (3), you should not have the right (3), shooting should have never (3), they should have been (3), we should really (3), it should not matter (3), who should get (3), that should not have guns (3), can should do (3), we should discuss (3), it should  (3), one should be shot (3),  should people (3), we should treat (3), we should not talk (3), they should  (3), rifles should not be available (3), someone should tell (3), you should be shot (3), that should have been (3), we should not have laws (3), people should not be allowed (3), it should not even (3), or should we (3), civilian should own (3), they should call (3), you should be tweeting (3), one should have to go (3), that should be safe (3), that should never (3), we should definitely (3), child should ever (3), somebody should tell (3), nothing should be done (3), we should not let (3)\\\\\n",
      "\\noindent\\emph{Republican}\\\\we should ban (8), we should make (7), and should be prosecuted (6), they should just (6), police should have guns (5), i should have been (5), you should know (5), they should of (5), you should go (5), he should have been (5), we should keep (5), he should be arrested (5), they should not be allowed (5), government should have guns (5), we should see (5),  should we (5), they should give (4), they should be allowed (4), everyone should know (4), we should at (4), they should make (4), shooting should not we (4), obama should resign (4), someone should inform (4), we should outlaw (4), you should do (4), you should ask (4), he should be fired (4), us should take (4), you should be fired (4), what should be done (4), fbi should have been (4), they should  (4), why should he (4), and should have been (4), we should be asking (4), we should have guns (4), parents should be held (4), he should have stopped (4), we should add (4), he should take (4), and should be fired (4), they should use (4), democrats should not be allowed (4), they should hang (4), you should be mad (4), we should work (4), what should they (4), they should take (4), we should be able (4), guns should be taken (4), you should stop (4), you should see (4), there should never (4), shooter should get (4), who should we (4), shooter should not have had (4)\\\\\n",
      "\\begin{center}\\textbf{NEED TO}\\end{center}\n",
      "\\noindent\\emph{Democrat}\\\\we need to take (8), more need to die (8), we need to act (8), we need to talk (8), we need to do (8), we need to stand (7), we need to stop (7), people need to die (7), shootings need to happen (6), laws need to change (6), we need to change (6), we need to fix (6), we need to vote (6), we need to make (6), we need to call (5), they need to carry (5), we need to remember (5), don t need to see (5), all need to take (5), we need to hear (4), you need to rethink (4), we need to be better (4), we need to start (4), guns need to go (4), we need to figure (4), people need to stop (4), you need to change (4), we need to keep (4), we need to solve (4), laws need to be changed (4), we need to work (4), we need to end (4), we need to be able (4), we need to address (4), we need to help (4), we need to demand (4), weapons need to be banned (4), we need to have more (4), i need to know (4), lives need to be lost (3), acts need to stop (3), you need to know (3), we need to focus (3), don t need to keep (3), many need to die (3), we need to have before (3), we need to look (3), we need to say (3), we need to see (3), we need to pass (3), massacres need to happen (3), you need to recognize (3), also need to make (3), this need to happen (3), lives need to be taken (3), we need to \\#endgunviolence (3), all need to stand (3), we need to acknowledge (3), we need to mourn (3), shootings need to stop (3), don t need to know (3), violence need to end (3), we need to have better (3), we need to live (3), laws need to happen (3), violence need to stop (3), they need to know (3), people need to be shot (3), we need to wait (3), you need to talk (3), we need to listen (3), we need to honor (3), people need to stand (3), i need to stop (3), we need to be talking (3), we need to also (3), we need to speak (3), who need to get (3), we need to go (3), people need to hear (3), we need to wake (3), guns need to be restricted (3), really need to get (3), we need to have a real (3), felt the need to take (3), we need to understand (3), all need to see (3), we need to be outraged (3), people need to start (3), i need to add (3), they need to pay (3), don t need to do (3), we need to ban (3), leaders need to do (3), you need to tell (3), we need to limit (3), we need to prevent (3), we need to really (3)\\\\\n",
      "\\noindent\\emph{Republican}\\\\you need to know (8), killings need to stop (6), we need to protect (6), we need to get (6), we need to focus (6), we need to know (6), we need to be more (5), really need to look (5), people need to realize (5), people need to stop (5), people need to know (5), we need to pray (4), we need to wait (4), we need to allow (4), they need to kill (4), americans need to be armed (4), really need to stop (4), we need to return (4), we need to kill (4), you need to watch (4), seriously need to change (4), heads need to roll (4), you need to investigate (4), democrats need to stop (4), people need to get (4), you need to address (4), you need to go (4), we need to enforce (4), we need to find (4), guns need to be banned (4), we need to look (4), you need to look (4), you need to ask (4), we need to punish (4)\\\\\n",
      "\\begin{center}\\textbf{NEEDS TO}\\end{center}\n",
      "\\noindent\\emph{Democrat}\\\\something needs to be done (8), this needs to stop (8), violence needs to stop (7), it needs to end (6), something needs to change (5), there needs to be stricter (5), this needs to end (5), violence needs to end (5), gop needs to stop (5), america needs to do (4), change needs to happen (4), that needs to be addressed (4), shit needs to stop (4), congress needs to stop (4), it needs to stop (4), america needs to end (3), else needs to happen (3), seriously needs to be done (3), control needs to happen (3), one needs to own (3), what needs to happen (3), reform needs to happen (3), control needs to be a thing (3), there needs to be more (3), there needs to be gun (3), hatred needs to stop (3), it needs to be said (3), world needs to change (3), work needs to be done (3), law needs to change (3), seriously needs to stop (3), control needs to be addressed (3), cnn needs to stop (3), congress needs to do (3), someone needs to tell (3), story needs to be told (3), he needs to take (3), it needs to happen (3), he needs to get (3), congress needs to act (3), this needs to be stopped (3), trump needs to stop (3)\\\\\n",
      "\\noindent\\emph{Republican}\\\\she needs to go (4), someone needs to ask (4)\\\\\n",
      "\\begin{center}\\textbf{HAVE TO}\\end{center}\n",
      "\\noindent\\emph{Democrat}\\\\people have to die (10), we have to do (7), more have to die (6), many have to die (6), don t have to live (5), should not have to fear (4), we have to say (4), don t have to do (4), this have to happen (4), you have to say (4), things have to change (4), should have to fear (4), we have to change (4), we have to talk (4), we have to act (4), we have to keep (4), i have to worry (4), we have to read (3), we have to go (3), we have to have before (3), we have to endure (3), we have to lose (3), lives have to be lost (3), we have to accept (3), we have to hear (3), and not have to worry (3), you have to offer (3), we have to end (3), i have to see (3), shootings have to stop (3), we have to look (3), should have to go (3), we have to pay (3), children have to die (3)\\\\\n",
      "\\noindent\\emph{Republican}\\\\i have to wonder (7), that have to do (6), shooting have to do (6), you have to say (6), we have to ask (5), i have to say (5), will have to live (5), shootings have to stop (5), i have to go (5), you have to kill (5), i have to agree (5), you have to change (5), you have to be to shoot (5), does have to do (5), nra have to do (5), trump have to do (5), these have to happen (4), we have to listen (4), you have to go (4), you have to put (4), will have to wait (4), going to have to work (4), you have to talk (4), we have to pray (4), we have to see (4), you have to know (4), you have to stop (4), this have to do (4), people have to stop (4), you have to give (4), going to have to get (4), who have to deal (4), you have to ask (4), we have to remember (4), you have to be really (4)\\\\\n",
      "\\begin{center}\\textbf{HAS TO}\\end{center}\n",
      "\\noindent\\emph{Democrat}\\\\this has to stop (11), something has to change (6), it has to stop (5), violence has to end (5), shooting has to do (4), this has to end (4), something has to be done (4), more has to happen (4), killing has to stop (4), it has to end (4), what the has to say (4), shit has to stop (3), what has to happen (3), this has to change (3), madness has to end (3), simply has to stop (3), humanity has to offer (3), what has to be done (3), stuff has to stop (3), else has to happen (3), there has to be footage (3), killings has to stop (3)\\\\\n",
      "\\noindent\\emph{Republican}\\\\it has to do (8), that has to do (6), obama has to say (5), he has to say (5), this has to end (4), there has to be some (4), what has to say (4), one has to ask (4), shit has to end (4)\\\\\n"
     ]
    }
   ],
   "source": [
    "print_top(most_dem_tri, most_rep_tri)"
   ]
  },
  {
   "cell_type": "code",
   "execution_count": 149,
   "metadata": {},
   "outputs": [
    {
     "name": "stdout",
     "output_type": "stream",
     "text": [
      "\\begin{center}\\textbf{MUST}\\end{center}\n",
      "\\noindent\\emph{Democrat}\\\\we (14), violence (10), this (8), long (8), congress (8), and (7), madness (7), something (6), shootings (6), laws (6), more (6), shooter (5), insanity (5), i (5), lives (5), times (5), many (5), prayers (5), nra (5), weapons (5), \\#nra (5), rifles (5), people (4), government (4), is a (4), nation (4), action (4), guns (4), ppl (4), victims (4), love (4), things (4), owners (4), \\#republicans (4), \\#gunviolence (4), are a (4), there (4), muslims (3), he (3), leaders (3), it (3), checks (3), somebody (3), killing (3), senate (3), family (3), they (3), change (3), epidemic (3), innocents (3), tragedies (3), all (3), killings (3), politicians (3), gop (3), \\#gunsense (3), \\#gunreform (3), blood (3), men (3), how (3), reform (3), officials (3), \\#gop (3), back (3), these (3), god (3), money (3), children (3), rights (3), terrorism (3), candidates (3), issue (3), control (3), country (3)\\\\\n",
      "\\noindent\\emph{Republican}\\\\shooting (9), that (8), he (7), obama (7), shooters (7), terrorist (6), they (6), i (6), you (6), liberals (6), u (6), fbi (6), left (6), shooter (6), killer (5), media (5), shit (5), trump (5), she (5), church (5), truth (5), dead (5), there (5), one (4), killings (4), law (4), is a (4), us (4), families (4), democrats (4), guy (4), now (4), attacks (4), citizens (4), ignorance (4), whites (4), muslims (4), police (4), security (4), narrative (4), cnn (4), authorities (4), hate (4), dems (4), someone (4), enforcement (4)\\\\\n",
      "\\begin{center}\\textbf{SHOULD}\\end{center}\n",
      "\\noindent\\emph{Democrat}\\\\we (11), this (10), i (9), one (9), anyone (8), you (8), that (8), who (8), it (8), nra (8), people (7), shootings (7), or (7), weapons (7), child (7), congress (6), country (6), guns (6), trump (6), civilian (6), \\#nra (6), shooter (5), rifles (5), civilians (5), gop (5), nuts (5), victims (5), shooting (4), everybody (4), world (4), amendment (4), 1 (4), \\#congress (4), probably (4), women (4), home (4), criminals (4), nobody (4), day (4), \\#gop (4), person (4), violence (4), them (4), lives (4), rifle (4), hook (4), too (4), more (4), point (4), teachers (4), now (4), public (4), ban (4), man (4), he (4), terrorism (3), someone (3), reporters (3), but (3), focus (3), authorities (3), why (3), killers (3), u (3), woman (3), healthcare (3), attack (3), she (3), suspect (3), there (3), terrorists (3), government (3), can (3), sense (3), laws (3), ownership (3), agenda (3), thing (3), all (3), us (3), hashtag (3), everyone (3), never (3), control (3), 15 (3), citizen (3), war (3), men (3), earth (3), politicians (3), prayers (3), hours (3), problem (3), humanity (3), carry (3), events (3), state (3), died (3), live (3), reps (3), thinking (3), sales (3), legislators (3), networks (3), issues (3), such (3), ll (3), goers (3), hell (3), hey (3), survivors (3), ass (3), orgs (3), killing (3), fire (3), official (3), personnel (3), children (3), victim (3), everything (3), supporters (3), father (3), killings (3), terrorist (3), family (3), old (3), community (3), goal (3), article (3), kids (3), vote (3), etc (3), president (3), parent (3)\\\\\n",
      "\\noindent\\emph{Republican}\\\\they (13), shooter (9), there (8), obama (7), flags (7), christians (7), police (7), shooters (7), you (7), fbi (7), he (6), media (6), potus (6), and (6), all (6), still (6), enforcement (6), u (6), americans (6), democrats (6), liberals (6), msm (6), focus (6), legally (6), left (6), shooting (6), flag (5), s (5), pres (5), president (5), cnn (5), someone (5), members (5), massacre (5), citizens (5), she (5), law (5), killer (5), schools (4), others (4), but (4), everyone (4), things (4), both (4), never (4), society (4), smith (4), right (4), good (4), today (4), realdonaldtrump (4), shot (4), cops (4), leaders (4), him (4), terrorism (4), conference (4), maybe (4), conservatives (4), feds (4), attack (4), authorities (4), guy (4), why (4), question (4), facebook (4), rights (4), how (4), investigation (4), dems (4), on (4), lynch (4), though (4), sure (4), title (4), journalists (4), dept (4), post (4), guard (4), staff (4), thinks (4), gunman (4), parents (4), opinion (4), guys (4), attention (4), gun (4)\\\\\n",
      "\\begin{center}\\textbf{NEED TO}\\end{center}\n",
      "\\noindent\\emph{Democrat}\\\\we (11), don t (9), laws (8), more (8), i (7), lives (6), feel the (6), shootings (5), guns (5), also (5), all (5), about the (5), doesn t (4), outlets (4), really (4), country (4), on the (4), didn t (4), dont (4), who (4), weapons (4), republicans (4), officials (4), congress (4), leaders (4), they (4), u (4), acts (3), you (3), many (3), and (3), lawmakers (3), people (3), usa (3), politicians (3), and the (3), felt the (3), this (3), violence (3), shouldn t (3), rifles (3), beings (3), never (3), does (3), urgent (3), both (3), shooting (3), guys (3), did not (3), guy (3), do not (3), adults (3), anyone (3), others (3), gop (3)\\\\\n",
      "\\noindent\\emph{Republican}\\\\they (7), will (7), citizens (7), people (7), killings (6), americans (6), police (6), i (5), you (5), authorities (5), sides (5), really (4), families (4), shooting (4), dems (4), just (4), attack (4), do not (4), dont (4), that (4), liberals (4), issue (4), heads (4), conservatives (4), sir (4), folks (4), would (4), owners (4), may (4)\\\\\n",
      "\\begin{center}\\textbf{NEEDS TO}\\end{center}\n",
      "\\noindent\\emph{Democrat}\\\\this (10), violence (9), something (7), really (7), it (6), shit (6), congress (6), nra (6), change (5), control (5), there (5), and (5), america (4), country (4), that (4), laws (4), is (4), seriously (4), reform (4), hatred (4), \\#gunviolence (4), \\#gop (4), one (4), \\#nra (4), gop (4), \\#america (4), usa (3), action (3), \\#guncontrol (3), legislation (3), gun (3), anyone (3), think (3), gov (3), \\#congress (3), narrative (3), administration (3), madness (3), government (3), terrorism (3), trump (3), he (3)\\\\\n",
      "\\noindent\\emph{Republican}\\\\obama (8), he (6), everyone (6), media (6), news (5), someone (5), she (5), that (4), law (4), shooter (4), everybody (4), community (4), left (4), what (4), woman (4), enforcement (4)\\\\\n",
      "\\begin{center}\\textbf{HAVE TO}\\end{center}\n",
      "\\noindent\\emph{Democrat}\\\\people (9), we (8), don t (7), should not (7), this (6), many (6), more (6), i (6), shouldn t (6), should (5), children (5), even (5), things (4), doesn t (3), families (3), he (3), there (3), lives (3), kids (3), laws (3), never (3), tragedies (3), country (3), didn t (3), americans (3), wouldn t (3), shootings (3), it (3)\\\\\n",
      "\\noindent\\emph{Republican}\\\\you (8), they (7), police (7), would (7), may (7), i (6), that (6), does (6), won t (5), shooting (5), d (5), going to (5), and (5), should (4), never (4), these (4), now (4), gonna (4), wouldn t (4), it (4), u (4), somebody (4), enforcement (4), democrats (4), nra (4), trump (4), always (4), but (4)\\\\\n",
      "\\begin{center}\\textbf{HAS TO}\\end{center}\n",
      "\\noindent\\emph{Democrat}\\\\this (10), something (6), america (5), he (4), shooting (4), violence (4), killing (4), country (4), \\#guncontrol (3), shit (3), more (3), \\#america (3), \\#gunviolence (3), it (3), shooter (3), else (3), insanity (3), killings (3)\\\\\n",
      "\\noindent\\emph{Republican}\\\\there (7), obama (6), and (6), it (5), she (5), that (5), he (4), someone (4), left (4), this (4), potus (4)\\\\\n"
     ]
    }
   ],
   "source": [
    "print_top(most_dem_bef, most_rep_bef)"
   ]
  },
  {
   "cell_type": "code",
   "execution_count": 150,
   "metadata": {},
   "outputs": [
    {
     "name": "stdout",
     "output_type": "stream",
     "text": [
      "\\begin{center}\\textbf{MUST}\\end{center}\n",
      "\\noindent\\emph{Democrat}\\\\do (14), end (11), stop (10), all (8), die (7), act (7), be white (7), change (7), this (6), be done (6), ask (6), be taken (6), be lost (6), pass (6), continue (6), stand (6), address (6), also (5), remember (5), take (5), find (5), suffer (5), we (5), honor (5), treat (4), be so (4), be hard (4), ensure (4), be stopped (4), happen (4), fear (4), have gun (4), finally (4), come (4), push (4), keep (4), live (4), work (4), confront (4), combat (4), make (4), hold (4), rise (4), include (4), enact (4), be a white (4), perish (3), say (3), condemn (3), mean (3), reclaim (3), be passed (3), be brown (3), get (3), join (3), follow (3), understand (3), \\#stopgunviolence (3), attack (3), begin (3), now (3), fight (3), help (3), read (3), fucking (3), prevail (3), be broken (3), be feeling (3), regulate (3), try (3), be enacted (3), be all (3), have change (3), be better (3), be careful (3), examine (3), fix (3), admit (3), be upset (3), practice (3), not become (3), use (3), allow (3), and (3), be had (3), be followed (3), be voted (3), break (3), be safe (3), \\#vote (3), hv (3), be against (3), be implemented (3), as (3), be something (3), have shot (3), speak (3), love (3), vote (3), be slaughtered (3), support (3), prevent (3), not forget (3), be said (3), be refreshed (3)\\\\\n",
      "\\noindent\\emph{Republican}\\\\know (7), be in (7), ban (7), watch (7), be killed (6), have been (6), protect (6), be prosecuted (6), be held (6), be eliminated (6), be arrested (6), see (6), remain (5), be allowed (5), face (5), realize (5), be more (5), resign (5), say (5), disavow (5), of (5), be removed (4), be stopped (4), add (4), make (4), give (4), be why (4), have missed (4), die (4), be laughing (4), feel (4), arm (4), not allow (4), be another (4), stop (4), be defeated (4), be true (4), be vigilant (4), be a muslim (4), be trained (4), not have been (4), be punished (4), be the gun (4), be fake (4), not fit (4), be found (4), be outlawed (4), be so (4), be proud (4), be happy (4), prepare (4), investigate (4), be dealt (4), stand (4), first (4)\\\\\n",
      "\\begin{center}\\textbf{SHOULD}\\end{center}\n",
      "\\noindent\\emph{Democrat}\\\\not have access (8), have had (8), not happen (8), not have happened (7), not have had (7), i (7), be forced (7), live (7), be getting (6), never (6), attend (6), be afraid (6), not be allowed (6), all (6), not be normal (6), not have them (6), still (6), not be happening (6), also (6), not take (6), not have to fear (5), call (5), be more (5), do (5), we (5), fear (5), not be able (5), be required (5), be scared (5), not be the norm (5), not be something (5), bring (5), have access (5), wait (5), not be surprised (5), only (5), be able (5), not need (5), be legal (5), die (5), not have assault (5), be the last (5), not be more (5), be working (5), be very (5), really (5), own (5), have never (5), not be sold (5), pay (5), have been (4), not exist (4), feel (4), worry (4), politicize (4), start (4), carry (4), just (4), not be the new (4), ever (4), be ashamed (4), not be that (4), be some (4), tweet (4), not be on (4), be enough (4), not have guns (4), not be shot (4), probably (4), not be this (4), be illegal (4), not be killed (4), end (4), not be afraid (4), have to live (4), not have a gun (4), stand (4), have to face (4), have used (4), not call (4), too (4), build (4), not fear (4), not be our (4), not stop (4), watch (4), not be a norm (4), not become (4), have military (4), possess (4), forget (4), see (4), be voted (4), have died (4), be killing (4), not have to pay (4), have to pay (4), be all (4), include (4), be sold (4), be in (4), have to endure (4), be alive (4), jump (3), learn (3), be out (3), be outraged (3), be released (3), be a ban (3), be he (3), not be a common (3), tell (3), be charged (3), focus (3), let (3), keep (3), ban (3), be supporting (3), be referred (3), post (3), avoid (3), not shoot (3), be called (3), have known (3), be upset (3), be joining (3), have stayed (3), strike (3), be normalized (3), say (3), be a privilege (3), not be called (3), be focused (3), but (3), not overshadow (3), not they (3), kill (3), trump (3), not distract (3), not be attacked (3), hold (3), recognize (3), add (3), talk (3), anyone (3), be common (3), not be restricted (3), not be a normal (3), not assume (3), be safe (3), have to fear (3), leave (3), happen (3), have the freedom (3), delete (3), be a safe (3), not be a debate (3), guns (3), be kept (3), citizens (3), be defined (3), have an ar (3), you (3), donate (3), not ever (3), want (3), not have to suffer (3), what (3), be seen (3), mourn (3), close (3), not go (3), not have so (3), pick (3), preach (3), save (3), not be ignored (3), be at (3), not diminish (3), not allow (3), not be targeted (3), not be a partisan (3), hang (3), claim (3), not be necessary (3), fucking (3), not be a thing (3), be celebrated (3), strive (3), reject (3), not be legal (3), care (3), have to worry (3), be shooting (3), not rush (3), cancel (3), have paid (3), not be a political (3), solve (3), not be at (3), have to sit (3), not talk (3), be horrified (3), be having (3), my (3), be repealed (3), don (3), be near (3), not be lost (3), not be another (3), not have to die (3), especially (3), publish (3), not do (3), break (3), be following (3), be an example (3), be i (3), be a top (3), maybe (3), switch (3), know (3), not matter (3), find (3), have put (3), need (3), now (3), discuss (3), applaud (3), face (3), have happened (3), be celebrating (3), not be a surprise (3), have the right (3), have learned (3), deal (3), be leading (3), automatically (3), run (3), be expected (3), have assault (3), absolutely (3), be allowed (3), simply (3), fix (3), not he (3), be pissed (3), not have laws (3), be on (3), be tweeting (3), stay (3), be treated (3), have to go (3), it (3), not be normalized (3), be doing (3), be proud (3), send (3), shoot (3), be grateful (3), not have the right (3), be your (3), be thinking (3), have to bury (3), lose (3)\\\\\n",
      "\\noindent\\emph{Republican}\\\\ban (11), realize (8), be armed (7), look (7), be taken (7), have guns (7), of (7), be prosecuted (7), be fired (7), have been (7), be in (6), not have been (6), change (6), be on (6), go (6), be treated (6), make (6), know (6), outlaw (6), consider (6), sue (6), be put (6), have armed (6), be punished (6), resign (6), be held (6), read (6), be deported (6), charge (6), be done (6), we (6), have said (6), be investigated (6), be dealt (6), investigate (6), not be gun (5), b (5), be allowed (5), put (5), be impeached (5), be renamed (5), at (5), get (5), see (5), not you (5), be labeled (5), be executed (5), think (5), have killed (5), be remembered (5), be sued (5), be tried (5), not b (5), not even (5), be classified (5), be why (5), take (5), be considered (5), be asking (5), be investigating (5), be checked (5), be immediately (5), have 2 (5), be suspended (5), be banned (5), not be on (5), allow (4), give (4), be brought (4), check (4), have known (4), protest (4), simply (4), be changed (4), be taught (4), be going (4), not say (4), be encouraged (4), face (4), blame (4), carry (4), be shut (4), be president (4), step (4), not jump (4), be trained (4), he (4), spend (4), show (4), be questioned (4), have them (4), not have gotten (4), fight (4), be calling (4), vote (4), find (4), serve (4), be praying (4), be talking (4), concentrate (4), acknowledge (4), not have happened (4), be do (4), be killed (4), immediately (4), ask (4), have given (4), be blamed (4), not there (4), call (4), report (4), demand (4), be charged (4), not be punished (4), teach (4), be holding (4), be good (4), be mad (4), be protesting (4), hire (4), be looked (4), be using (4), assume (4), review (4), president (4), first (4), us (4), be publicly (4), be ok (4), wear (4), join (4), care (4), be thanking (4), have let (4), be titled (4), do (4), come (4), prove (4), be the focus (4), be concerned (4)\\\\\n",
      "\\begin{center}\\textbf{NEED TO}\\end{center}\n",
      "\\noindent\\emph{Democrat}\\\\to die (10), to take (9), to change (8), to act (8), to happen (7), to start (7), to talk (7), to shoot (6), to hear (6), to stand (6), to be better (6), to occur (6), to vote (6), to make (6), to do (6), to know (5), to fix (5), to call (5), to be shot (5), to solve (5), to acknowledge (5), to listen (5), to reevaluate (5), to see (5), to bring (4), to re (4), to keep (4), to wait (4), to pass (4), to be fired (4), to be taken (4), to end (4), to stop (4), to own (4), to lose (4), to be banned (4), to be regulated (4), to address (4), to continue (4), to be proactive (4), to demand (4), to speak (4), to experience (4), to carry (4), to reduce (4), to seriously (4), to live (4), to hold (4), to face (4), to be lost (3), to reform (3), to ask (3), to go (3), to have before (3), to figure (3), to recognize (3), to be changed (3), to \\#endgunviolence (3), to put (3), to work (3), to be able (3), to help (3), to be talking (3), to limit (3), to say (3), to remember (3), to tackle (3), to be gunned (3), to heal (3), to pack (3), to honor (3), to join (3), to be massacred (3), to be reminded (3), to be voted (3), to be careful (3), to feel (3), to be outlawed (3), to report (3), to look (3), to have a real (3), to actually (3), to be heard (3), to be outraged (3), to pick (3), to explain (3), to catch (3), to create (3), to understand (3), to ban (3), to protest (3), to curb (3), to wake (3), to tell (3), to discuss (3), to enact (3), to be reported (3), to prevent (3)\\\\\n",
      "\\noindent\\emph{Republican}\\\\to look (9), to be armed (7), to be in (7), to know (7), to protect (6), to ban (6), to find (6), to return (6), to realize (6), to go (6), to check (6), to focus (5), to own (5), to investigate (5), to pray (5), to disarm (5), to be more (5), to bring (5), to be dealt (5), to come (5), to be held (5), to carry (4), to be killed (4), to be stricter (4), to get (4), to research (4), to walk (4), to kill (4), to shut (4), to catch (4), to have guns (4), to be checked (4), to be enforced (4), to lock (4), to examine (4), to turn (4), to pull (4), to arm (4), to attack (4), to google (4), to educate (4), to do (4), to let (4), to be vigilant (4), to be answered (4), to be looking (4), to be ready (4), to be prepared (4), to divert (4), to roll (4), to be at (4), to better (4), to harden (4), to keep (4), to be put (4), to prepare (4), to just (4), to enforce (4), to help (4), to punish (4), to blame (4)\\\\\n",
      "\\begin{center}\\textbf{NEEDS TO}\\end{center}\n",
      "\\noindent\\emph{Democrat}\\\\to stop (11), to end (9), to do (7), to be done (7), to be addressed (7), to happen (6), to change (5), to be stricter (5), to be fixed (4), to reevaluate (4), to be talked (4), to be discussed (4), to grow (4), to stfu (4), to know (3), to sort (3), to be treated (3), to own (3), to address (3), to be a thing (3), to act (3), to be gun (3), to watch (3), to continue (3), to be banned (3), to move (3), to up (3), to be in (3), to build (3), to be more (3), to protect (3), to be amended (3), to be wiped (3)\\\\\n",
      "\\noindent\\emph{Republican}\\\\to be put (8), to be fired (7), to turn (6), to come (6), to be shut (5), to investigate (5), to ask (5), to fire (5), to be looked (5), to be shot (5), to stop (4), to cut (4), to check (4), to take (4), to focus (4), to know (4), to quit (4), to be stopped (4), to stay (4), to use (4), to be investigated (4), to be held (4), to leave (4), to release (4), to be reviewed (4), to remind (4), to figure (4)\\\\\n",
      "\\begin{center}\\textbf{HAVE TO}\\end{center}\n",
      "\\noindent\\emph{Democrat}\\\\to die (12), to live (7), to worry (6), to happen (5), to change (5), to say (4), to get (4), to see (4), to endure (4), to occur (4), to show (4), to be this (4), to bury (4), to take (4), to face (4), to stop (4), to look (4), to fear (3), to hear (3), to suffer (3), to kill (3), to have before (3), to lose (3), to be shot (3), to sit (3), to be lost (3), to share (3), to pay (3), to address (3), to witness (3), to act (3), to sleep (3), to explain (3), to speak (3), to experience (3), to be like (3), to report (3), to own (3), to pray (3), to put (3), to consider (3), to fight (3), to add (3), to keep (3)\\\\\n",
      "\\noindent\\emph{Republican}\\\\to do (10), to wonder (7), to ban (6), to stop (6), to listen (6), to protect (6), to find (6), to agree (6), to take (6), to wait (6), to know (6), to defend (6), to start (6), to ask (5), to say (5), to go (5), to put (5), to give (5), to increase (5), to be to shoot (5), to prepare (5), to fight (4), to play (4), to deal (4), to pay (4), to point (4), to arm (4), to kill (4), to live (4), to be in (4), to work (4), to watch (4), to read (4), to make (4), to send (4), to like (4), to shoot (4), to be about (4), to wear (4), to be a special (4), to hear (4), to remember (4), to use (4), to be really (4), to follow (4)\\\\\n",
      "\\begin{center}\\textbf{HAS TO}\\end{center}\n",
      "\\noindent\\emph{Democrat}\\\\to stop (14), to change (7), to happen (6), to end (5), to be done (4), to die (4), to give (3), to be the last (3), to be called (3), to be changed (3), to be footage (3), to make (3), to bring (3), to read (3)\\\\\n",
      "\\noindent\\emph{Republican}\\\\to do (9), to say (8), to be one (5), to make (4), to take (4), to answer (4)\\\\\n"
     ]
    }
   ],
   "source": [
    "print_top(most_dem_aft, most_rep_aft)"
   ]
  },
  {
   "cell_type": "code",
   "execution_count": null,
   "metadata": {
    "collapsed": true
   },
   "outputs": [],
   "source": []
  }
 ],
 "metadata": {
  "kernelspec": {
   "display_name": "nlu",
   "language": "python",
   "name": "nlu"
  },
  "language_info": {
   "codemirror_mode": {
    "name": "ipython",
    "version": 3
   },
   "file_extension": ".py",
   "mimetype": "text/x-python",
   "name": "python",
   "nbconvert_exporter": "python",
   "pygments_lexer": "ipython3",
   "version": "3.6.4"
  }
 },
 "nbformat": 4,
 "nbformat_minor": 2
}
