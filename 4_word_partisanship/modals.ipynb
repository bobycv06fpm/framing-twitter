{
 "cells": [
  {
   "cell_type": "code",
   "execution_count": 1,
   "metadata": {
    "collapsed": true
   },
   "outputs": [],
   "source": [
    "%matplotlib inline\n",
    "import matplotlib.pyplot as plt\n",
    "import pandas as pd\n",
    "import numpy as np\n",
    "import json\n",
    "import seaborn as sns\n",
    "from scipy.stats import ttest_1samp\n",
    "import sys\n",
    "sys.path.append('..')\n",
    "from helpers.funcs import *"
   ]
  },
  {
   "cell_type": "code",
   "execution_count": 17,
   "metadata": {
    "collapsed": true
   },
   "outputs": [],
   "source": [
    "config = json.load(open('../config.json', 'r'))\n",
    "INPUT_DIR = config['INPUT_DIR']\n",
    "OUTPUT_DIR = config['OUTPUT_DIR']\n",
    "TWEET_DIR = config['TWEET_DIR']\n",
    "NUM_CLUSTERS = config['NUM_CLUSTERS']\n",
    "cluster_names = {v:k for k, v in config['CLUSTER_NAMES'].items()}"
   ]
  },
  {
   "cell_type": "code",
   "execution_count": 12,
   "metadata": {
    "collapsed": true
   },
   "outputs": [],
   "source": [
    "events = open(INPUT_DIR + 'event_names.txt', 'r').read().splitlines()\n",
    "shooter_race = json.load(open(INPUT_DIR + \"shooters_race.json\",\"r\"))"
   ]
  },
  {
   "cell_type": "code",
   "execution_count": 13,
   "metadata": {
    "collapsed": true
   },
   "outputs": [],
   "source": [
    "def split_party(part_tweets):\n",
    "    return part_tweets[part_tweets['dem_follows'] > part_tweets['rep_follows']], part_tweets[part_tweets['dem_follows'] < part_tweets['rep_follows']]"
   ]
  },
  {
   "cell_type": "code",
   "execution_count": 21,
   "metadata": {
    "collapsed": true
   },
   "outputs": [],
   "source": [
    "def get_odds(tweets,  search):\n",
    "    total = len(tweets)\n",
    "    contains = tweets['text'].str.contains(search, case=False).sum()\n",
    "    return (contains + 1) / ((total - contains) + 1)"
   ]
  },
  {
   "cell_type": "code",
   "execution_count": 5,
   "metadata": {},
   "outputs": [
    {
     "name": "stdout",
     "output_type": "stream",
     "text": [
      "chattanooga\n",
      "roseburg\n",
      "colorado_springs\n",
      "san_bernardino\n",
      "kalamazoo\n",
      "orlando\n",
      "dallas\n",
      "baton_rouge\n",
      "burlington\n",
      "fort_lauderdale\n",
      "fresno\n",
      "san_francisco\n",
      "vegas\n",
      "thornton\n",
      "sutherland_springs\n",
      "parkland\n",
      "nashville\n",
      "santa_fe\n",
      "annapolis\n",
      "pittsburgh\n",
      "thousand_oaks\n"
     ]
    }
   ],
   "source": [
    "modal_list = []\n",
    "log_odds_list = []\n",
    "race = []\n",
    "\n",
    "for event in events:\n",
    "    print(event)\n",
    "    data = pd.read_csv(TWEET_DIR +event+'/'+event+'.csv', sep='\\t', lineterminator='\\n', usecols=['text', 'rep_follows', 'dem_follows', 'remove', 'isRT'])\n",
    "    # data['text'].str.contains(r'http|\\.com|www', case=False)\n",
    "    data = filter_retweets(data)\n",
    "    # get partisan tweets\n",
    "    data = data[~data['dem_follows'].isnull() & ~data['rep_follows'].isnull() & (data['dem_follows'] != data['rep_follows'])]\n",
    "    dem, rep = split_party(data)\n",
    "    modal_list.append('MUST')\n",
    "    log_odds_list.append(np.log(get_odds(rep, r\"\\bmust[n'’]?\\w*\\b\") / get_odds(dem, r\"\\bmust[n'’]?\\w*\\b\")))\n",
    "    race.append(shooter_race[event])\n",
    "    modal_list.append('SHOULD')\n",
    "    log_odds_list.append(np.log(get_odds(rep, r\"\\bshould[n'’]?\\w*\\b\") / get_odds(dem, r\"\\bshould[n'’]?\\w*\\b\")))\n",
    "    race.append(shooter_race[event])\n",
    "    modal_list.append('NEED TO')\n",
    "    log_odds_list.append(np.log(get_odds(rep, r\"\\bneed to\\b|\\bneeds to\\b\") / get_odds(dem, r\"\\bneed to\\b|\\bneeds to\\b\")))\n",
    "    race.append(shooter_race[event])    \n",
    "    modal_list.append('HAVE TO')\n",
    "    log_odds_list.append(np.log(get_odds(rep, r\"\\bhas to\\b|\\bhave to\\b\") / get_odds(dem, r\"\\bhas to\\b|\\bhave to\\b\")))\n",
    "    race.append(shooter_race[event])\n",
    "    "
   ]
  },
  {
   "cell_type": "code",
   "execution_count": 6,
   "metadata": {
    "collapsed": true
   },
   "outputs": [],
   "source": [
    "df = pd.DataFrame.from_dict({'modal':modal_list, 'log_odds':log_odds_list, 'race':race})"
   ]
  },
  {
   "cell_type": "code",
   "execution_count": 7,
   "metadata": {},
   "outputs": [
    {
     "name": "stdout",
     "output_type": "stream",
     "text": [
      "HAVE TO\n",
      "Ttest_1sampResult(statistic=-6.608889419465189, pvalue=1.9483181505360368e-06)\n",
      "MUST\n",
      "Ttest_1sampResult(statistic=-4.203676418304983, pvalue=0.00043694623689948805)\n",
      "NEED TO\n",
      "Ttest_1sampResult(statistic=-3.033095955178946, pvalue=0.0065672893980417086)\n",
      "SHOULD\n",
      "Ttest_1sampResult(statistic=-3.0886248018459046, pvalue=0.005792319868196137)\n"
     ]
    }
   ],
   "source": [
    "for i, g in df.groupby('modal'):\n",
    "    print(i)\n",
    "    print(ttest_1samp(np.array(g['log_odds']), 0))"
   ]
  },
  {
   "cell_type": "code",
   "execution_count": 8,
   "metadata": {},
   "outputs": [
    {
     "data": {
      "text/html": [
       "<div>\n",
       "<style scoped>\n",
       "    .dataframe tbody tr th:only-of-type {\n",
       "        vertical-align: middle;\n",
       "    }\n",
       "\n",
       "    .dataframe tbody tr th {\n",
       "        vertical-align: top;\n",
       "    }\n",
       "\n",
       "    .dataframe thead th {\n",
       "        text-align: right;\n",
       "    }\n",
       "</style>\n",
       "<table border=\"1\" class=\"dataframe\">\n",
       "  <thead>\n",
       "    <tr style=\"text-align: right;\">\n",
       "      <th></th>\n",
       "      <th>log_odds</th>\n",
       "    </tr>\n",
       "    <tr>\n",
       "      <th>modal</th>\n",
       "      <th></th>\n",
       "    </tr>\n",
       "  </thead>\n",
       "  <tbody>\n",
       "    <tr>\n",
       "      <th>HAVE TO</th>\n",
       "      <td>-0.392316</td>\n",
       "    </tr>\n",
       "    <tr>\n",
       "      <th>MUST</th>\n",
       "      <td>-0.209859</td>\n",
       "    </tr>\n",
       "    <tr>\n",
       "      <th>SHOULD</th>\n",
       "      <td>-0.161042</td>\n",
       "    </tr>\n",
       "    <tr>\n",
       "      <th>NEED TO</th>\n",
       "      <td>-0.128364</td>\n",
       "    </tr>\n",
       "  </tbody>\n",
       "</table>\n",
       "</div>"
      ],
      "text/plain": [
       "         log_odds\n",
       "modal            \n",
       "HAVE TO -0.392316\n",
       "MUST    -0.209859\n",
       "SHOULD  -0.161042\n",
       "NEED TO -0.128364"
      ]
     },
     "execution_count": 8,
     "metadata": {},
     "output_type": "execute_result"
    }
   ],
   "source": [
    "df.groupby('modal').median().sort_values('log_odds')"
   ]
  },
  {
   "cell_type": "code",
   "execution_count": 9,
   "metadata": {},
   "outputs": [
    {
     "data": {
      "text/html": [
       "<div>\n",
       "<style scoped>\n",
       "    .dataframe tbody tr th:only-of-type {\n",
       "        vertical-align: middle;\n",
       "    }\n",
       "\n",
       "    .dataframe tbody tr th {\n",
       "        vertical-align: top;\n",
       "    }\n",
       "\n",
       "    .dataframe thead th {\n",
       "        text-align: right;\n",
       "    }\n",
       "</style>\n",
       "<table border=\"1\" class=\"dataframe\">\n",
       "  <thead>\n",
       "    <tr style=\"text-align: right;\">\n",
       "      <th></th>\n",
       "      <th>log_odds</th>\n",
       "    </tr>\n",
       "    <tr>\n",
       "      <th>modal</th>\n",
       "      <th></th>\n",
       "    </tr>\n",
       "  </thead>\n",
       "  <tbody>\n",
       "    <tr>\n",
       "      <th>HAVE TO</th>\n",
       "      <td>-0.385567</td>\n",
       "    </tr>\n",
       "    <tr>\n",
       "      <th>MUST</th>\n",
       "      <td>-0.276668</td>\n",
       "    </tr>\n",
       "    <tr>\n",
       "      <th>SHOULD</th>\n",
       "      <td>-0.184487</td>\n",
       "    </tr>\n",
       "    <tr>\n",
       "      <th>NEED TO</th>\n",
       "      <td>-0.177741</td>\n",
       "    </tr>\n",
       "  </tbody>\n",
       "</table>\n",
       "</div>"
      ],
      "text/plain": [
       "         log_odds\n",
       "modal            \n",
       "HAVE TO -0.385567\n",
       "MUST    -0.276668\n",
       "SHOULD  -0.184487\n",
       "NEED TO -0.177741"
      ]
     },
     "execution_count": 9,
     "metadata": {},
     "output_type": "execute_result"
    }
   ],
   "source": [
    "df.groupby('modal').mean().sort_values('log_odds')"
   ]
  },
  {
   "cell_type": "code",
   "execution_count": 10,
   "metadata": {},
   "outputs": [
    {
     "data": {
      "text/plain": [
       "[None, None]"
      ]
     },
     "execution_count": 10,
     "metadata": {},
     "output_type": "execute_result"
    },
    {
     "data": {
      "image/png": "[encoded data removed]",
      "text/plain": [
       "<Figure size 2000x1000 with 1 Axes>"
      ]
     },
     "metadata": {},
     "output_type": "display_data"
    }
   ],
   "source": [
    "f = plt.figure(dpi=400, figsize=(5,2.5))\n",
    "ax = sns.violinplot(data=df, x=\"log_odds\",y=\"modal\", hue='race', fliersize=1, linewidth=1, split=True, order=reversed(df.groupby('modal').median().sort_values('log_odds').index), orient=\"h\", palette=sns.color_palette(\"YlGnBu\", 2))\n",
    "ax.set_ylabel('')\n",
    "ax.spines['top'].set_linewidth(0.4)\n",
    "ax.spines['right'].set_linewidth(0.4)\n",
    "ax.spines['bottom'].set_linewidth(0.4)\n",
    "ax.spines['left'].set_linewidth(0.4)\n",
    "plt.axvline(x=0, color='grey')\n",
    "ax.set_xlabel('Log odds ratio\\n(Democrat < 0 < Republican)')\n",
    "legend = ax.legend(loc='upper left', title=\"Shooter's race\", fontsize=7)\n",
    "plt.setp(legend.get_title(),fontsize='x-small')"
   ]
  },
  {
   "cell_type": "markdown",
   "metadata": {
    "collapsed": true
   },
   "source": [
    "# distribution of modals across topics"
   ]
  },
  {
   "cell_type": "code",
   "execution_count": 16,
   "metadata": {
    "scrolled": true
   },
   "outputs": [
    {
     "name": "stdout",
     "output_type": "stream",
     "text": [
      "chattanooga\n",
      "MUST\n",
      "SHOULD\n",
      "NEED TO\n",
      "HAS TO\n",
      "roseburg\n",
      "MUST\n",
      "SHOULD\n",
      "NEED TO\n",
      "HAS TO\n",
      "colorado_springs\n",
      "MUST\n",
      "SHOULD\n",
      "NEED TO\n",
      "HAS TO\n",
      "san_bernardino\n",
      "MUST\n",
      "SHOULD\n",
      "NEED TO\n",
      "HAS TO\n",
      "kalamazoo\n",
      "MUST\n",
      "SHOULD\n",
      "NEED TO\n",
      "HAS TO\n",
      "orlando\n",
      "MUST\n",
      "SHOULD\n",
      "NEED TO\n",
      "HAS TO\n",
      "dallas\n",
      "MUST\n",
      "SHOULD\n",
      "NEED TO\n",
      "HAS TO\n",
      "baton_rouge\n",
      "MUST\n",
      "SHOULD\n",
      "NEED TO\n",
      "HAS TO\n",
      "burlington\n",
      "MUST\n",
      "SHOULD\n",
      "NEED TO\n",
      "HAS TO\n",
      "fort_lauderdale\n",
      "MUST\n",
      "SHOULD\n",
      "NEED TO\n",
      "HAS TO\n",
      "fresno\n",
      "MUST\n",
      "SHOULD\n",
      "NEED TO\n",
      "HAS TO\n",
      "san_francisco\n",
      "MUST\n",
      "SHOULD\n",
      "NEED TO\n",
      "HAS TO\n",
      "vegas\n",
      "MUST\n",
      "SHOULD\n",
      "NEED TO\n",
      "HAS TO\n",
      "thornton\n",
      "MUST\n",
      "SHOULD\n",
      "NEED TO\n",
      "HAS TO\n",
      "sutherland_springs\n",
      "MUST\n",
      "SHOULD\n",
      "NEED TO\n",
      "HAS TO\n",
      "parkland\n",
      "MUST\n",
      "SHOULD\n",
      "NEED TO\n",
      "HAS TO\n",
      "nashville\n",
      "MUST\n",
      "SHOULD\n",
      "NEED TO\n",
      "HAS TO\n",
      "santa_fe\n",
      "MUST\n",
      "SHOULD\n",
      "NEED TO\n",
      "HAS TO\n",
      "annapolis\n",
      "MUST\n",
      "SHOULD\n",
      "NEED TO\n",
      "HAS TO\n",
      "pittsburgh\n",
      "MUST\n",
      "SHOULD\n",
      "NEED TO\n",
      "HAS TO\n",
      "thousand_oaks\n",
      "MUST\n",
      "SHOULD\n",
      "NEED TO\n",
      "HAS TO\n"
     ]
    }
   ],
   "source": [
    "modal_list = []\n",
    "topic_list = []\n",
    "value_list = []\n",
    "event_list = []\n",
    "\n",
    "def print_distr(event, name, s, total_props):\n",
    "    print(name)\n",
    "    b = np.bincount(s['topic'])\n",
    "    vals = (b / np.sum(b)) / total_props\n",
    "    #print(((b / np.sum(b)) / total_props))\n",
    "    for i in range(NUM_CLUSTERS):\n",
    "        topic_list.append(cluster_names[i])\n",
    "        value_list.append(vals[i])\n",
    "        modal_list.append(name)\n",
    "        event_list.append(event)\n",
    "        \n",
    "\n",
    "for event in events:\n",
    "    print(event)\n",
    "    data = pd.read_csv(TWEET_DIR + event + '/' + event + '.csv', sep='\\t', lineterminator='\\n',\n",
    "                       usecols=['user_id', 'text'])\n",
    "    data = get_cluster_assignments(event, data, 'relative')\n",
    "    total_props = np.bincount(data['topic']) / np.sum(np.bincount(data['topic']))\n",
    "\n",
    "    s = data[data['text'].str.contains(r\"\\bmust[n'’]?\\w*\\b\", case=False)]\n",
    "    try:\n",
    "        print_distr(event, 'MUST', s, total_props)\n",
    "    except:\n",
    "        pass\n",
    "    \n",
    "    s = data[data['text'].str.contains(r\"\\bshould[n'’]?\\w*\\b\", case=False)]\n",
    "    try:\n",
    "        print_distr(event, 'SHOULD', s, total_props)\n",
    "    except:\n",
    "        pass\n",
    "    \n",
    "    s = data[data['text'].str.contains(r\"\\bneed to\\b|\\bneeds to\\b\", case=False)]\n",
    "    try:\n",
    "        print_distr(event, 'NEED TO', s, total_props)\n",
    "    except:\n",
    "        pass\n",
    "    s = data[data['text'].str.contains(r\"\\bhas to\\b|\\bhave to\\b\", case=False)]\n",
    "    try:\n",
    "        print_distr(event, 'HAS TO', s, total_props)\n",
    "    except:\n",
    "        pass\n",
    "    \n",
    "    #s = data[data['text'].str.contains(r\"\\bcan[n'’]?\\w*\\b\", case=False)]\n",
    "    #try:\n",
    "    #    print_distr(event, 'CAN', s, total_props)\n",
    "    #except:\n",
    "    #    pass"
   ]
  },
  {
   "cell_type": "code",
   "execution_count": 18,
   "metadata": {
    "collapsed": true
   },
   "outputs": [],
   "source": [
    "df = pd.DataFrame.from_dict({'modal':modal_list, 'proportion':value_list, 'topic':topic_list, 'event':event_list})"
   ]
  },
  {
   "cell_type": "code",
   "execution_count": 19,
   "metadata": {
    "collapsed": true
   },
   "outputs": [],
   "source": [
    "df.to_csv(OUTPUT_DIR + 'modal_distributions.csv')"
   ]
  },
  {
   "cell_type": "code",
   "execution_count": 20,
   "metadata": {},
   "outputs": [
    {
     "data": {
      "text/html": [
       "<div>\n",
       "<style scoped>\n",
       "    .dataframe tbody tr th:only-of-type {\n",
       "        vertical-align: middle;\n",
       "    }\n",
       "\n",
       "    .dataframe tbody tr th {\n",
       "        vertical-align: top;\n",
       "    }\n",
       "\n",
       "    .dataframe thead th {\n",
       "        text-align: right;\n",
       "    }\n",
       "</style>\n",
       "<table border=\"1\" class=\"dataframe\">\n",
       "  <thead>\n",
       "    <tr style=\"text-align: right;\">\n",
       "      <th></th>\n",
       "      <th>modal</th>\n",
       "      <th>proportion</th>\n",
       "      <th>topic</th>\n",
       "      <th>event</th>\n",
       "    </tr>\n",
       "  </thead>\n",
       "  <tbody>\n",
       "    <tr>\n",
       "      <th>0</th>\n",
       "      <td>MUST</td>\n",
       "      <td>1.279851</td>\n",
       "      <td>shooter's identity\\n&amp; ideology</td>\n",
       "      <td>chattanooga</td>\n",
       "    </tr>\n",
       "    <tr>\n",
       "      <th>1</th>\n",
       "      <td>MUST</td>\n",
       "      <td>0.538147</td>\n",
       "      <td>news</td>\n",
       "      <td>chattanooga</td>\n",
       "    </tr>\n",
       "    <tr>\n",
       "      <th>2</th>\n",
       "      <td>MUST</td>\n",
       "      <td>0.000000</td>\n",
       "      <td>victims &amp; location</td>\n",
       "      <td>chattanooga</td>\n",
       "    </tr>\n",
       "    <tr>\n",
       "      <th>3</th>\n",
       "      <td>MUST</td>\n",
       "      <td>2.323887</td>\n",
       "      <td>laws &amp; policy</td>\n",
       "      <td>chattanooga</td>\n",
       "    </tr>\n",
       "    <tr>\n",
       "      <th>4</th>\n",
       "      <td>MUST</td>\n",
       "      <td>0.968246</td>\n",
       "      <td>investigation</td>\n",
       "      <td>chattanooga</td>\n",
       "    </tr>\n",
       "    <tr>\n",
       "      <th>5</th>\n",
       "      <td>MUST</td>\n",
       "      <td>0.756667</td>\n",
       "      <td>solidarity</td>\n",
       "      <td>chattanooga</td>\n",
       "    </tr>\n",
       "    <tr>\n",
       "      <th>6</th>\n",
       "      <td>MUST</td>\n",
       "      <td>0.559113</td>\n",
       "      <td>remembrance</td>\n",
       "      <td>chattanooga</td>\n",
       "    </tr>\n",
       "    <tr>\n",
       "      <th>7</th>\n",
       "      <td>MUST</td>\n",
       "      <td>0.664835</td>\n",
       "      <td>other</td>\n",
       "      <td>chattanooga</td>\n",
       "    </tr>\n",
       "    <tr>\n",
       "      <th>8</th>\n",
       "      <td>SHOULD</td>\n",
       "      <td>0.705059</td>\n",
       "      <td>shooter's identity\\n&amp; ideology</td>\n",
       "      <td>chattanooga</td>\n",
       "    </tr>\n",
       "    <tr>\n",
       "      <th>9</th>\n",
       "      <td>SHOULD</td>\n",
       "      <td>0.142320</td>\n",
       "      <td>news</td>\n",
       "      <td>chattanooga</td>\n",
       "    </tr>\n",
       "    <tr>\n",
       "      <th>10</th>\n",
       "      <td>SHOULD</td>\n",
       "      <td>0.294805</td>\n",
       "      <td>victims &amp; location</td>\n",
       "      <td>chattanooga</td>\n",
       "    </tr>\n",
       "    <tr>\n",
       "      <th>11</th>\n",
       "      <td>SHOULD</td>\n",
       "      <td>3.401195</td>\n",
       "      <td>laws &amp; policy</td>\n",
       "      <td>chattanooga</td>\n",
       "    </tr>\n",
       "    <tr>\n",
       "      <th>12</th>\n",
       "      <td>SHOULD</td>\n",
       "      <td>0.402388</td>\n",
       "      <td>investigation</td>\n",
       "      <td>chattanooga</td>\n",
       "    </tr>\n",
       "    <tr>\n",
       "      <th>13</th>\n",
       "      <td>SHOULD</td>\n",
       "      <td>0.415086</td>\n",
       "      <td>solidarity</td>\n",
       "      <td>chattanooga</td>\n",
       "    </tr>\n",
       "    <tr>\n",
       "      <th>14</th>\n",
       "      <td>SHOULD</td>\n",
       "      <td>0.999143</td>\n",
       "      <td>remembrance</td>\n",
       "      <td>chattanooga</td>\n",
       "    </tr>\n",
       "    <tr>\n",
       "      <th>15</th>\n",
       "      <td>SHOULD</td>\n",
       "      <td>1.202697</td>\n",
       "      <td>other</td>\n",
       "      <td>chattanooga</td>\n",
       "    </tr>\n",
       "    <tr>\n",
       "      <th>16</th>\n",
       "      <td>NEED TO</td>\n",
       "      <td>0.739478</td>\n",
       "      <td>shooter's identity\\n&amp; ideology</td>\n",
       "      <td>chattanooga</td>\n",
       "    </tr>\n",
       "    <tr>\n",
       "      <th>17</th>\n",
       "      <td>NEED TO</td>\n",
       "      <td>0.194474</td>\n",
       "      <td>news</td>\n",
       "      <td>chattanooga</td>\n",
       "    </tr>\n",
       "    <tr>\n",
       "      <th>18</th>\n",
       "      <td>NEED TO</td>\n",
       "      <td>0.000000</td>\n",
       "      <td>victims &amp; location</td>\n",
       "      <td>chattanooga</td>\n",
       "    </tr>\n",
       "    <tr>\n",
       "      <th>19</th>\n",
       "      <td>NEED TO</td>\n",
       "      <td>3.715207</td>\n",
       "      <td>laws &amp; policy</td>\n",
       "      <td>chattanooga</td>\n",
       "    </tr>\n",
       "    <tr>\n",
       "      <th>20</th>\n",
       "      <td>NEED TO</td>\n",
       "      <td>0.360837</td>\n",
       "      <td>investigation</td>\n",
       "      <td>chattanooga</td>\n",
       "    </tr>\n",
       "    <tr>\n",
       "      <th>21</th>\n",
       "      <td>NEED TO</td>\n",
       "      <td>0.481259</td>\n",
       "      <td>solidarity</td>\n",
       "      <td>chattanooga</td>\n",
       "    </tr>\n",
       "    <tr>\n",
       "      <th>22</th>\n",
       "      <td>NEED TO</td>\n",
       "      <td>0.500076</td>\n",
       "      <td>remembrance</td>\n",
       "      <td>chattanooga</td>\n",
       "    </tr>\n",
       "    <tr>\n",
       "      <th>23</th>\n",
       "      <td>NEED TO</td>\n",
       "      <td>1.165952</td>\n",
       "      <td>other</td>\n",
       "      <td>chattanooga</td>\n",
       "    </tr>\n",
       "    <tr>\n",
       "      <th>24</th>\n",
       "      <td>HAS TO</td>\n",
       "      <td>0.840395</td>\n",
       "      <td>shooter's identity\\n&amp; ideology</td>\n",
       "      <td>chattanooga</td>\n",
       "    </tr>\n",
       "    <tr>\n",
       "      <th>25</th>\n",
       "      <td>HAS TO</td>\n",
       "      <td>0.065778</td>\n",
       "      <td>news</td>\n",
       "      <td>chattanooga</td>\n",
       "    </tr>\n",
       "    <tr>\n",
       "      <th>26</th>\n",
       "      <td>HAS TO</td>\n",
       "      <td>0.953782</td>\n",
       "      <td>victims &amp; location</td>\n",
       "      <td>chattanooga</td>\n",
       "    </tr>\n",
       "    <tr>\n",
       "      <th>27</th>\n",
       "      <td>HAS TO</td>\n",
       "      <td>2.513228</td>\n",
       "      <td>laws &amp; policy</td>\n",
       "      <td>chattanooga</td>\n",
       "    </tr>\n",
       "    <tr>\n",
       "      <th>28</th>\n",
       "      <td>HAS TO</td>\n",
       "      <td>0.162730</td>\n",
       "      <td>investigation</td>\n",
       "      <td>chattanooga</td>\n",
       "    </tr>\n",
       "    <tr>\n",
       "      <th>29</th>\n",
       "      <td>HAS TO</td>\n",
       "      <td>0.935978</td>\n",
       "      <td>solidarity</td>\n",
       "      <td>chattanooga</td>\n",
       "    </tr>\n",
       "    <tr>\n",
       "      <th>...</th>\n",
       "      <td>...</td>\n",
       "      <td>...</td>\n",
       "      <td>...</td>\n",
       "      <td>...</td>\n",
       "    </tr>\n",
       "    <tr>\n",
       "      <th>642</th>\n",
       "      <td>MUST</td>\n",
       "      <td>0.537338</td>\n",
       "      <td>victims &amp; location</td>\n",
       "      <td>thousand_oaks</td>\n",
       "    </tr>\n",
       "    <tr>\n",
       "      <th>643</th>\n",
       "      <td>MUST</td>\n",
       "      <td>3.074417</td>\n",
       "      <td>laws &amp; policy</td>\n",
       "      <td>thousand_oaks</td>\n",
       "    </tr>\n",
       "    <tr>\n",
       "      <th>644</th>\n",
       "      <td>MUST</td>\n",
       "      <td>0.000000</td>\n",
       "      <td>investigation</td>\n",
       "      <td>thousand_oaks</td>\n",
       "    </tr>\n",
       "    <tr>\n",
       "      <th>645</th>\n",
       "      <td>MUST</td>\n",
       "      <td>1.868826</td>\n",
       "      <td>solidarity</td>\n",
       "      <td>thousand_oaks</td>\n",
       "    </tr>\n",
       "    <tr>\n",
       "      <th>646</th>\n",
       "      <td>MUST</td>\n",
       "      <td>0.487062</td>\n",
       "      <td>remembrance</td>\n",
       "      <td>thousand_oaks</td>\n",
       "    </tr>\n",
       "    <tr>\n",
       "      <th>647</th>\n",
       "      <td>MUST</td>\n",
       "      <td>0.658940</td>\n",
       "      <td>other</td>\n",
       "      <td>thousand_oaks</td>\n",
       "    </tr>\n",
       "    <tr>\n",
       "      <th>648</th>\n",
       "      <td>SHOULD</td>\n",
       "      <td>0.396694</td>\n",
       "      <td>shooter's identity\\n&amp; ideology</td>\n",
       "      <td>thousand_oaks</td>\n",
       "    </tr>\n",
       "    <tr>\n",
       "      <th>649</th>\n",
       "      <td>SHOULD</td>\n",
       "      <td>0.164797</td>\n",
       "      <td>news</td>\n",
       "      <td>thousand_oaks</td>\n",
       "    </tr>\n",
       "    <tr>\n",
       "      <th>650</th>\n",
       "      <td>SHOULD</td>\n",
       "      <td>0.243546</td>\n",
       "      <td>victims &amp; location</td>\n",
       "      <td>thousand_oaks</td>\n",
       "    </tr>\n",
       "    <tr>\n",
       "      <th>651</th>\n",
       "      <td>SHOULD</td>\n",
       "      <td>3.894071</td>\n",
       "      <td>laws &amp; policy</td>\n",
       "      <td>thousand_oaks</td>\n",
       "    </tr>\n",
       "    <tr>\n",
       "      <th>652</th>\n",
       "      <td>SHOULD</td>\n",
       "      <td>1.936171</td>\n",
       "      <td>investigation</td>\n",
       "      <td>thousand_oaks</td>\n",
       "    </tr>\n",
       "    <tr>\n",
       "      <th>653</th>\n",
       "      <td>SHOULD</td>\n",
       "      <td>1.066640</td>\n",
       "      <td>solidarity</td>\n",
       "      <td>thousand_oaks</td>\n",
       "    </tr>\n",
       "    <tr>\n",
       "      <th>654</th>\n",
       "      <td>SHOULD</td>\n",
       "      <td>0.392460</td>\n",
       "      <td>remembrance</td>\n",
       "      <td>thousand_oaks</td>\n",
       "    </tr>\n",
       "    <tr>\n",
       "      <th>655</th>\n",
       "      <td>SHOULD</td>\n",
       "      <td>2.098292</td>\n",
       "      <td>other</td>\n",
       "      <td>thousand_oaks</td>\n",
       "    </tr>\n",
       "    <tr>\n",
       "      <th>656</th>\n",
       "      <td>NEED TO</td>\n",
       "      <td>0.159914</td>\n",
       "      <td>shooter's identity\\n&amp; ideology</td>\n",
       "      <td>thousand_oaks</td>\n",
       "    </tr>\n",
       "    <tr>\n",
       "      <th>657</th>\n",
       "      <td>NEED TO</td>\n",
       "      <td>0.066432</td>\n",
       "      <td>news</td>\n",
       "      <td>thousand_oaks</td>\n",
       "    </tr>\n",
       "    <tr>\n",
       "      <th>658</th>\n",
       "      <td>NEED TO</td>\n",
       "      <td>0.071997</td>\n",
       "      <td>victims &amp; location</td>\n",
       "      <td>thousand_oaks</td>\n",
       "    </tr>\n",
       "    <tr>\n",
       "      <th>659</th>\n",
       "      <td>NEED TO</td>\n",
       "      <td>3.431925</td>\n",
       "      <td>laws &amp; policy</td>\n",
       "      <td>thousand_oaks</td>\n",
       "    </tr>\n",
       "    <tr>\n",
       "      <th>660</th>\n",
       "      <td>NEED TO</td>\n",
       "      <td>0.156100</td>\n",
       "      <td>investigation</td>\n",
       "      <td>thousand_oaks</td>\n",
       "    </tr>\n",
       "    <tr>\n",
       "      <th>661</th>\n",
       "      <td>NEED TO</td>\n",
       "      <td>2.898563</td>\n",
       "      <td>solidarity</td>\n",
       "      <td>thousand_oaks</td>\n",
       "    </tr>\n",
       "    <tr>\n",
       "      <th>662</th>\n",
       "      <td>NEED TO</td>\n",
       "      <td>0.059327</td>\n",
       "      <td>remembrance</td>\n",
       "      <td>thousand_oaks</td>\n",
       "    </tr>\n",
       "    <tr>\n",
       "      <th>663</th>\n",
       "      <td>NEED TO</td>\n",
       "      <td>1.759622</td>\n",
       "      <td>other</td>\n",
       "      <td>thousand_oaks</td>\n",
       "    </tr>\n",
       "    <tr>\n",
       "      <th>664</th>\n",
       "      <td>HAS TO</td>\n",
       "      <td>0.397001</td>\n",
       "      <td>shooter's identity\\n&amp; ideology</td>\n",
       "      <td>thousand_oaks</td>\n",
       "    </tr>\n",
       "    <tr>\n",
       "      <th>665</th>\n",
       "      <td>HAS TO</td>\n",
       "      <td>0.329849</td>\n",
       "      <td>news</td>\n",
       "      <td>thousand_oaks</td>\n",
       "    </tr>\n",
       "    <tr>\n",
       "      <th>666</th>\n",
       "      <td>HAS TO</td>\n",
       "      <td>0.190925</td>\n",
       "      <td>victims &amp; location</td>\n",
       "      <td>thousand_oaks</td>\n",
       "    </tr>\n",
       "    <tr>\n",
       "      <th>667</th>\n",
       "      <td>HAS TO</td>\n",
       "      <td>2.636262</td>\n",
       "      <td>laws &amp; policy</td>\n",
       "      <td>thousand_oaks</td>\n",
       "    </tr>\n",
       "    <tr>\n",
       "      <th>668</th>\n",
       "      <td>HAS TO</td>\n",
       "      <td>0.193767</td>\n",
       "      <td>investigation</td>\n",
       "      <td>thousand_oaks</td>\n",
       "    </tr>\n",
       "    <tr>\n",
       "      <th>669</th>\n",
       "      <td>HAS TO</td>\n",
       "      <td>2.298189</td>\n",
       "      <td>solidarity</td>\n",
       "      <td>thousand_oaks</td>\n",
       "    </tr>\n",
       "    <tr>\n",
       "      <th>670</th>\n",
       "      <td>HAS TO</td>\n",
       "      <td>0.073643</td>\n",
       "      <td>remembrance</td>\n",
       "      <td>thousand_oaks</td>\n",
       "    </tr>\n",
       "    <tr>\n",
       "      <th>671</th>\n",
       "      <td>HAS TO</td>\n",
       "      <td>2.667045</td>\n",
       "      <td>other</td>\n",
       "      <td>thousand_oaks</td>\n",
       "    </tr>\n",
       "  </tbody>\n",
       "</table>\n",
       "<p>672 rows × 4 columns</p>\n",
       "</div>"
      ],
      "text/plain": [
       "       modal  proportion                           topic          event\n",
       "0       MUST    1.279851  shooter's identity\\n& ideology    chattanooga\n",
       "1       MUST    0.538147                            news    chattanooga\n",
       "2       MUST    0.000000              victims & location    chattanooga\n",
       "3       MUST    2.323887                   laws & policy    chattanooga\n",
       "4       MUST    0.968246                   investigation    chattanooga\n",
       "5       MUST    0.756667                      solidarity    chattanooga\n",
       "6       MUST    0.559113                     remembrance    chattanooga\n",
       "7       MUST    0.664835                           other    chattanooga\n",
       "8     SHOULD    0.705059  shooter's identity\\n& ideology    chattanooga\n",
       "9     SHOULD    0.142320                            news    chattanooga\n",
       "10    SHOULD    0.294805              victims & location    chattanooga\n",
       "11    SHOULD    3.401195                   laws & policy    chattanooga\n",
       "12    SHOULD    0.402388                   investigation    chattanooga\n",
       "13    SHOULD    0.415086                      solidarity    chattanooga\n",
       "14    SHOULD    0.999143                     remembrance    chattanooga\n",
       "15    SHOULD    1.202697                           other    chattanooga\n",
       "16   NEED TO    0.739478  shooter's identity\\n& ideology    chattanooga\n",
       "17   NEED TO    0.194474                            news    chattanooga\n",
       "18   NEED TO    0.000000              victims & location    chattanooga\n",
       "19   NEED TO    3.715207                   laws & policy    chattanooga\n",
       "20   NEED TO    0.360837                   investigation    chattanooga\n",
       "21   NEED TO    0.481259                      solidarity    chattanooga\n",
       "22   NEED TO    0.500076                     remembrance    chattanooga\n",
       "23   NEED TO    1.165952                           other    chattanooga\n",
       "24    HAS TO    0.840395  shooter's identity\\n& ideology    chattanooga\n",
       "25    HAS TO    0.065778                            news    chattanooga\n",
       "26    HAS TO    0.953782              victims & location    chattanooga\n",
       "27    HAS TO    2.513228                   laws & policy    chattanooga\n",
       "28    HAS TO    0.162730                   investigation    chattanooga\n",
       "29    HAS TO    0.935978                      solidarity    chattanooga\n",
       "..       ...         ...                             ...            ...\n",
       "642     MUST    0.537338              victims & location  thousand_oaks\n",
       "643     MUST    3.074417                   laws & policy  thousand_oaks\n",
       "644     MUST    0.000000                   investigation  thousand_oaks\n",
       "645     MUST    1.868826                      solidarity  thousand_oaks\n",
       "646     MUST    0.487062                     remembrance  thousand_oaks\n",
       "647     MUST    0.658940                           other  thousand_oaks\n",
       "648   SHOULD    0.396694  shooter's identity\\n& ideology  thousand_oaks\n",
       "649   SHOULD    0.164797                            news  thousand_oaks\n",
       "650   SHOULD    0.243546              victims & location  thousand_oaks\n",
       "651   SHOULD    3.894071                   laws & policy  thousand_oaks\n",
       "652   SHOULD    1.936171                   investigation  thousand_oaks\n",
       "653   SHOULD    1.066640                      solidarity  thousand_oaks\n",
       "654   SHOULD    0.392460                     remembrance  thousand_oaks\n",
       "655   SHOULD    2.098292                           other  thousand_oaks\n",
       "656  NEED TO    0.159914  shooter's identity\\n& ideology  thousand_oaks\n",
       "657  NEED TO    0.066432                            news  thousand_oaks\n",
       "658  NEED TO    0.071997              victims & location  thousand_oaks\n",
       "659  NEED TO    3.431925                   laws & policy  thousand_oaks\n",
       "660  NEED TO    0.156100                   investigation  thousand_oaks\n",
       "661  NEED TO    2.898563                      solidarity  thousand_oaks\n",
       "662  NEED TO    0.059327                     remembrance  thousand_oaks\n",
       "663  NEED TO    1.759622                           other  thousand_oaks\n",
       "664   HAS TO    0.397001  shooter's identity\\n& ideology  thousand_oaks\n",
       "665   HAS TO    0.329849                            news  thousand_oaks\n",
       "666   HAS TO    0.190925              victims & location  thousand_oaks\n",
       "667   HAS TO    2.636262                   laws & policy  thousand_oaks\n",
       "668   HAS TO    0.193767                   investigation  thousand_oaks\n",
       "669   HAS TO    2.298189                      solidarity  thousand_oaks\n",
       "670   HAS TO    0.073643                     remembrance  thousand_oaks\n",
       "671   HAS TO    2.667045                           other  thousand_oaks\n",
       "\n",
       "[672 rows x 4 columns]"
      ]
     },
     "execution_count": 20,
     "metadata": {},
     "output_type": "execute_result"
    }
   ],
   "source": [
    "df"
   ]
  },
  {
   "cell_type": "markdown",
   "metadata": {},
   "source": [
    "# modality & tense"
   ]
  },
  {
   "cell_type": "code",
   "execution_count": 37,
   "metadata": {
    "scrolled": true
   },
   "outputs": [
    {
     "name": "stdout",
     "output_type": "stream",
     "text": [
      "chattanooga\n"
     ]
    },
    {
     "name": "stderr",
     "output_type": "stream",
     "text": [
      "/anaconda2/envs/nlu/lib/python3.6/site-packages/ipykernel_launcher.py:3: UserWarning: This pattern has match groups. To actually get the groups, use str.extract.\n",
      "  This is separate from the ipykernel package so we can avoid doing imports until\n",
      "/anaconda2/envs/nlu/lib/python3.6/site-packages/ipykernel_launcher.py:3: UserWarning: This pattern has match groups. To actually get the groups, use str.extract.\n",
      "  This is separate from the ipykernel package so we can avoid doing imports until\n",
      "/anaconda2/envs/nlu/lib/python3.6/site-packages/ipykernel_launcher.py:19: UserWarning: This pattern has match groups. To actually get the groups, use str.extract.\n"
     ]
    },
    {
     "name": "stdout",
     "output_type": "stream",
     "text": [
      "roseburg\n"
     ]
    },
    {
     "name": "stderr",
     "output_type": "stream",
     "text": [
      "/anaconda2/envs/nlu/lib/python3.6/site-packages/ipykernel_launcher.py:3: UserWarning: This pattern has match groups. To actually get the groups, use str.extract.\n",
      "  This is separate from the ipykernel package so we can avoid doing imports until\n",
      "/anaconda2/envs/nlu/lib/python3.6/site-packages/ipykernel_launcher.py:3: UserWarning: This pattern has match groups. To actually get the groups, use str.extract.\n",
      "  This is separate from the ipykernel package so we can avoid doing imports until\n",
      "/anaconda2/envs/nlu/lib/python3.6/site-packages/ipykernel_launcher.py:19: UserWarning: This pattern has match groups. To actually get the groups, use str.extract.\n"
     ]
    },
    {
     "name": "stdout",
     "output_type": "stream",
     "text": [
      "colorado_springs\n"
     ]
    },
    {
     "name": "stderr",
     "output_type": "stream",
     "text": [
      "/anaconda2/envs/nlu/lib/python3.6/site-packages/ipykernel_launcher.py:3: UserWarning: This pattern has match groups. To actually get the groups, use str.extract.\n",
      "  This is separate from the ipykernel package so we can avoid doing imports until\n",
      "/anaconda2/envs/nlu/lib/python3.6/site-packages/ipykernel_launcher.py:3: UserWarning: This pattern has match groups. To actually get the groups, use str.extract.\n",
      "  This is separate from the ipykernel package so we can avoid doing imports until\n",
      "/anaconda2/envs/nlu/lib/python3.6/site-packages/ipykernel_launcher.py:19: UserWarning: This pattern has match groups. To actually get the groups, use str.extract.\n"
     ]
    },
    {
     "name": "stdout",
     "output_type": "stream",
     "text": [
      "san_bernardino\n"
     ]
    },
    {
     "name": "stderr",
     "output_type": "stream",
     "text": [
      "/anaconda2/envs/nlu/lib/python3.6/site-packages/ipykernel_launcher.py:3: UserWarning: This pattern has match groups. To actually get the groups, use str.extract.\n",
      "  This is separate from the ipykernel package so we can avoid doing imports until\n",
      "/anaconda2/envs/nlu/lib/python3.6/site-packages/ipykernel_launcher.py:3: UserWarning: This pattern has match groups. To actually get the groups, use str.extract.\n",
      "  This is separate from the ipykernel package so we can avoid doing imports until\n",
      "/anaconda2/envs/nlu/lib/python3.6/site-packages/ipykernel_launcher.py:19: UserWarning: This pattern has match groups. To actually get the groups, use str.extract.\n"
     ]
    },
    {
     "name": "stdout",
     "output_type": "stream",
     "text": [
      "kalamazoo\n",
      "orlando\n"
     ]
    },
    {
     "name": "stderr",
     "output_type": "stream",
     "text": [
      "/anaconda2/envs/nlu/lib/python3.6/site-packages/ipykernel_launcher.py:3: UserWarning: This pattern has match groups. To actually get the groups, use str.extract.\n",
      "  This is separate from the ipykernel package so we can avoid doing imports until\n",
      "/anaconda2/envs/nlu/lib/python3.6/site-packages/ipykernel_launcher.py:3: UserWarning: This pattern has match groups. To actually get the groups, use str.extract.\n",
      "  This is separate from the ipykernel package so we can avoid doing imports until\n",
      "/anaconda2/envs/nlu/lib/python3.6/site-packages/ipykernel_launcher.py:19: UserWarning: This pattern has match groups. To actually get the groups, use str.extract.\n",
      "/anaconda2/envs/nlu/lib/python3.6/site-packages/ipykernel_launcher.py:3: UserWarning: This pattern has match groups. To actually get the groups, use str.extract.\n",
      "  This is separate from the ipykernel package so we can avoid doing imports until\n",
      "/anaconda2/envs/nlu/lib/python3.6/site-packages/ipykernel_launcher.py:3: UserWarning: This pattern has match groups. To actually get the groups, use str.extract.\n",
      "  This is separate from the ipykernel package so we can avoid doing imports until\n",
      "/anaconda2/envs/nlu/lib/python3.6/site-packages/ipykernel_launcher.py:19: UserWarning: This pattern has match groups. To actually get the groups, use str.extract.\n"
     ]
    },
    {
     "name": "stdout",
     "output_type": "stream",
     "text": [
      "dallas\n"
     ]
    },
    {
     "name": "stderr",
     "output_type": "stream",
     "text": [
      "/anaconda2/envs/nlu/lib/python3.6/site-packages/ipykernel_launcher.py:3: UserWarning: This pattern has match groups. To actually get the groups, use str.extract.\n",
      "  This is separate from the ipykernel package so we can avoid doing imports until\n",
      "/anaconda2/envs/nlu/lib/python3.6/site-packages/ipykernel_launcher.py:3: UserWarning: This pattern has match groups. To actually get the groups, use str.extract.\n",
      "  This is separate from the ipykernel package so we can avoid doing imports until\n",
      "/anaconda2/envs/nlu/lib/python3.6/site-packages/ipykernel_launcher.py:19: UserWarning: This pattern has match groups. To actually get the groups, use str.extract.\n"
     ]
    },
    {
     "name": "stdout",
     "output_type": "stream",
     "text": [
      "baton_rouge\n"
     ]
    },
    {
     "name": "stderr",
     "output_type": "stream",
     "text": [
      "/anaconda2/envs/nlu/lib/python3.6/site-packages/ipykernel_launcher.py:3: UserWarning: This pattern has match groups. To actually get the groups, use str.extract.\n",
      "  This is separate from the ipykernel package so we can avoid doing imports until\n",
      "/anaconda2/envs/nlu/lib/python3.6/site-packages/ipykernel_launcher.py:3: UserWarning: This pattern has match groups. To actually get the groups, use str.extract.\n",
      "  This is separate from the ipykernel package so we can avoid doing imports until\n",
      "/anaconda2/envs/nlu/lib/python3.6/site-packages/ipykernel_launcher.py:19: UserWarning: This pattern has match groups. To actually get the groups, use str.extract.\n"
     ]
    },
    {
     "name": "stdout",
     "output_type": "stream",
     "text": [
      "burlington\n",
      "fort_lauderdale\n"
     ]
    },
    {
     "name": "stderr",
     "output_type": "stream",
     "text": [
      "/anaconda2/envs/nlu/lib/python3.6/site-packages/ipykernel_launcher.py:3: UserWarning: This pattern has match groups. To actually get the groups, use str.extract.\n",
      "  This is separate from the ipykernel package so we can avoid doing imports until\n",
      "/anaconda2/envs/nlu/lib/python3.6/site-packages/ipykernel_launcher.py:3: UserWarning: This pattern has match groups. To actually get the groups, use str.extract.\n",
      "  This is separate from the ipykernel package so we can avoid doing imports until\n",
      "/anaconda2/envs/nlu/lib/python3.6/site-packages/ipykernel_launcher.py:19: UserWarning: This pattern has match groups. To actually get the groups, use str.extract.\n",
      "/anaconda2/envs/nlu/lib/python3.6/site-packages/ipykernel_launcher.py:3: UserWarning: This pattern has match groups. To actually get the groups, use str.extract.\n",
      "  This is separate from the ipykernel package so we can avoid doing imports until\n",
      "/anaconda2/envs/nlu/lib/python3.6/site-packages/ipykernel_launcher.py:3: UserWarning: This pattern has match groups. To actually get the groups, use str.extract.\n",
      "  This is separate from the ipykernel package so we can avoid doing imports until\n",
      "/anaconda2/envs/nlu/lib/python3.6/site-packages/ipykernel_launcher.py:19: UserWarning: This pattern has match groups. To actually get the groups, use str.extract.\n",
      "/anaconda2/envs/nlu/lib/python3.6/site-packages/ipykernel_launcher.py:3: UserWarning: This pattern has match groups. To actually get the groups, use str.extract.\n",
      "  This is separate from the ipykernel package so we can avoid doing imports until\n",
      "/anaconda2/envs/nlu/lib/python3.6/site-packages/ipykernel_launcher.py:3: UserWarning: This pattern has match groups. To actually get the groups, use str.extract.\n",
      "  This is separate from the ipykernel package so we can avoid doing imports until\n"
     ]
    },
    {
     "name": "stdout",
     "output_type": "stream",
     "text": [
      "fresno\n",
      "san_francisco\n"
     ]
    },
    {
     "name": "stderr",
     "output_type": "stream",
     "text": [
      "/anaconda2/envs/nlu/lib/python3.6/site-packages/ipykernel_launcher.py:19: UserWarning: This pattern has match groups. To actually get the groups, use str.extract.\n",
      "/anaconda2/envs/nlu/lib/python3.6/site-packages/ipykernel_launcher.py:3: UserWarning: This pattern has match groups. To actually get the groups, use str.extract.\n",
      "  This is separate from the ipykernel package so we can avoid doing imports until\n",
      "/anaconda2/envs/nlu/lib/python3.6/site-packages/ipykernel_launcher.py:3: UserWarning: This pattern has match groups. To actually get the groups, use str.extract.\n",
      "  This is separate from the ipykernel package so we can avoid doing imports until\n",
      "/anaconda2/envs/nlu/lib/python3.6/site-packages/ipykernel_launcher.py:19: UserWarning: This pattern has match groups. To actually get the groups, use str.extract.\n"
     ]
    },
    {
     "name": "stdout",
     "output_type": "stream",
     "text": [
      "vegas\n"
     ]
    },
    {
     "name": "stderr",
     "output_type": "stream",
     "text": [
      "/anaconda2/envs/nlu/lib/python3.6/site-packages/ipykernel_launcher.py:3: UserWarning: This pattern has match groups. To actually get the groups, use str.extract.\n",
      "  This is separate from the ipykernel package so we can avoid doing imports until\n",
      "/anaconda2/envs/nlu/lib/python3.6/site-packages/ipykernel_launcher.py:3: UserWarning: This pattern has match groups. To actually get the groups, use str.extract.\n",
      "  This is separate from the ipykernel package so we can avoid doing imports until\n",
      "/anaconda2/envs/nlu/lib/python3.6/site-packages/ipykernel_launcher.py:19: UserWarning: This pattern has match groups. To actually get the groups, use str.extract.\n"
     ]
    },
    {
     "name": "stdout",
     "output_type": "stream",
     "text": [
      "thornton\n"
     ]
    },
    {
     "name": "stderr",
     "output_type": "stream",
     "text": [
      "/anaconda2/envs/nlu/lib/python3.6/site-packages/ipykernel_launcher.py:3: UserWarning: This pattern has match groups. To actually get the groups, use str.extract.\n",
      "  This is separate from the ipykernel package so we can avoid doing imports until\n",
      "/anaconda2/envs/nlu/lib/python3.6/site-packages/ipykernel_launcher.py:3: UserWarning: This pattern has match groups. To actually get the groups, use str.extract.\n",
      "  This is separate from the ipykernel package so we can avoid doing imports until\n",
      "/anaconda2/envs/nlu/lib/python3.6/site-packages/ipykernel_launcher.py:19: UserWarning: This pattern has match groups. To actually get the groups, use str.extract.\n"
     ]
    },
    {
     "name": "stdout",
     "output_type": "stream",
     "text": [
      "sutherland_springs\n"
     ]
    },
    {
     "name": "stderr",
     "output_type": "stream",
     "text": [
      "/anaconda2/envs/nlu/lib/python3.6/site-packages/ipykernel_launcher.py:3: UserWarning: This pattern has match groups. To actually get the groups, use str.extract.\n",
      "  This is separate from the ipykernel package so we can avoid doing imports until\n",
      "/anaconda2/envs/nlu/lib/python3.6/site-packages/ipykernel_launcher.py:3: UserWarning: This pattern has match groups. To actually get the groups, use str.extract.\n",
      "  This is separate from the ipykernel package so we can avoid doing imports until\n",
      "/anaconda2/envs/nlu/lib/python3.6/site-packages/ipykernel_launcher.py:19: UserWarning: This pattern has match groups. To actually get the groups, use str.extract.\n"
     ]
    },
    {
     "name": "stdout",
     "output_type": "stream",
     "text": [
      "parkland\n"
     ]
    },
    {
     "name": "stderr",
     "output_type": "stream",
     "text": [
      "/anaconda2/envs/nlu/lib/python3.6/site-packages/ipykernel_launcher.py:3: UserWarning: This pattern has match groups. To actually get the groups, use str.extract.\n",
      "  This is separate from the ipykernel package so we can avoid doing imports until\n",
      "/anaconda2/envs/nlu/lib/python3.6/site-packages/ipykernel_launcher.py:3: UserWarning: This pattern has match groups. To actually get the groups, use str.extract.\n",
      "  This is separate from the ipykernel package so we can avoid doing imports until\n",
      "/anaconda2/envs/nlu/lib/python3.6/site-packages/ipykernel_launcher.py:19: UserWarning: This pattern has match groups. To actually get the groups, use str.extract.\n"
     ]
    },
    {
     "name": "stdout",
     "output_type": "stream",
     "text": [
      "nashville\n"
     ]
    },
    {
     "name": "stderr",
     "output_type": "stream",
     "text": [
      "/anaconda2/envs/nlu/lib/python3.6/site-packages/ipykernel_launcher.py:3: UserWarning: This pattern has match groups. To actually get the groups, use str.extract.\n",
      "  This is separate from the ipykernel package so we can avoid doing imports until\n",
      "/anaconda2/envs/nlu/lib/python3.6/site-packages/ipykernel_launcher.py:3: UserWarning: This pattern has match groups. To actually get the groups, use str.extract.\n",
      "  This is separate from the ipykernel package so we can avoid doing imports until\n",
      "/anaconda2/envs/nlu/lib/python3.6/site-packages/ipykernel_launcher.py:19: UserWarning: This pattern has match groups. To actually get the groups, use str.extract.\n"
     ]
    },
    {
     "name": "stdout",
     "output_type": "stream",
     "text": [
      "santa_fe\n"
     ]
    },
    {
     "name": "stderr",
     "output_type": "stream",
     "text": [
      "/anaconda2/envs/nlu/lib/python3.6/site-packages/ipykernel_launcher.py:3: UserWarning: This pattern has match groups. To actually get the groups, use str.extract.\n",
      "  This is separate from the ipykernel package so we can avoid doing imports until\n",
      "/anaconda2/envs/nlu/lib/python3.6/site-packages/ipykernel_launcher.py:3: UserWarning: This pattern has match groups. To actually get the groups, use str.extract.\n",
      "  This is separate from the ipykernel package so we can avoid doing imports until\n",
      "/anaconda2/envs/nlu/lib/python3.6/site-packages/ipykernel_launcher.py:19: UserWarning: This pattern has match groups. To actually get the groups, use str.extract.\n"
     ]
    },
    {
     "name": "stdout",
     "output_type": "stream",
     "text": [
      "annapolis\n"
     ]
    },
    {
     "name": "stderr",
     "output_type": "stream",
     "text": [
      "/anaconda2/envs/nlu/lib/python3.6/site-packages/ipykernel_launcher.py:3: UserWarning: This pattern has match groups. To actually get the groups, use str.extract.\n",
      "  This is separate from the ipykernel package so we can avoid doing imports until\n",
      "/anaconda2/envs/nlu/lib/python3.6/site-packages/ipykernel_launcher.py:3: UserWarning: This pattern has match groups. To actually get the groups, use str.extract.\n",
      "  This is separate from the ipykernel package so we can avoid doing imports until\n",
      "/anaconda2/envs/nlu/lib/python3.6/site-packages/ipykernel_launcher.py:19: UserWarning: This pattern has match groups. To actually get the groups, use str.extract.\n"
     ]
    },
    {
     "name": "stdout",
     "output_type": "stream",
     "text": [
      "pittsburgh\n"
     ]
    },
    {
     "name": "stderr",
     "output_type": "stream",
     "text": [
      "/anaconda2/envs/nlu/lib/python3.6/site-packages/ipykernel_launcher.py:3: UserWarning: This pattern has match groups. To actually get the groups, use str.extract.\n",
      "  This is separate from the ipykernel package so we can avoid doing imports until\n",
      "/anaconda2/envs/nlu/lib/python3.6/site-packages/ipykernel_launcher.py:3: UserWarning: This pattern has match groups. To actually get the groups, use str.extract.\n",
      "  This is separate from the ipykernel package so we can avoid doing imports until\n",
      "/anaconda2/envs/nlu/lib/python3.6/site-packages/ipykernel_launcher.py:19: UserWarning: This pattern has match groups. To actually get the groups, use str.extract.\n"
     ]
    },
    {
     "name": "stdout",
     "output_type": "stream",
     "text": [
      "thousand_oaks\n"
     ]
    },
    {
     "name": "stderr",
     "output_type": "stream",
     "text": [
      "/anaconda2/envs/nlu/lib/python3.6/site-packages/ipykernel_launcher.py:3: UserWarning: This pattern has match groups. To actually get the groups, use str.extract.\n",
      "  This is separate from the ipykernel package so we can avoid doing imports until\n",
      "/anaconda2/envs/nlu/lib/python3.6/site-packages/ipykernel_launcher.py:3: UserWarning: This pattern has match groups. To actually get the groups, use str.extract.\n",
      "  This is separate from the ipykernel package so we can avoid doing imports until\n",
      "/anaconda2/envs/nlu/lib/python3.6/site-packages/ipykernel_launcher.py:19: UserWarning: This pattern has match groups. To actually get the groups, use str.extract.\n"
     ]
    }
   ],
   "source": [
    "shouldve_odds = []\n",
    "not_shouldve_odds = []\n",
    "prop_shouldve = []\n",
    "race = []\n",
    "\n",
    "\n",
    "for event in events:\n",
    "    print(event)\n",
    "    data = pd.read_csv(TWEET_DIR +event+'/'+event+'.csv', sep='\\t', lineterminator='\\n', usecols=['text', 'rep_follows', 'dem_follows', 'remove', 'isRT'])\n",
    "    # data['text'].str.contains(r'http|\\.com|www', case=False)\n",
    "    data = filter_retweets(data)\n",
    "    # get partisan tweets\n",
    "    data = data[~data['dem_follows'].isnull() & ~data['rep_follows'].isnull() & (data['dem_follows'] != data['rep_follows'])]\n",
    "    dem, rep = split_party(data)\n",
    "    search = r\"\\bshould['’]ve\\b|\\bshould( not)? have\\b|\\bshouldn['’]t have\\b\"\n",
    "    search_not_shouldve = r\"\\bshouldn['’]t(?! have)\\b|\\bshould\\b[^'’](?!have)\"\n",
    "    shouldve_odds.append(np.log(get_odds(rep, search) / get_odds(dem, search)))\n",
    "    not_shouldve_odds.append(np.log(get_odds(rep, search_not_shouldve) / get_odds(dem, search_not_shouldve)))\n",
    "    prop = data['text'].str.contains(search, case=False).sum() / data['text'].str.contains(r\"\\bshould[n'’]?\\w*\\b\", case=False).sum()\n",
    "    prop_shouldve.append(prop)\n",
    "    race.append(shooter_race[event])"
   ]
  },
  {
   "cell_type": "code",
   "execution_count": 38,
   "metadata": {
    "collapsed": true
   },
   "outputs": [],
   "source": [
    "df = pd.DataFrame.from_dict({'shouldve_prop':prop_shouldve, 'shouldve_odds':shouldve_odds, 'not_shouldve_odds':not_shouldve_odds, 'race':race})"
   ]
  },
  {
   "cell_type": "code",
   "execution_count": 43,
   "metadata": {},
   "outputs": [
    {
     "data": {
      "text/plain": [
       "array([<matplotlib.axes._subplots.AxesSubplot object at 0x123e87278>,\n",
       "       <matplotlib.axes._subplots.AxesSubplot object at 0x11d7cfa20>],\n",
       "      dtype=object)"
      ]
     },
     "execution_count": 43,
     "metadata": {},
     "output_type": "execute_result"
    },
    {
     "data": {
      "image/png": "[encoded data removed]",
      "text/plain": [
       "<Figure size 432x288 with 2 Axes>"
      ]
     },
     "metadata": {},
     "output_type": "display_data"
    }
   ],
   "source": [
    "df.boxplot(column=['shouldve_odds', 'not_shouldve_odds'], by='race')"
   ]
  },
  {
   "cell_type": "code",
   "execution_count": 36,
   "metadata": {},
   "outputs": [
    {
     "name": "stdout",
     "output_type": "stream",
     "text": [
      "Ttest_1sampResult(statistic=-2.0879975088054836, pvalue=0.049797499455887545)\n",
      "POC Ttest_1sampResult(statistic=-0.9294853187442579, pvalue=0.3768942932853042)\n",
      "white Ttest_1sampResult(statistic=-2.3975649783673476, pvalue=0.0374712176170982)\n"
     ]
    }
   ],
   "source": [
    "print(ttest_1samp(df['log_odds'], 0))\n",
    "for i, g in df.groupby('race'):\n",
    "    print(i, ttest_1samp(g['log_odds'], 0))"
   ]
  },
  {
   "cell_type": "code",
   "execution_count": 34,
   "metadata": {},
   "outputs": [
    {
     "data": {
      "text/html": [
       "<div>\n",
       "<style scoped>\n",
       "    .dataframe tbody tr th:only-of-type {\n",
       "        vertical-align: middle;\n",
       "    }\n",
       "\n",
       "    .dataframe tbody tr th {\n",
       "        vertical-align: top;\n",
       "    }\n",
       "\n",
       "    .dataframe thead th {\n",
       "        text-align: right;\n",
       "    }\n",
       "</style>\n",
       "<table border=\"1\" class=\"dataframe\">\n",
       "  <thead>\n",
       "    <tr style=\"text-align: right;\">\n",
       "      <th></th>\n",
       "      <th>shouldve_prop</th>\n",
       "      <th>log_odds</th>\n",
       "      <th>race</th>\n",
       "    </tr>\n",
       "  </thead>\n",
       "  <tbody>\n",
       "    <tr>\n",
       "      <th>0</th>\n",
       "      <td>0.158664</td>\n",
       "      <td>0.151098</td>\n",
       "      <td>POC</td>\n",
       "    </tr>\n",
       "    <tr>\n",
       "      <th>1</th>\n",
       "      <td>0.152381</td>\n",
       "      <td>-0.247602</td>\n",
       "      <td>POC</td>\n",
       "    </tr>\n",
       "    <tr>\n",
       "      <th>2</th>\n",
       "      <td>0.113320</td>\n",
       "      <td>-0.534749</td>\n",
       "      <td>white</td>\n",
       "    </tr>\n",
       "    <tr>\n",
       "      <th>3</th>\n",
       "      <td>0.152174</td>\n",
       "      <td>-0.129056</td>\n",
       "      <td>POC</td>\n",
       "    </tr>\n",
       "    <tr>\n",
       "      <th>4</th>\n",
       "      <td>0.154362</td>\n",
       "      <td>-0.004500</td>\n",
       "      <td>white</td>\n",
       "    </tr>\n",
       "    <tr>\n",
       "      <th>5</th>\n",
       "      <td>0.160656</td>\n",
       "      <td>-0.217012</td>\n",
       "      <td>POC</td>\n",
       "    </tr>\n",
       "    <tr>\n",
       "      <th>6</th>\n",
       "      <td>0.129347</td>\n",
       "      <td>-0.158503</td>\n",
       "      <td>POC</td>\n",
       "    </tr>\n",
       "    <tr>\n",
       "      <th>7</th>\n",
       "      <td>0.120000</td>\n",
       "      <td>-0.941434</td>\n",
       "      <td>POC</td>\n",
       "    </tr>\n",
       "    <tr>\n",
       "      <th>8</th>\n",
       "      <td>0.142857</td>\n",
       "      <td>-1.052453</td>\n",
       "      <td>POC</td>\n",
       "    </tr>\n",
       "    <tr>\n",
       "      <th>9</th>\n",
       "      <td>0.122449</td>\n",
       "      <td>0.217787</td>\n",
       "      <td>POC</td>\n",
       "    </tr>\n",
       "    <tr>\n",
       "      <th>10</th>\n",
       "      <td>0.105882</td>\n",
       "      <td>1.066548</td>\n",
       "      <td>POC</td>\n",
       "    </tr>\n",
       "    <tr>\n",
       "      <th>11</th>\n",
       "      <td>0.089552</td>\n",
       "      <td>-0.454891</td>\n",
       "      <td>POC</td>\n",
       "    </tr>\n",
       "    <tr>\n",
       "      <th>12</th>\n",
       "      <td>0.121894</td>\n",
       "      <td>-0.581421</td>\n",
       "      <td>white</td>\n",
       "    </tr>\n",
       "    <tr>\n",
       "      <th>13</th>\n",
       "      <td>0.087432</td>\n",
       "      <td>-0.277022</td>\n",
       "      <td>white</td>\n",
       "    </tr>\n",
       "    <tr>\n",
       "      <th>14</th>\n",
       "      <td>0.252940</td>\n",
       "      <td>0.092799</td>\n",
       "      <td>white</td>\n",
       "    </tr>\n",
       "    <tr>\n",
       "      <th>15</th>\n",
       "      <td>0.177483</td>\n",
       "      <td>0.047092</td>\n",
       "      <td>white</td>\n",
       "    </tr>\n",
       "    <tr>\n",
       "      <th>16</th>\n",
       "      <td>0.201586</td>\n",
       "      <td>0.139962</td>\n",
       "      <td>white</td>\n",
       "    </tr>\n",
       "    <tr>\n",
       "      <th>17</th>\n",
       "      <td>0.155776</td>\n",
       "      <td>-0.449262</td>\n",
       "      <td>white</td>\n",
       "    </tr>\n",
       "    <tr>\n",
       "      <th>18</th>\n",
       "      <td>0.102293</td>\n",
       "      <td>-0.184252</td>\n",
       "      <td>white</td>\n",
       "    </tr>\n",
       "    <tr>\n",
       "      <th>19</th>\n",
       "      <td>0.278736</td>\n",
       "      <td>-0.968105</td>\n",
       "      <td>white</td>\n",
       "    </tr>\n",
       "    <tr>\n",
       "      <th>20</th>\n",
       "      <td>0.262577</td>\n",
       "      <td>-0.047230</td>\n",
       "      <td>white</td>\n",
       "    </tr>\n",
       "  </tbody>\n",
       "</table>\n",
       "</div>"
      ],
      "text/plain": [
       "    shouldve_prop  log_odds   race\n",
       "0        0.158664  0.151098    POC\n",
       "1        0.152381 -0.247602    POC\n",
       "2        0.113320 -0.534749  white\n",
       "3        0.152174 -0.129056    POC\n",
       "4        0.154362 -0.004500  white\n",
       "5        0.160656 -0.217012    POC\n",
       "6        0.129347 -0.158503    POC\n",
       "7        0.120000 -0.941434    POC\n",
       "8        0.142857 -1.052453    POC\n",
       "9        0.122449  0.217787    POC\n",
       "10       0.105882  1.066548    POC\n",
       "11       0.089552 -0.454891    POC\n",
       "12       0.121894 -0.581421  white\n",
       "13       0.087432 -0.277022  white\n",
       "14       0.252940  0.092799  white\n",
       "15       0.177483  0.047092  white\n",
       "16       0.201586  0.139962  white\n",
       "17       0.155776 -0.449262  white\n",
       "18       0.102293 -0.184252  white\n",
       "19       0.278736 -0.968105  white\n",
       "20       0.262577 -0.047230  white"
      ]
     },
     "execution_count": 34,
     "metadata": {},
     "output_type": "execute_result"
    }
   ],
   "source": [
    "df"
   ]
  },
  {
   "cell_type": "code",
   "execution_count": null,
   "metadata": {
    "collapsed": true
   },
   "outputs": [],
   "source": []
  }
 ],
 "metadata": {
  "kernelspec": {
   "display_name": "nlu",
   "language": "python",
   "name": "nlu"
  },
  "language_info": {
   "codemirror_mode": {
    "name": "ipython",
    "version": 3
   },
   "file_extension": ".py",
   "mimetype": "text/x-python",
   "name": "python",
   "nbconvert_exporter": "python",
   "pygments_lexer": "ipython3",
   "version": "3.6.4"
  }
 },
 "nbformat": 4,
 "nbformat_minor": 2
}
