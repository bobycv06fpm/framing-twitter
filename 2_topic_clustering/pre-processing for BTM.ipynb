{
 "cells": [
  {
   "cell_type": "code",
   "execution_count": 1,
   "metadata": {
    "collapsed": true
   },
   "outputs": [],
   "source": [
    "from __future__ import division\n",
    "import numpy as np\n",
    "import json\n",
    "import pandas as pd\n",
    "import nltk"
   ]
  },
  {
   "cell_type": "code",
   "execution_count": 2,
   "metadata": {
    "collapsed": true
   },
   "outputs": [],
   "source": [
    "sno = nltk.stem.SnowballStemmer('english')\n",
    "config = json.load(open('../config.json', 'r'))\n",
    "INPUT_DIR = config['INPUT_DIR']\n",
    "OUTPUT_DIR = config['OUTPUT_DIR']\n",
    "TWEET_DIR = config['TWEET_DIR']\n",
    "BTM_DIR = config['BTM']\n",
    "BTM_INPUT_DIR = config['BTM'] + 'myData/'\n",
    "BTM_OUTPUT_DIR = config['BTM'] + 'output/model/'\n",
    "events = open(INPUT_DIR + 'event_names.txt', 'r').read().splitlines()"
   ]
  },
  {
   "cell_type": "code",
   "execution_count": 3,
   "metadata": {
    "collapsed": true
   },
   "outputs": [],
   "source": [
    "stopwords = set([sno.stem(w) for w in open(INPUT_DIR + 'stopwords.txt', 'r').read().splitlines()])"
   ]
  },
  {
   "cell_type": "code",
   "execution_count": 4,
   "metadata": {
    "collapsed": true
   },
   "outputs": [],
   "source": [
    "def remove_stopwords(tweet):\n",
    "    return ' '.join([w for w in tweet.split() if w not in stopwords])"
   ]
  },
  {
   "cell_type": "markdown",
   "metadata": {},
   "source": [
    "## filter stopwords from joint vocab"
   ]
  },
  {
   "cell_type": "code",
   "execution_count": 41,
   "metadata": {
    "collapsed": true
   },
   "outputs": [],
   "source": [
    "i = 0\n",
    "word2idx = {}\n",
    "for word in open(OUTPUT_DIR + 'joint_vocab.txt', 'r').read().splitlines():\n",
    "    if word not in stopwords:\n",
    "        word2idx[word] = i\n",
    "        i += 1"
   ]
  },
  {
   "cell_type": "code",
   "execution_count": 42,
   "metadata": {
    "collapsed": true
   },
   "outputs": [],
   "source": [
    "with open(OUTPUT_DIR + 'joint_vocab_nostop.json', 'w') as f:\n",
    "    f.write(json.dumps(word2idx))"
   ]
  },
  {
   "cell_type": "code",
   "execution_count": 43,
   "metadata": {},
   "outputs": [
    {
     "data": {
      "text/plain": [
       "1669"
      ]
     },
     "execution_count": 43,
     "metadata": {},
     "output_type": "execute_result"
    }
   ],
   "source": [
    "len(word2idx)"
   ]
  },
  {
   "cell_type": "markdown",
   "metadata": {},
   "source": [
    "## get tweets for inducing topics"
   ]
  },
  {
   "cell_type": "code",
   "execution_count": 14,
   "metadata": {
    "collapsed": true
   },
   "outputs": [],
   "source": [
    "def get_samples():\n",
    "    all_tweets = []\n",
    "    all_events = []\n",
    "    all_indices = []\n",
    "    for event in events:\n",
    "        tweets = open(TWEET_DIR + event + '/' + event + '_cleaned_text.txt', 'r').read().splitlines()\n",
    "        N = len(tweets)\n",
    "        print(event, N)\n",
    "\n",
    "        # get tweets with embeddings\n",
    "        idx1 = np.load(TWEET_DIR + event + '/' + event + '_partisan_indices_among_cleaned_indices.npy')\n",
    "        tweets = [tweets[i] for i in idx1]\n",
    "\n",
    "        # get sample for determining topics\n",
    "        idx2 = np.load(TWEET_DIR + event + '/' + event + '_indices_among_embeddings_for_getting_topics.npy')\n",
    "        tweets = [tweets[i] for i in idx2]\n",
    "\n",
    "        # get indices among cleaned ones\n",
    "        filter1 = sorted(list(set(idx1) & set(range(N))))\n",
    "        filter2 = [filter1[j] for j in idx2]\n",
    "        all_indices.extend(filter2)\n",
    "\n",
    "        all_events.extend([event] * len(tweets))\n",
    "        all_tweets.extend(tweets)\n",
    "    df = pd.DataFrame({'tweet': all_tweets, 'event': all_events, 'index_in_clean_text': all_indices})\n",
    "    df['tweet'] = df['tweet'].apply(remove_stopwords)\n",
    "    df = df[df['tweet'].str.contains(' ')]\n",
    "    return df"
   ]
  },
  {
   "cell_type": "code",
   "execution_count": 15,
   "metadata": {
    "scrolled": true
   },
   "outputs": [
    {
     "name": "stdout",
     "output_type": "stream",
     "text": [
      "chattanooga 29550\n",
      "roseburg 18042\n",
      "colorado_springs 55792\n",
      "san_bernardino 70452\n",
      "kalamazoo 10950\n",
      "orlando 1825759\n",
      "dallas 259736\n",
      "baton_rouge 46036\n",
      "burlington 8148\n",
      "fort_lauderdale 12514\n",
      "fresno 8850\n",
      "san_francisco 10484\n",
      "vegas 1284855\n",
      "thornton 14296\n",
      "sutherland_springs 153889\n",
      "parkland 272213\n",
      "nashville 38638\n",
      "santa_fe 73563\n",
      "annapolis 27673\n",
      "pittsburgh 59869\n",
      "thousand_oaks 117580\n"
     ]
    }
   ],
   "source": [
    "df = get_samples()\n",
    "with open(BTM_INPUT_DIR + 'tweets_train.txt', 'w') as f:\n",
    "    f.write('\\n'.join(df['tweet']))\n",
    "df[['event', 'index_in_clean_text']].to_csv(BTM_INPUT_DIR + 'indices_train.csv', index=False)"
   ]
  },
  {
   "cell_type": "markdown",
   "metadata": {},
   "source": [
    "## get all tweets"
   ]
  },
  {
   "cell_type": "code",
   "execution_count": 19,
   "metadata": {
    "collapsed": true
   },
   "outputs": [],
   "source": [
    "def combine_all_tweets():\n",
    "    all_tweets = []\n",
    "    all_indices = []\n",
    "    all_events = []\n",
    "    for event in events:\n",
    "        print(event)\n",
    "    \n",
    "        # get tweets for which we have embeddings\n",
    "        tweets = open(TWEET_DIR + event + '/' + event + '_cleaned_text.txt', 'r').read().splitlines()\n",
    "        idx1 = np.load(TWEET_DIR + event + '/' + event + '_partisan_indices_among_cleaned_indices.npy')\n",
    "        tweets = [tweets[i] for i in idx1]\n",
    "    \n",
    "        # get indices of these tweets in the **original data** (with no filtering)\n",
    "        original_indices = np.load(TWEET_DIR + event + '/' + event + '_cleaned_and_partisan_indices.npy')\n",
    "        \n",
    "        all_tweets.extend(tweets)\n",
    "        all_indices.extend(original_indices)\n",
    "        all_events.extend([event] * len(tweets))\n",
    "    \n",
    "    df = pd.DataFrame({'tweet': all_tweets, 'indices_in_original': all_indices, 'event': all_events})\n",
    "    df['tweet'] = df['tweet'].apply(remove_stopwords)\n",
    "    df = df[df['tweet'].str.contains(' ')]\n",
    "    return df"
   ]
  },
  {
   "cell_type": "code",
   "execution_count": 20,
   "metadata": {
    "scrolled": true
   },
   "outputs": [
    {
     "name": "stdout",
     "output_type": "stream",
     "text": [
      "chattanooga\n",
      "roseburg\n",
      "colorado_springs\n",
      "san_bernardino\n",
      "kalamazoo\n",
      "orlando\n",
      "dallas\n",
      "baton_rouge\n",
      "burlington\n",
      "fort_lauderdale\n",
      "fresno\n",
      "san_francisco\n",
      "vegas\n",
      "thornton\n",
      "sutherland_springs\n",
      "parkland\n",
      "nashville\n",
      "santa_fe\n",
      "annapolis\n",
      "pittsburgh\n",
      "thousand_oaks\n"
     ]
    }
   ],
   "source": [
    "df = combine_all_tweets()\n",
    "df[['indices_in_original', 'event']].to_csv(BTM_INPUT_DIR + 'indices_all.csv', index=False)\n",
    "with open(BTM_INPUT_DIR + 'tweets_all.txt', 'w') as f:\n",
    "    f.write('\\n'.join(df['tweet']))"
   ]
  },
  {
   "cell_type": "markdown",
   "metadata": {},
   "source": [
    "## next step is to run BTM script: `sh myBTMexample.sh`"
   ]
  },
  {
   "cell_type": "markdown",
   "metadata": {},
   "source": [
    "Make sure to set `K` in the parameters and to run it in a Python 3 environment. Also make sure that the vocab size `W` is set right."
   ]
  },
  {
   "cell_type": "markdown",
   "metadata": {},
   "source": [
    "## convert outputs"
   ]
  },
  {
   "cell_type": "markdown",
   "metadata": {},
   "source": [
    "### get topic probabilities"
   ]
  },
  {
   "cell_type": "code",
   "execution_count": 5,
   "metadata": {
    "collapsed": true
   },
   "outputs": [],
   "source": [
    "def save_topic_probs(k):\n",
    "    with open(BTM_OUTPUT_DIR + 'k' + str(k) + '.pz', 'r') as f:\n",
    "        np.save(OUTPUT_DIR + 'btm_' + str(k) + '_topic_probs.npy', np.array([float(p) for p in f.readline().split()]))"
   ]
  },
  {
   "cell_type": "code",
   "execution_count": 6,
   "metadata": {},
   "outputs": [],
   "source": [
    "for k in range(6, 11):\n",
    "    save_topic_probs(k)"
   ]
  },
  {
   "cell_type": "markdown",
   "metadata": {},
   "source": [
    "### get topic word matrix"
   ]
  },
  {
   "cell_type": "code",
   "execution_count": 7,
   "metadata": {
    "collapsed": true
   },
   "outputs": [],
   "source": [
    "word2idx = json.load(open(OUTPUT_DIR + 'joint_vocab_nostop.json', 'r'))"
   ]
  },
  {
   "cell_type": "code",
   "execution_count": 12,
   "metadata": {
    "collapsed": true
   },
   "outputs": [],
   "source": [
    "idx2word = {i: w for w, i in word2idx.items()}"
   ]
  },
  {
   "cell_type": "code",
   "execution_count": 20,
   "metadata": {
    "collapsed": true
   },
   "outputs": [],
   "source": [
    "def save_topic_word_matrix(k):\n",
    "    mat = np.zeros((k, len(word2idx)))\n",
    "    i = 0\n",
    "    for row in open(BTM_OUTPUT_DIR + 'k' + str(k) + '.pw_z', 'r'):\n",
    "        mat[i, :] = [float(v) for v in row.split()]\n",
    "        print(i, ', '.join([idx2word[w] for w in mat[i, :].argsort()[::-1][:10]]))\n",
    "        i += 1\n",
    "    print('-----')\n",
    "    np.save(OUTPUT_DIR + 'btm_' + str(k) + '_topic_words.npy', mat)"
   ]
  },
  {
   "cell_type": "code",
   "execution_count": 21,
   "metadata": {
    "scrolled": true
   },
   "outputs": [
    {
     "name": "stdout",
     "output_type": "stream",
     "text": [
      "0 shoot, shooter, attack, trump, san, vega, gun, bernardino, orlando, victim\n",
      "1 kill, peopl, shoot, white, shooter, shot, polic, gun, dalla, black\n",
      "2 gun, school, shoot, high, law, peopl, control, church, parkland, student\n",
      "3 shoot, victim, famili, prayer, thought, kill, today, mass, communiti, heart\n",
      "4 shoot, dead, polic, shooter, peopl, report, shot, kill, suspect, offic\n",
      "5 hous, shoot, shooter, white, gun, kill, man, hero, peopl, guy\n",
      "-----\n",
      "0 shoot, dead, polic, shooter, peopl, report, shot, suspect, kill, offic\n",
      "1 kill, hous, peopl, white, shoot, shooter, black, man, shot, polic\n",
      "2 shoot, shooter, attack, trump, terrorist, terror, call, media, san, plan\n",
      "3 gun, shoot, peopl, control, kill, stop, law, church, violenc, mass\n",
      "4 shoot, victim, famili, prayer, thought, today, kill, communiti, school, heart\n",
      "5 school, gun, shoot, high, shooter, parkland, student, texa, kid, law\n",
      "6 shoot, vega, mass, las, thousand, victim, kill, california, san, bar\n",
      "-----\n",
      "0 gun, shoot, law, control, peopl, shooter, church, hous, stop, school\n",
      "1 school, shoot, high, gun, student, parkland, kid, shooter, texa, kill\n",
      "2 shoot, victim, famili, prayer, thought, pray, today, kill, gun, heart\n",
      "3 shoot, polic, dead, shooter, report, suspect, peopl, shot, kill, airport\n",
      "4 shoot, shooter, attack, terrorist, gun, terror, san, trump, plan, call\n",
      "5 shoot, vega, mass, las, thousand, victim, kill, california, bar, church\n",
      "6 victim, shoot, trump, hous, flag, capit, honor, half, presid, staff\n",
      "7 kill, peopl, white, hous, shoot, shooter, shot, black, polic, man\n",
      "-----\n",
      "0 shoot, dead, polic, report, peopl, shooter, shot, suspect, airport, kill\n",
      "1 shooter, shoot, attack, san, terrorist, terror, bernardino, plan, media, call\n",
      "2 shoot, vega, mass, thousand, las, california, kill, bar, victim, gunman\n",
      "3 gun, shoot, school, peopl, control, kill, high, mass, nra, violenc\n",
      "4 kill, peopl, white, shoot, hous, shooter, shot, black, polic, man\n",
      "5 shoot, victim, famili, prayer, thought, pray, heart, communiti, today, kill\n",
      "6 school, high, shoot, shooter, student, texa, parkland, kill, gun, kid\n",
      "7 gun, shooter, hous, law, church, mental, shoot, weapon, guy, stop\n",
      "8 victim, shoot, trump, hous, flag, capit, honor, presid, half, staff\n",
      "-----\n",
      "0 school, shoot, high, gun, student, parkland, kid, kill, texa, peopl\n",
      "1 gun, shoot, law, control, peopl, stop, church, mental, nra, shooter\n",
      "2 kill, polic, peopl, offic, shot, shoot, dalla, cop, white, suspect\n",
      "3 hous, white, peopl, shoot, kill, shooter, gun, guy, man, black\n",
      "4 shoot, victim, famili, prayer, thought, pray, heart, today, communiti, kill\n",
      "5 shoot, shooter, attack, terrorist, kill, terror, san, plan, trump, call\n",
      "6 shoot, dead, report, peopl, shot, shooter, airport, polic, multipl, news\n",
      "7 victim, shoot, trump, flag, capit, honor, half, presid, staff, hous\n",
      "8 shooter, shoot, suspect, polic, hous, gun, kill, gunman, mall, school\n",
      "9 shoot, vega, las, mass, thousand, victim, california, bar, kill, orlando\n",
      "-----\n"
     ]
    }
   ],
   "source": [
    "for k in range(6, 11):\n",
    "    save_topic_word_matrix(k)"
   ]
  },
  {
   "cell_type": "markdown",
   "metadata": {},
   "source": [
    "### get topic assignments"
   ]
  },
  {
   "cell_type": "code",
   "execution_count": 50,
   "metadata": {},
   "outputs": [],
   "source": [
    "def get_topic_assignments():\n",
    "    \n",
    "    all_tweets = pd.read_csv(BTM_INPUT_DIR + 'indices_all.csv')\n",
    "    print(len(all_tweets))\n",
    "    \n",
    "    for k in range(6, 11):\n",
    "        pz_d = open(BTM_OUTPUT_DIR + 'k' + str(k) + '.pz_d', 'r').read().splitlines()\n",
    "        topic_probs = np.array([[float(v) for v in row.split()] for row in pz_d])\n",
    "        print(topic_probs.shape)\n",
    "        \n",
    "        topic_probs_argsort = topic_probs.argsort()\n",
    "        \n",
    "        for i in range(k):\n",
    "            print(i)\n",
    "            all_tweets['topic_' + str(k-1-i)] = topic_probs_argsort[:, i]\n",
    "            all_tweets['prob_' + str(k-1-i)] = [topic_probs[j, t] for j, t in enumerate(topic_probs_argsort[:, i])]\n",
    "            \n",
    "        for event in events:\n",
    "            print(event)\n",
    "            tweets = all_tweets[all_tweets['event'] == event]\n",
    "            tweets.to_csv(TWEET_DIR + event + '/' + event + '_btm_topics_' + str(k) + '.csv', index=False)"
   ]
  },
  {
   "cell_type": "code",
   "execution_count": null,
   "metadata": {
    "collapsed": true
   },
   "outputs": [],
   "source": [
    "get_topic_assignments()"
   ]
  }
 ],
 "metadata": {
  "kernelspec": {
   "display_name": "nlu",
   "language": "python",
   "name": "nlu"
  },
  "language_info": {
   "codemirror_mode": {
    "name": "ipython",
    "version": 3
   },
   "file_extension": ".py",
   "mimetype": "text/x-python",
   "name": "python",
   "nbconvert_exporter": "python",
   "pygments_lexer": "ipython3",
   "version": "3.6.4"
  }
 },
 "nbformat": 4,
 "nbformat_minor": 2
}
