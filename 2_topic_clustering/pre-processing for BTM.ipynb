{
 "cells": [
  {
   "cell_type": "code",
   "execution_count": 7,
   "metadata": {},
   "outputs": [],
   "source": [
    "from __future__ import division\n",
    "import numpy as np\n",
    "import json\n",
    "import pandas as pd\n",
    "import nltk"
   ]
  },
  {
   "cell_type": "code",
   "execution_count": 8,
   "metadata": {},
   "outputs": [],
   "source": [
    "sno = nltk.stem.SnowballStemmer('english')\n",
    "config = json.load(open('../config.json', 'r'))\n",
    "INPUT_DIR = config['INPUT_DIR']\n",
    "OUTPUT_DIR = config['OUTPUT_DIR']\n",
    "TWEET_DIR = config['TWEET_DIR']\n",
    "BTM_DIR = config['BTM']\n",
    "events = open(INPUT_DIR + 'event_names.txt', 'r').read().splitlines()"
   ]
  },
  {
   "cell_type": "code",
   "execution_count": 9,
   "metadata": {},
   "outputs": [],
   "source": [
    "stopwords = set([sno.stem(w) for w in open(INPUT_DIR + 'stopwords.txt', 'r').read().splitlines()])"
   ]
  },
  {
   "cell_type": "code",
   "execution_count": 13,
   "metadata": {},
   "outputs": [],
   "source": [
    "def remove_stopwords(tweet):\n",
    "    return ' '.join([w for w in tweet.split() if w not in stopwords])"
   ]
  },
  {
   "cell_type": "markdown",
   "metadata": {},
   "source": [
    "# get tweets for inducing topics"
   ]
  },
  {
   "cell_type": "code",
   "execution_count": 14,
   "metadata": {},
   "outputs": [],
   "source": [
    "def get_samples():\n",
    "    all_tweets = []\n",
    "    all_events = []\n",
    "    all_indices = []\n",
    "    for event in events:\n",
    "        tweets = open(TWEET_DIR + event + '/' + event + '_cleaned_text.txt', 'r').read().splitlines()\n",
    "        N = len(tweets)\n",
    "        print(event, N)\n",
    "\n",
    "        # get tweets with embeddings\n",
    "        idx1 = np.load(TWEET_DIR + event + '/' + event + '_partisan_indices_among_cleaned_indices.npy')\n",
    "        tweets = [tweets[i] for i in idx1]\n",
    "\n",
    "        # get sample for determining topics\n",
    "        idx2 = np.load(TWEET_DIR + event + '/' + event + '_indices_among_embeddings_for_getting_topics.npy')\n",
    "        tweets = [tweets[i] for i in idx2]\n",
    "\n",
    "        # get indices among cleaned ones\n",
    "        filter1 = sorted(list(set(idx1) & set(range(N))))\n",
    "        filter2 = [filter1[j] for j in idx2]\n",
    "        all_indices.extend(filter2)\n",
    "\n",
    "        all_events.extend([event] * len(tweets))\n",
    "        all_tweets.extend(tweets)\n",
    "    df = pd.DataFrame({'tweet': all_tweets, 'event': all_events, 'index_in_clean_text': all_indices})\n",
    "    df['tweet'] = df['tweet'].apply(remove_stopwords)\n",
    "    df = df[df['tweet'].str.contains(' ')]\n",
    "    return df"
   ]
  },
  {
   "cell_type": "code",
   "execution_count": 15,
   "metadata": {
    "scrolled": true
   },
   "outputs": [
    {
     "name": "stdout",
     "output_type": "stream",
     "text": [
      "chattanooga 29550\n",
      "roseburg 18042\n",
      "colorado_springs 55792\n",
      "san_bernardino 70452\n",
      "kalamazoo 10950\n",
      "orlando 1825759\n",
      "dallas 259736\n",
      "baton_rouge 46036\n",
      "burlington 8148\n",
      "fort_lauderdale 12514\n",
      "fresno 8850\n",
      "san_francisco 10484\n",
      "vegas 1284855\n",
      "thornton 14296\n",
      "sutherland_springs 153889\n",
      "parkland 272213\n",
      "nashville 38638\n",
      "santa_fe 73563\n",
      "annapolis 27673\n",
      "pittsburgh 59869\n",
      "thousand_oaks 117580\n"
     ]
    }
   ],
   "source": [
    "df = get_samples()\n",
    "with open(BTM_DIR + 'tweets_train.txt', 'w') as f:\n",
    "    f.write('\\n'.join(df['tweet']))\n",
    "df[['event', 'index_in_clean_text']].to_csv(BTM_DIR + 'indices_train.csv', index=False)"
   ]
  },
  {
   "cell_type": "markdown",
   "metadata": {},
   "source": [
    "## get all tweets"
   ]
  },
  {
   "cell_type": "code",
   "execution_count": 19,
   "metadata": {},
   "outputs": [],
   "source": [
    "def combine_all_tweets():\n",
    "    all_tweets = []\n",
    "    all_indices = []\n",
    "    all_events = []\n",
    "    for event in events:\n",
    "        print(event)\n",
    "    \n",
    "        # get tweets for which we have embeddings\n",
    "        tweets = open(TWEET_DIR + event + '/' + event + '_cleaned_text.txt', 'r').read().splitlines()\n",
    "        idx1 = np.load(TWEET_DIR + event + '/' + event + '_partisan_indices_among_cleaned_indices.npy')\n",
    "        tweets = [tweets[i] for i in idx1]\n",
    "    \n",
    "        # get indices of these tweets in the **original data** (with no filtering)\n",
    "        original_indices = np.load(TWEET_DIR + event + '/' + event + '_cleaned_and_partisan_indices.npy')\n",
    "        \n",
    "        all_tweets.extend(tweets)\n",
    "        all_indices.extend(original_indices)\n",
    "        all_events.extend([event] * len(tweets))\n",
    "    \n",
    "    df = pd.DataFrame({'tweet': all_tweets, 'indices_in_original': all_indices, 'event': all_events})\n",
    "    df['tweet'] = df['tweet'].apply(remove_stopwords)\n",
    "    df = df[df['tweet'].str.contains(' ')]\n",
    "    return df"
   ]
  },
  {
   "cell_type": "code",
   "execution_count": 20,
   "metadata": {
    "scrolled": true
   },
   "outputs": [
    {
     "name": "stdout",
     "output_type": "stream",
     "text": [
      "chattanooga\n",
      "roseburg\n",
      "colorado_springs\n",
      "san_bernardino\n",
      "kalamazoo\n",
      "orlando\n",
      "dallas\n",
      "baton_rouge\n",
      "burlington\n",
      "fort_lauderdale\n",
      "fresno\n",
      "san_francisco\n",
      "vegas\n",
      "thornton\n",
      "sutherland_springs\n",
      "parkland\n",
      "nashville\n",
      "santa_fe\n",
      "annapolis\n",
      "pittsburgh\n",
      "thousand_oaks\n"
     ]
    }
   ],
   "source": [
    "df = combine_all_tweets()\n",
    "df[['indices_in_original', 'event']].to_csv(BTM_DIR + 'indices_all.csv', index=False)\n",
    "with open(BTM_DIR + 'tweets_all.txt', 'w') as f:\n",
    "    f.write('\\n'.join(df['tweet']))"
   ]
  },
  {
   "cell_type": "markdown",
   "metadata": {},
   "source": [
    "## next step is to run BTM script: `sh myBTMexample.sh`"
   ]
  },
  {
   "cell_type": "markdown",
   "metadata": {},
   "source": [
    "Make sure to set `K` in the parameters and to user"
   ]
  }
 ],
 "metadata": {
  "kernelspec": {
   "display_name": "nlu",
   "language": "python",
   "name": "nlu"
  },
  "language_info": {
   "codemirror_mode": {
    "name": "ipython",
    "version": 3
   },
   "file_extension": ".py",
   "mimetype": "text/x-python",
   "name": "python",
   "nbconvert_exporter": "python",
   "pygments_lexer": "ipython3",
   "version": "3.6.4"
  }
 },
 "nbformat": 4,
 "nbformat_minor": 2
}
