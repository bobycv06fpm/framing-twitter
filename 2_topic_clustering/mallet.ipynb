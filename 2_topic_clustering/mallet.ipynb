{
 "cells": [
  {
   "cell_type": "code",
   "execution_count": 4,
   "metadata": {},
   "outputs": [],
   "source": [
    "% matplotlib inline\n",
    "import matplotlib.pyplot as plt\n",
    "from __future__ import division\n",
    "from gensim.models.wrappers import LdaMallet\n",
    "import numpy as np\n",
    "import pandas as pd\n",
    "import gensim.corpora as corpora\n",
    "import json\n",
    "from gensim.models import CoherenceModel\n",
    "from gensim.utils import SaveLoad"
   ]
  },
  {
   "cell_type": "code",
   "execution_count": 5,
   "metadata": {
    "collapsed": true
   },
   "outputs": [],
   "source": [
    "config = json.load(open('../config.json', 'r'))\n",
    "MALLET = config['MALLET']\n",
    "INPUT_DIR = config['INPUT_DIR']\n",
    "OUTPUT_DIR = config['OUTPUT_DIR']\n",
    "TWEET_DIR = config['TWEET_DIR']\n",
    "NUM_TOPICS = config['NUM_CLUSTERS']\n",
    "SEED = config['SEED']\n",
    "events = open(INPUT_DIR + 'event_names.txt', 'r').read().splitlines()"
   ]
  },
  {
   "cell_type": "markdown",
   "metadata": {},
   "source": [
    "## Get sample for computing topics"
   ]
  },
  {
   "cell_type": "code",
   "execution_count": 6,
   "metadata": {
    "collapsed": true
   },
   "outputs": [],
   "source": [
    "def get_samples():\n",
    "    tweets = []\n",
    "    event_names = []\n",
    "    sample_indices = []\n",
    "    for event in events:\n",
    "        all_tweets = open(TWEET_DIR + event + '/' + event + '_cleaned_text.txt', 'r').read().splitlines()\n",
    "        N = len(all_tweets)\n",
    "        print(event, N)\n",
    "        \n",
    "        # get tweets with embeddings\n",
    "        idx1 = np.load(TWEET_DIR + event + '/' + event + '_partisan_indices_among_cleaned_indices.npy')\n",
    "        all_tweets = [all_tweets[i] for i in idx1]\n",
    "        \n",
    "        # get sample for determining topics\n",
    "        idx2 = np.load(TWEET_DIR + event + '/' + event + '_indices_among_embeddings_for_getting_topics.npy')\n",
    "        all_tweets = [all_tweets[i] for i in idx2]\n",
    "        \n",
    "        # get indices among cleaned ones\n",
    "        filter1 = sorted(list(set(idx1) & set(range(N))))\n",
    "        filter2 = [filter1[j] for j in idx2]\n",
    "        sample_indices.extend(filter2)\n",
    "        \n",
    "        \n",
    "        event_names.extend([event] * len(all_tweets))\n",
    "        tweets.extend([t.split() for t in all_tweets])\n",
    "    df = pd.DataFrame({'tweet': tweets, 'event': event_names, 'index_in_clean_text': sample_indices})\n",
    "    return df"
   ]
  },
  {
   "cell_type": "code",
   "execution_count": 7,
   "metadata": {
    "scrolled": false
   },
   "outputs": [
    {
     "name": "stdout",
     "output_type": "stream",
     "text": [
      "chattanooga 29550\n",
      "roseburg 18042\n",
      "colorado_springs 55792\n",
      "san_bernardino 70452\n",
      "kalamazoo 10950\n",
      "orlando 1825759\n",
      "dallas 259736\n",
      "baton_rouge 46036\n",
      "burlington 8148\n",
      "fort_lauderdale 12514\n",
      "fresno 8850\n",
      "san_francisco 10484\n",
      "vegas 1284855\n",
      "thornton 14296\n",
      "sutherland_springs 153889\n",
      "parkland 272213\n",
      "nashville 38638\n",
      "santa_fe 73563\n",
      "annapolis 27673\n",
      "pittsburgh 59869\n",
      "thousand_oaks 117580\n"
     ]
    }
   ],
   "source": [
    "tweets = get_samples()"
   ]
  },
  {
   "cell_type": "code",
   "execution_count": 8,
   "metadata": {
    "scrolled": true
   },
   "outputs": [
    {
     "data": {
      "text/plain": [
       "0    [pray, for, the, citizen, of, after, a, domest...\n",
       "1    [from, shoot, prais, god, we, re, aliv, if, yo...\n",
       "2    [say, i, am, realli, realli, then, she, say, i...\n",
       "3    [suspect, in, tennesse, shoot, was, natur, us,...\n",
       "4    [when, the, murder, is, christian, the, attack...\n",
       "Name: tweet, dtype: object"
      ]
     },
     "execution_count": 8,
     "metadata": {},
     "output_type": "execute_result"
    }
   ],
   "source": [
    "tweets['tweet'].head()"
   ]
  },
  {
   "cell_type": "markdown",
   "metadata": {},
   "source": [
    "## run Mallet"
   ]
  },
  {
   "cell_type": "code",
   "execution_count": 12,
   "metadata": {
    "collapsed": true
   },
   "outputs": [],
   "source": [
    "# credits: https://www.machinelearningplus.com/nlp/topic-modeling-gensim-python/#16buildingldamalletmodel"
   ]
  },
  {
   "cell_type": "code",
   "execution_count": 9,
   "metadata": {
    "collapsed": true
   },
   "outputs": [],
   "source": [
    "texts = tweets['tweet']\n",
    "\n",
    "# Create Dictionary\n",
    "id2word = corpora.Dictionary(texts)\n",
    "\n",
    "# Term Document Frequency\n",
    "corpus = [id2word.doc2bow(t) for t in texts]"
   ]
  },
  {
   "cell_type": "code",
   "execution_count": 10,
   "metadata": {
    "collapsed": true
   },
   "outputs": [],
   "source": [
    "id2word.save(OUTPUT_DIR + 'ldamallet.dict')"
   ]
  },
  {
   "cell_type": "code",
   "execution_count": 11,
   "metadata": {},
   "outputs": [
    {
     "name": "stdout",
     "output_type": "stream",
     "text": [
      "[[(0, 1), (1, 1), (2, 1), (3, 1), (4, 1), (5, 1), (6, 1), (7, 1), (8, 1), (9, 1), (10, 1), (11, 1)]]\n"
     ]
    }
   ],
   "source": [
    "print(corpus[:1])"
   ]
  },
  {
   "cell_type": "code",
   "execution_count": 12,
   "metadata": {
    "collapsed": true
   },
   "outputs": [],
   "source": [
    "ldamallet = LdaMallet(MALLET, corpus=corpus, num_topics=NUM_TOPICS, workers=4, id2word=id2word, iterations=1000, random_seed = SEED)"
   ]
  },
  {
   "cell_type": "code",
   "execution_count": 13,
   "metadata": {
    "collapsed": true
   },
   "outputs": [],
   "source": [
    "ldamallet.save(OUTPUT_DIR + 'ldamallet_model_' + str(NUM_TOPICS) + '.pickle')"
   ]
  },
  {
   "cell_type": "code",
   "execution_count": 14,
   "metadata": {},
   "outputs": [
    {
     "data": {
      "text/plain": [
       "[(0,\n",
       "  '0.055*\"polic\" + 0.054*\"shot\" + 0.050*\"dead\" + 0.045*\"shooter\" + 0.038*\"shoot\" + 0.035*\"report\" + 0.035*\"suspect\" + 0.032*\"offic\" + 0.029*\"news\" + 0.022*\"airport\"'),\n",
       " (1,\n",
       "  '0.106*\"kill\" + 0.064*\"peopl\" + 0.049*\"shooter\" + 0.046*\"attack\" + 0.040*\"hous\" + 0.035*\"white\" + 0.024*\"terrorist\" + 0.023*\"plan\" + 0.021*\"man\" + 0.020*\"call\"'),\n",
       " (2,\n",
       "  '0.121*\"gun\" + 0.053*\"school\" + 0.032*\"church\" + 0.031*\"high\" + 0.023*\"stop\" + 0.020*\"control\" + 0.020*\"law\" + 0.019*\"texa\" + 0.016*\"parkland\" + 0.013*\"student\"'),\n",
       " (3,\n",
       "  '0.080*\"shoot\" + 0.079*\"victim\" + 0.035*\"famili\" + 0.035*\"san\" + 0.034*\"prayer\" + 0.027*\"today\" + 0.026*\"live\" + 0.024*\"anoth\" + 0.023*\"thought\" + 0.022*\"bernardino\"'),\n",
       " (4,\n",
       "  '0.027*\"trump\" + 0.023*\"don\" + 0.019*\"happen\" + 0.018*\"whi\" + 0.018*\"time\" + 0.016*\"make\" + 0.015*\"obama\" + 0.013*\"becaus\" + 0.012*\"america\" + 0.012*\"blame\"'),\n",
       " (5,\n",
       "  '0.190*\"shoot\" + 0.043*\"mass\" + 0.033*\"vega\" + 0.027*\"gunman\" + 0.025*\"orlando\" + 0.022*\"thousand\" + 0.021*\"las\" + 0.019*\"massacr\" + 0.016*\"shooter\" + 0.015*\"year\"')]"
      ]
     },
     "execution_count": 14,
     "metadata": {},
     "output_type": "execute_result"
    }
   ],
   "source": [
    "ldamallet.show_topics(formatted=True)"
   ]
  },
  {
   "cell_type": "code",
   "execution_count": 15,
   "metadata": {
    "collapsed": true
   },
   "outputs": [],
   "source": [
    "keywords_mapper = {i: \", \".join([word for word, prop in ldamallet.show_topic(i)]) for i in range(ldamallet.num_topics)}"
   ]
  },
  {
   "cell_type": "code",
   "execution_count": 16,
   "metadata": {
    "collapsed": true
   },
   "outputs": [],
   "source": [
    "with open(OUTPUT_DIR + 'mallet_' + str(NUM_TOPICS) + '_words.json', 'w') as f:\n",
    "    f.write(json.dumps(keywords_mapper))"
   ]
  },
  {
   "cell_type": "code",
   "execution_count": 17,
   "metadata": {},
   "outputs": [
    {
     "name": "stdout",
     "output_type": "stream",
     "text": [
      "\n",
      "Coherence Score:  0.4287694000446977\n"
     ]
    }
   ],
   "source": [
    "coherence_model_ldamallet = CoherenceModel(model=ldamallet, texts=texts, dictionary=id2word, coherence='c_v')\n",
    "coherence_ldamallet = coherence_model_ldamallet.get_coherence()\n",
    "print('\\nCoherence Score: ', coherence_ldamallet)"
   ]
  },
  {
   "cell_type": "markdown",
   "metadata": {},
   "source": [
    "## get most dominant topics for each tweet"
   ]
  },
  {
   "cell_type": "code",
   "execution_count": 33,
   "metadata": {},
   "outputs": [
    {
     "data": {
      "text/plain": [
       "[(0, 0.16091954022988506),\n",
       " (1, 0.16091954022988506),\n",
       " (2, 0.14367816091954025),\n",
       " (3, 0.14559386973180077),\n",
       " (4, 0.1532567049808429),\n",
       " (5, 0.23563218390804594)]"
      ]
     },
     "execution_count": 33,
     "metadata": {},
     "output_type": "execute_result"
    }
   ],
   "source": [
    "ldamallet[corpus[0]]   # this takes forever to run, so you have to run it on the whole corpus at once"
   ]
  },
  {
   "cell_type": "code",
   "execution_count": null,
   "metadata": {
    "collapsed": true
   },
   "outputs": [],
   "source": [
    "# load\n",
    "id2word = SaveLoad.load(OUTPUT_DIR + 'ldamallet.dict')\n",
    "ldamallet = SaveLoad.load(OUTPUT_DIR + 'ldamallet_model_' + str(NUM_TOPICS) + '.pickle')"
   ]
  },
  {
   "cell_type": "code",
   "execution_count": 18,
   "metadata": {
    "collapsed": true
   },
   "outputs": [],
   "source": [
    "def get_topic_assignments(event):\n",
    "    print(event)\n",
    "    \n",
    "    # get tweets for which we have embeddings\n",
    "    tweets = open(TWEET_DIR + event + '/' + event + '_cleaned_text.txt', 'r').read().splitlines()\n",
    "    idx1 = np.load(TWEET_DIR + event + '/' + event + '_partisan_indices_among_cleaned_indices.npy')\n",
    "    tweets = [tweets[i] for i in idx1]\n",
    "    \n",
    "    # get indices of these tweets in the original data\n",
    "    original_indices = np.load(TWEET_DIR + event + '/' + event + '_cleaned_and_partisan_indices.npy')\n",
    "    \n",
    "    # get topics\n",
    "    corpus = [id2word.doc2bow(t.split()) for t in tweets]\n",
    "    pred_topics = ldamallet[corpus]\n",
    "    \n",
    "    dicts = []\n",
    "    for row in pred_topics:\n",
    "        d = {}\n",
    "        for i, (topic, prob) in enumerate(sorted(row, key=lambda x: (x[1]), reverse=True)):\n",
    "            d['topic_' + str(i)] = topic  # ith closest topic\n",
    "            d['prob_' + str(i)] = prob  # probability of ith closest topic\n",
    "        dicts.append(d)\n",
    "    df = pd.DataFrame(dicts)\n",
    "    df['indices_in_original'] = original_indices\n",
    "    df.to_csv(TWEET_DIR + event + '/' + event + '_mallet_topics_' + str(NUM_TOPICS) + '.csv', index=False)"
   ]
  },
  {
   "cell_type": "code",
   "execution_count": 19,
   "metadata": {},
   "outputs": [
    {
     "name": "stdout",
     "output_type": "stream",
     "text": [
      "chattanooga\n",
      "roseburg\n",
      "colorado_springs\n",
      "san_bernardino\n",
      "kalamazoo\n",
      "orlando\n",
      "dallas\n",
      "baton_rouge\n",
      "burlington\n",
      "fort_lauderdale\n",
      "fresno\n",
      "san_francisco\n",
      "vegas\n",
      "thornton\n",
      "sutherland_springs\n",
      "parkland\n",
      "nashville\n",
      "santa_fe\n",
      "annapolis\n",
      "pittsburgh\n",
      "thousand_oaks\n"
     ]
    }
   ],
   "source": [
    "for event in events:\n",
    "    get_topic_assignments(event)"
   ]
  },
  {
   "cell_type": "markdown",
   "metadata": {},
   "source": [
    "## get the topics for the docs that LdaMallet was trained on"
   ]
  },
  {
   "cell_type": "code",
   "execution_count": 68,
   "metadata": {
    "collapsed": true,
    "scrolled": true
   },
   "outputs": [],
   "source": [
    "top_topic = []\n",
    "top_perc = []\n",
    "for i, t in enumerate(ldamallet.load_document_topics()):\n",
    "    topic, perc = sorted(t, key=lambda x: (x[1]), reverse=True)[0]\n",
    "    top_topic.append(topic)\n",
    "    top_perc.append(perc)"
   ]
  },
  {
   "cell_type": "code",
   "execution_count": 74,
   "metadata": {
    "collapsed": true
   },
   "outputs": [],
   "source": [
    "tweets['topic_no'] = top_topic\n",
    "tweets['top_perc'] = top_perc\n",
    "tweets['topic_words'] = tweets['topic_no'].map(keywords_mapper)"
   ]
  },
  {
   "cell_type": "code",
   "execution_count": 78,
   "metadata": {},
   "outputs": [
    {
     "data": {
      "text/plain": [
       "(array([1.1996e+04, 3.8299e+04, 5.1286e+04, 3.1692e+04, 2.4731e+04,\n",
       "        1.4578e+04, 8.5270e+03, 5.3660e+03, 2.1770e+03, 1.1570e+03,\n",
       "        6.0000e+02, 2.4000e+02, 1.1200e+02, 5.0000e+01, 2.3000e+01,\n",
       "        1.5000e+01, 2.0000e+00, 1.0000e+00, 1.0000e+00, 2.0000e+00]),\n",
       " array([0.16666667, 0.17986891, 0.19307116, 0.20627341, 0.21947566,\n",
       "        0.2326779 , 0.24588015, 0.2590824 , 0.27228464, 0.28548689,\n",
       "        0.29868914, 0.31189139, 0.32509363, 0.33829588, 0.35149813,\n",
       "        0.36470037, 0.37790262, 0.39110487, 0.40430712, 0.41750936,\n",
       "        0.43071161]),\n",
       " <a list of 20 Patch objects>)"
      ]
     },
     "execution_count": 78,
     "metadata": {},
     "output_type": "execute_result"
    },
    {
     "data": {
      "image/png": "[encoded data removed]",
      "text/plain": [
       "<Figure size 432x288 with 1 Axes>"
      ]
     },
     "metadata": {},
     "output_type": "display_data"
    }
   ],
   "source": [
    "plt.hist(tweets['top_perc'], bins=20)"
   ]
  },
  {
   "cell_type": "code",
   "execution_count": 80,
   "metadata": {
    "scrolled": true
   },
   "outputs": [
    {
     "name": "stdout",
     "output_type": "stream",
     "text": [
      "gun, school, church, high, law, control, texa, parkland, violenc, student\n",
      "143835    [aurora, gun, free, zone, orlando, gun, free, ...\n",
      "135022    [high, school, februari, dougla, high, school,...\n",
      "134246    [sandi, hook, gun, free, zone, puls, nightclub...\n",
      "151848    [shooter, in, stole, gun, from, his, dad, tx, ...\n",
      "151368    [run, on, the, hot, topic, of, gun, control, t...\n",
      "154696    [i, didn, t, propos, to, lock, up, law, abid, ...\n",
      "159444    [texa, gun, law, no, background, check, no, no...\n",
      "157612    [univers, background, check, it, s, too, easi,...\n",
      "135936    [yesterday, fl, suffer, an, horrif, tragedi, i...\n",
      "140271    [i, ve, been, a, teacher, at, a, high, school,...\n",
      "6268      [gun, free, zone, #sandyhook, gun, free, zone,...\n",
      "132498    [whi, not, just, a, ban, on, gun, a, univers, ...\n",
      "131326    [gun, obsess, cruz, was, abl, to, easili, purc...\n",
      "131371    [a, texa, high, school, teacher, is, on, leav,...\n",
      "137767    [to, everi, year, old, student, at, dougla, hi...\n",
      "126307    [too, mani, gun, restrict, in, texa, church, a...\n",
      "148297    [not, all, gun, owner, i, know, mani, true, re...\n",
      "131644    [i, am, a, citizen, of, america, a, democrat, ...\n",
      "160369    [oh, yes, pleas, turn, our, school, into, pris...\n",
      "137354    [yes, kid, in, high, school, are, lead, but, m...\n",
      "Name: tweet, dtype: object\n",
      "---------\n",
      "kill, peopl, hous, shooter, white, terrorist, whi, man, guy, cop\n",
      "144053    [realdonaldtrump, whi, is, there, no, word, ou...\n",
      "145004    [realdonaldtrump, thank, you, for, prais, rega...\n",
      "142544    [such, as, alway, whi, don, t, you, tweet, abo...\n",
      "144398    [hey, a, white, boy, shot, up, the, hous, and,...\n",
      "150308    [on, tv, stop, say, that, a, man, walk, into, ...\n",
      "143547    [each, of, the, lynch, of, black, peopl, said,...\n",
      "145286    [realdonaldtrump, you, must, not, have, heard,...\n",
      "146933    [one, person, kill, in, pari, four, black, wer...\n",
      "150807    [hey, how, come, you, haven, t, the, hero, who...\n",
      "147298    [realdonaldtrump, hey, you, racist, piec, of, ...\n",
      "142382    [hous, killer, is, white, american, male, a, r...\n",
      "148837    [i, wonder, whi, too, he, hasn, t, acknowledg,...\n",
      "143255    [this, white, supremacist, hasn, t, acknowledg...\n",
      "148726    [you, are, the, you, tweet, about, a, who, onl...\n",
      "71400     [cop, kill, man, man, kill, cop, cop, kill, ma...\n",
      "140859    [he, s, not, go, to, say, anyth, about, a, men...\n",
      "142851    [realdonaldtrump, funni, how, you, haven, t, a...\n",
      "147494    [and, i, cannot, help, but, notic, the, racial...\n",
      "145055    [a, man, name, jame, save, live, in, tennesse,...\n",
      "148521    [realdonaldtrump, care, to, comment, white, ra...\n",
      "Name: tweet, dtype: object\n",
      "---------\n",
      "polic, shoot, shot, dead, report, suspect, san, offic, shooter, news\n",
      "150910    [multipl, local, news, sourc, are, now, report...\n",
      "84527     [fort, fla, ap, sheriff, s, offic, multipl, pe...\n",
      "88949     [#break, fort, fla, ap, sheriff, s, offic, dea...\n",
      "143210    [dead, sever, other, injur, when, gunman, open...\n",
      "170041    [updat, five, dead, sever, injur, in, shoot, a...\n",
      "88663     [#break, ft, fla, ap, sheriff, s, offic, multi...\n",
      "169128    [updat, polic, confirm, the, capit, build, in,...\n",
      "68175     [break, news, polic, offic, fear, dead, confir...\n",
      "166849    [break, news, a, multipl, shoot, has, just, oc...\n",
      "168922    [break, news, polic, now, confirm, at, least, ...\n",
      "161487    [multipl, polic, agenc, respond, to, activ, sh...\n",
      "35400     [#break, of, activ, in, san, bernardino, as, p...\n",
      "84240     [fort, fla, ap, sheriff, s, offic, dead, wound...\n",
      "76422     [sheriff, offic, shot, polic, offic, dead, she...\n",
      "83549     [#break, report, of, multipl, shot, fire, at, ...\n",
      "82016     [ft, fla, ap, report, shot, fire, at, ft, airp...\n",
      "75137     [break, shoot, latest, polic, offic, shot, dea...\n",
      "82158     [break, multipl, dead, in, shoot, at, fort, ho...\n",
      "88792     [multipl, peopl, are, dead, after, a, gunman, ...\n",
      "85915     [break, report, of, shot, fire, at, fort, holl...\n",
      "Name: tweet, dtype: object\n",
      "---------\n",
      "shoot, trump, orlando, life, attack, capit, massacr, obama, media, call\n",
      "161931    [will, now, allow, half, staff, flag, tribut, ...\n",
      "164758    [trump, deni, mayor, s, to, lower, american, f...\n",
      "165884    [msnbc, report, the, wh, has, the, from, s, ma...\n",
      "5968      [flag, to, fli, at, half, staff, flag, will, f...\n",
      "164349    [break, trump, deni, mayor, s, to, lower, amer...\n",
      "8718      [final, to, social, media, obama, order, flag,...\n",
      "161304    [from, presid, trump, fli, the, unit, state, f...\n",
      "162623    [trump, has, order, flag, across, the, countri...\n",
      "166184    [white, hous, flag, half, staff, for, capit, v...\n",
      "168386    [governor, order, flag, to, be, lower, to, hal...\n",
      "169331    [your, stori, is, fals, just, like, your, cove...\n",
      "161258    [at, the, game, vs, red, tonight, for, as, the...\n",
      "162661    [to, honor, the, shoot, victim, in, gov, order...\n",
      "168533    [btw, break, trump, deni, mayor, s, to, lower,...\n",
      "162463    [just, in, presid, trump, order, flag, fli, at...\n",
      "164287    [donald, trump, s, speak, than, his, 3rd, spee...\n",
      "169463    [governor, j, is, direct, flag, across, the, s...\n",
      "162689    [our, nation, griev, with, those, affect, by, ...\n",
      "162657    [trump, won, t, lower, flag, to, capit, victim...\n",
      "167953    [mayor, democrat, made, a, to, trump, for, to,...\n",
      "Name: tweet, dtype: object\n",
      "---------\n",
      "shoot, victim, mass, famili, prayer, vega, today, anoth, thought, thousand\n",
      "151620    [columbin, day, virginia, tech, day, aurora, d...\n",
      "152246    [columbin, day, virginia, tech, day, aurora, d...\n",
      "108133    [bless, be, las, vega, our, condol, and, sympa...\n",
      "128064    [reason, we, will, you, if, you, don, t, act, ...\n",
      "109492    [my, heart, goe, out, to, to, the, victim, and...\n",
      "103238    [the, horrif, las, vega, concert, shoot, is, n...\n",
      "103375    [i, m, so, horrifi, by, the, tragedi, that, oc...\n",
      "15575     [horribl, horribl, sad, news, out, of, anoth, ...\n",
      "103933    [my, heart, goe, out, to, the, victim, and, fa...\n",
      "105033    [i, offer, my, deepest, condol, to, those, who...\n",
      "19972     [condol, to, everyon, affect, by, the, shoot, ...\n",
      "185690    [anoth, day, anoth, mass, shoot, my, heart, go...\n",
      "106166    [my, heart, is, in, pain, and, my, deepest, co...\n",
      "17033     [our, thought, deepest, condol, go, out, to, t...\n",
      "177304    [condol, thought, amp, prayer, be, sent, to, t...\n",
      "16326     [my, heart, is, hurt, hear, there, s, been, an...\n",
      "102175    [my, heartfelt, thought, prayer, are, with, th...\n",
      "105807    [such, heartbreak, new, this, morn, hear, of, ...\n",
      "165183    [prayer, for, the, victim, fight, for, their, ...\n",
      "161643    [victim, in, the, mass, shoot, at, the, is, th...\n",
      "Name: tweet, dtype: object\n",
      "---------\n",
      "shooter, attack, plan, dalla, happen, don, terror, time, blame, make\n",
      "152168    [you, do, realiz, that, the, one, on, the, lef...\n",
      "167312    [everyth, is, someon, s, els, s, fault, make, ...\n",
      "138306    [might, be, the, most, honest, thing, i, ve, h...\n",
      "5813      [who, s, to, blame, #obama, who, s, to, blame,...\n",
      "66585     [do, not, blame, blm, for, the, dalla, shoot, ...\n",
      "169565    [we, still, do, not, know, anyth, about, the, ...\n",
      "168961    [it, the, fault, of, all, those, and, sleep, i...\n",
      "170684    [#maga, are, alreadi, tri, to, figur, out, how...\n",
      "66482     [no, one, should, rule, out, this, may, be, an...\n",
      "23058     [plan, shooter, was, a, bank, at, the, local, ...\n",
      "56829     [terror, is, ani, act, commit, with, the, inte...\n",
      "21500     [plan, is, an, abort, plan, babi, organ, oh, s...\n",
      "105273    [has, anyon, els, heard, the, theori, that, ve...\n",
      "154943    [u, realli, kill, out, of, reveng, to, just, f...\n",
      "132488    [i, am, disgust, that, the, l, bank, of, and, ...\n",
      "140285    [fbi, say, it, didn, t, act, on, tip, about, p...\n",
      "27607     [question, whether, colorado, spring, shooter,...\n",
      "28092     [domest, terror, is, a, much, threat, than, is...\n",
      "49114     [#orlando, shooter, i, am, a, soldier, of, isi...\n",
      "126547    [anyon, shoot, up, a, church, is, an, evil, co...\n",
      "Name: tweet, dtype: object\n",
      "---------\n"
     ]
    }
   ],
   "source": [
    "# most representative tweet for each topic\n",
    "for i, g in tweets.groupby(['topic_words']):\n",
    "    print(i)\n",
    "    print(g.sort_values('top_perc', ascending = False).tweet[:20])\n",
    "    print('---------')"
   ]
  },
  {
   "cell_type": "markdown",
   "metadata": {},
   "source": [
    "## sample tweets for MTurk evaluation"
   ]
  },
  {
   "cell_type": "code",
   "execution_count": null,
   "metadata": {
    "collapsed": true
   },
   "outputs": [],
   "source": [
    "# sample an equal number of tweets from each event\n",
    "sample_size = 20\n",
    "20 * 21"
   ]
  }
 ],
 "metadata": {
  "kernelspec": {
   "display_name": "nlu",
   "language": "python",
   "name": "nlu"
  }
 },
 "nbformat": 4,
 "nbformat_minor": 2
}
