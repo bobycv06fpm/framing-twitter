{
 "cells": [
  {
   "cell_type": "code",
   "execution_count": 6,
   "metadata": {
    "collapsed": true
   },
   "outputs": [],
   "source": [
    "import pandas as pd\n",
    "import json"
   ]
  },
  {
   "cell_type": "code",
   "execution_count": 7,
   "metadata": {
    "collapsed": true
   },
   "outputs": [],
   "source": [
    "config = json.load(open('../config.json', 'r'))\n",
    "DATA_DIR = config['INPUT_DIR']\n",
    "TWEET_DIR = config['TWEET_DIR']\n",
    "events = open(DATA_DIR + 'event_names.txt', 'r').read().splitlines()"
   ]
  },
  {
   "cell_type": "code",
   "execution_count": 10,
   "metadata": {
    "collapsed": true
   },
   "outputs": [],
   "source": [
    "for e in events:\n",
    "    data = pd.read_csv(TWEET_DIR + e + '/' + e + '.csv', sep='\\t', encoding='utf-8', lineterminator='\\n', usecols=['id'])\n",
    "    with open(DATA_DIR + 'tweet_ids/' + e + '.txt', 'w') as f:\n",
    "        f.write('\\n'.join([str(i) for i in data['id']]))"
   ]
  },
  {
   "cell_type": "code",
   "execution_count": null,
   "metadata": {
    "collapsed": true
   },
   "outputs": [],
   "source": []
  }
 ],
 "metadata": {
  "kernelspec": {
   "display_name": "nlu",
   "language": "python",
   "name": "nlu"
  },
  "language_info": {
   "codemirror_mode": {
    "name": "ipython",
    "version": 3
   },
   "file_extension": ".py",
   "mimetype": "text/x-python",
   "name": "python",
   "nbconvert_exporter": "python",
   "pygments_lexer": "ipython3",
   "version": "3.6.4"
  }
 },
 "nbformat": 4,
 "nbformat_minor": 2
}
