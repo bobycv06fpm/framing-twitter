{
 "cells": [
  {
   "cell_type": "code",
   "execution_count": 1,
   "metadata": {
    "collapsed": true
   },
   "outputs": [],
   "source": [
    "import pandas as pd\n",
    "import json\n",
    "import numpy as np"
   ]
  },
  {
   "cell_type": "code",
   "execution_count": 2,
   "metadata": {
    "collapsed": true
   },
   "outputs": [],
   "source": [
    "config = json.load(open('../config.json', 'r'))\n",
    "DATA_DIR = config['DATA_DIR']\n",
    "TWEET_DIR = config['TWEET_DIR']\n",
    "NUM_CLUSTERS = config['NUM_CLUSTERS']\n",
    "events = open(DATA_DIR + 'event_names.txt', 'r').read().splitlines()"
   ]
  },
  {
   "cell_type": "code",
   "execution_count": 3,
   "metadata": {
    "collapsed": true
   },
   "outputs": [],
   "source": [
    "#data_filter_method = '_noRT' # make sure to include underscore\n",
    "data_filter_method = '_clustered'\n",
    "cluster_method = '_relative'\n",
    "#cluster_method = ''"
   ]
  },
  {
   "cell_type": "code",
   "execution_count": 4,
   "metadata": {
    "collapsed": true
   },
   "outputs": [],
   "source": [
    "time_dict = json.load(open(DATA_DIR + \"event_year.json\",\"r\"))\n",
    "shooter_race = json.load(open(DATA_DIR + \"shooters_race.json\",\"r\"))\n",
    "polarization_dict = json.load(open(DATA_DIR + \"polarization\"+data_filter_method+ cluster_method+\".json\",\"r\"))"
   ]
  },
  {
   "cell_type": "code",
   "execution_count": 5,
   "metadata": {
    "collapsed": true
   },
   "outputs": [],
   "source": [
    "between_topic_pol = json.load(open(DATA_DIR + \"between_topic_polarization\"+cluster_method+\".json\",\"r\"))"
   ]
  },
  {
   "cell_type": "markdown",
   "metadata": {},
   "source": [
    "## plotting overall polarization"
   ]
  },
  {
   "cell_type": "code",
   "execution_count": 6,
   "metadata": {
    "collapsed": true
   },
   "outputs": [],
   "source": [
    "x = []\n",
    "y = []\n",
    "y_random = []\n",
    "labels=[]\n",
    "ex = ['fort_lauderdale']  # we exclude Fort Lauderdale because we only have data for the first day after the shooting\n",
    "for e, t in time_dict.items():\n",
    "    if e in ex:\n",
    "        continue\n",
    "    label = e.split('_')\n",
    "    new_label = []\n",
    "    for l in label:\n",
    "        new_label.append(l[0].upper() + l[1:])\n",
    "    new_label = ' '.join(new_label)\n",
    "    \n",
    "    x_val = float(2000+t)\n",
    "    y_val = float(polarization_dict[e][0])\n",
    "    y_random_val = float(float(polarization_dict[e][1]))\n",
    "    x.append(x_val)\n",
    "    y.append(y_val)\n",
    "    y_random.append(y_random_val)\n",
    "    labels.append(new_label)\n",
    "    #labels.append(plt.text(x_val, y_val, new_label, fontsize=8))\n",
    "df = pd.DataFrame.from_dict({'year':np.array(x * 2), 'polarization':np.array(y + y_random), 'label':labels * 2, 'is_actual':['actual value']* len(y) + ['value resulting from random party assignment']* len(y)})\n",
    "df.to_csv(DATA_DIR + \"polarization\"+data_filter_method+cluster_method+\".csv\", index=False)\n"
   ]
  },
  {
   "cell_type": "markdown",
   "metadata": {},
   "source": [
    "## plotting within vs between topic polarization"
   ]
  },
  {
   "cell_type": "code",
   "execution_count": 22,
   "metadata": {},
   "outputs": [
    {
     "name": "stdout",
     "output_type": "stream",
     "text": [
      "annapolis 14724\n",
      "baton_rouge 22806\n",
      "burlington 4173\n",
      "chattanooga 16580\n",
      "colorado_springs 31400\n",
      "dallas 112359\n",
      "fresno 4894\n",
      "kalamazoo 5541\n",
      "nashville 19999\n",
      "orlando 648574\n",
      "parkland 141261\n",
      "pittsburgh 29072\n",
      "roseburg 9366\n",
      "san_bernardino 36324\n",
      "san_francisco 5369\n",
      "santa_fe 33721\n",
      "sutherland_springs 80844\n",
      "thornton 7411\n",
      "thousand_oaks 46897\n",
      "vegas 531495\n"
     ]
    }
   ],
   "source": [
    "x = []\n",
    "y_between = []\n",
    "y_within = []\n",
    "labels=[]\n",
    "race = []\n",
    "ex = ['fort_lauderdale']\n",
    "for e, t in time_dict.items():\n",
    "    if e in ex:\n",
    "        continue\n",
    "    label = e.split('_')\n",
    "    new_label = []\n",
    "    for l in label:\n",
    "        new_label.append(l[0].upper() + l[1:])\n",
    "    new_label = ' '.join(new_label)\n",
    "    \n",
    "    within_topic_pol = json.load(open(TWEET_DIR +e+\"/\"+e+\"_topic_polarization\"+cluster_method+\".json\",\"r\"))\n",
    "    \n",
    "    # get the topic proportions\n",
    "    topics = np.load(TWEET_DIR + e + '/' + e + '_cluster_labels_' + str(NUM_CLUSTERS) + cluster_method + '.npy')\n",
    "    print(e, len(topics))\n",
    "    within_topic_pol_val = (np.array([float(within_topic_pol[str(i)][0]) for i in range(NUM_CLUSTERS)]) * np.bincount(topics)).sum() / len(topics)\n",
    "    \n",
    "    x_val = float(2000+t)\n",
    "    y_between_val = float(between_topic_pol[e][0])\n",
    "    y_within_val = within_topic_pol_val\n",
    "    x.append(x_val)\n",
    "    y_between.append(y_between_val)\n",
    "    y_within.append(y_within_val)\n",
    "    labels.append(new_label)\n",
    "    race.append(shooter_race[e])\n",
    "    #labels.append(plt.text(x_val, y_val, new_label, fontsize=8))\n",
    "df = pd.DataFrame.from_dict({'year':np.array(x * 2), 'polarization':np.array(y_between + y_within), 'label':labels * 2, 'kind':['between-topic']* len(y_between) + ['within-topic']* len(y_within), 'race':race * 2})\n",
    "df.to_csv(DATA_DIR + \"topic_polarization\"+cluster_method+\".csv\", index=False)"
   ]
  },
  {
   "cell_type": "code",
   "execution_count": null,
   "metadata": {
    "collapsed": true
   },
   "outputs": [],
   "source": []
  }
 ],
 "metadata": {
  "kernelspec": {
   "display_name": "nlu",
   "language": "python",
   "name": "nlu"
  },
  "language_info": {
   "codemirror_mode": {
    "name": "ipython",
    "version": 3
   },
   "file_extension": ".py",
   "mimetype": "text/x-python",
   "name": "python",
   "nbconvert_exporter": "python",
   "pygments_lexer": "ipython3",
   "version": "3.6.4"
  }
 },
 "nbformat": 4,
 "nbformat_minor": 2
}
